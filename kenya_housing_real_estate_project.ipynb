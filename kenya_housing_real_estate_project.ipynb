{
 "cells": [
  {
   "cell_type": "code",
   "execution_count": 1,
   "id": "e1f3d55b-ecc6-470f-9e33-64978983872a",
   "metadata": {},
   "outputs": [],
   "source": [
    "import pandas as pd\n",
    "import numpy as np\n",
    "from matplotlib import pyplot as plt\n",
    "from sklearn.model_selection import train_test_split\n",
    "from sklearn.model_selection import ShuffleSplit\n",
    "from sklearn.model_selection import cross_val_score\n",
    "from sklearn.model_selection import GridSearchCV\n",
    "from sklearn.linear_model import Lasso\n",
    "from sklearn.linear_model import LinearRegression\n",
    "from sklearn.tree import DecisionTreeRegressor\n",
    "from sklearn import svm\n",
    "from sklearn.ensemble import RandomForestClassifier\n",
    "from sklearn.linear_model import LogisticRegression\n",
    "import pickle\n",
    "import json\n",
    "%matplotlib inline\n"
   ]
  },
  {
   "cell_type": "code",
   "execution_count": 2,
   "id": "a0eba803-da36-4710-af4b-6ee6c1cb367d",
   "metadata": {},
   "outputs": [
    {
     "data": {
      "text/html": [
       "<div>\n",
       "<style scoped>\n",
       "    .dataframe tbody tr th:only-of-type {\n",
       "        vertical-align: middle;\n",
       "    }\n",
       "\n",
       "    .dataframe tbody tr th {\n",
       "        vertical-align: top;\n",
       "    }\n",
       "\n",
       "    .dataframe thead th {\n",
       "        text-align: right;\n",
       "    }\n",
       "</style>\n",
       "<table border=\"1\" class=\"dataframe\">\n",
       "  <thead>\n",
       "    <tr style=\"text-align: right;\">\n",
       "      <th></th>\n",
       "      <th>Agency</th>\n",
       "      <th>Neighborhood</th>\n",
       "      <th>Price</th>\n",
       "      <th>link</th>\n",
       "      <th>sq_mtrs</th>\n",
       "      <th>Bedrooms</th>\n",
       "      <th>Bathrooms</th>\n",
       "    </tr>\n",
       "  </thead>\n",
       "  <tbody>\n",
       "    <tr>\n",
       "      <th>0</th>\n",
       "      <td>Buy Rent Shelters</td>\n",
       "      <td>General Mathenge, Westlands</td>\n",
       "      <td>KSh 155,000</td>\n",
       "      <td>/listings/4-bedroom-apartment-for-rent-general...</td>\n",
       "      <td>4.0</td>\n",
       "      <td>4.0</td>\n",
       "      <td>4.0</td>\n",
       "    </tr>\n",
       "    <tr>\n",
       "      <th>1</th>\n",
       "      <td>Kenya Classic Homes</td>\n",
       "      <td>Kilimani, Dagoretti North</td>\n",
       "      <td>KSh 100,000</td>\n",
       "      <td>/listings/3-bedroom-apartment-for-rent-kiliman...</td>\n",
       "      <td>300.0</td>\n",
       "      <td>3.0</td>\n",
       "      <td>4.0</td>\n",
       "    </tr>\n",
       "    <tr>\n",
       "      <th>2</th>\n",
       "      <td>Absolute Estate Agents</td>\n",
       "      <td>Hatheru Rd,, Lavington, Dagoretti North</td>\n",
       "      <td>KSh 75,000</td>\n",
       "      <td>/listings/3-bedroom-apartment-for-rent-lavingt...</td>\n",
       "      <td>3.0</td>\n",
       "      <td>3.0</td>\n",
       "      <td>5.0</td>\n",
       "    </tr>\n",
       "    <tr>\n",
       "      <th>3</th>\n",
       "      <td>A1 Properties Limited</td>\n",
       "      <td>Kilimani, Dagoretti North</td>\n",
       "      <td>KSh 135,000</td>\n",
       "      <td>/listings/3-bedroom-apartment-for-rent-kiliman...</td>\n",
       "      <td>227.0</td>\n",
       "      <td>3.0</td>\n",
       "      <td>4.0</td>\n",
       "    </tr>\n",
       "    <tr>\n",
       "      <th>4</th>\n",
       "      <td>Pmc Estates Limited</td>\n",
       "      <td>Imara Daima, Embakasi</td>\n",
       "      <td>KSh 50,000</td>\n",
       "      <td>/listings/3-bedroom-apartment-for-rent-imara-d...</td>\n",
       "      <td>3.0</td>\n",
       "      <td>3.0</td>\n",
       "      <td>NaN</td>\n",
       "    </tr>\n",
       "  </tbody>\n",
       "</table>\n",
       "</div>"
      ],
      "text/plain": [
       "                   Agency                             Neighborhood  \\\n",
       "0       Buy Rent Shelters              General Mathenge, Westlands   \n",
       "1     Kenya Classic Homes                Kilimani, Dagoretti North   \n",
       "2  Absolute Estate Agents  Hatheru Rd,, Lavington, Dagoretti North   \n",
       "3   A1 Properties Limited                Kilimani, Dagoretti North   \n",
       "4     Pmc Estates Limited                    Imara Daima, Embakasi   \n",
       "\n",
       "         Price                                               link  sq_mtrs  \\\n",
       "0  KSh 155,000  /listings/4-bedroom-apartment-for-rent-general...      4.0   \n",
       "1  KSh 100,000  /listings/3-bedroom-apartment-for-rent-kiliman...    300.0   \n",
       "2   KSh 75,000  /listings/3-bedroom-apartment-for-rent-lavingt...      3.0   \n",
       "3  KSh 135,000  /listings/3-bedroom-apartment-for-rent-kiliman...    227.0   \n",
       "4   KSh 50,000  /listings/3-bedroom-apartment-for-rent-imara-d...      3.0   \n",
       "\n",
       "   Bedrooms  Bathrooms  \n",
       "0       4.0        4.0  \n",
       "1       3.0        4.0  \n",
       "2       3.0        5.0  \n",
       "3       3.0        4.0  \n",
       "4       3.0        NaN  "
      ]
     },
     "execution_count": 2,
     "metadata": {},
     "output_type": "execute_result"
    }
   ],
   "source": [
    "df1 = pd.read_csv('data/rent_apts.csv')\n",
    "df1.head()"
   ]
  },
  {
   "cell_type": "code",
   "execution_count": 3,
   "id": "0b4fbb8c-0bfb-4073-b587-211f1e0d0785",
   "metadata": {},
   "outputs": [
    {
     "data": {
      "text/html": [
       "<div>\n",
       "<style scoped>\n",
       "    .dataframe tbody tr th:only-of-type {\n",
       "        vertical-align: middle;\n",
       "    }\n",
       "\n",
       "    .dataframe tbody tr th {\n",
       "        vertical-align: top;\n",
       "    }\n",
       "\n",
       "    .dataframe thead th {\n",
       "        text-align: right;\n",
       "    }\n",
       "</style>\n",
       "<table border=\"1\" class=\"dataframe\">\n",
       "  <thead>\n",
       "    <tr style=\"text-align: right;\">\n",
       "      <th></th>\n",
       "      <th>sq_mtrs</th>\n",
       "      <th>Bedrooms</th>\n",
       "      <th>Bathrooms</th>\n",
       "    </tr>\n",
       "  </thead>\n",
       "  <tbody>\n",
       "    <tr>\n",
       "      <th>count</th>\n",
       "      <td>1846.000000</td>\n",
       "      <td>1845.000000</td>\n",
       "      <td>1557.000000</td>\n",
       "    </tr>\n",
       "    <tr>\n",
       "      <th>mean</th>\n",
       "      <td>327.226977</td>\n",
       "      <td>2.577778</td>\n",
       "      <td>2.595376</td>\n",
       "    </tr>\n",
       "    <tr>\n",
       "      <th>std</th>\n",
       "      <td>2048.784581</td>\n",
       "      <td>0.819399</td>\n",
       "      <td>1.000349</td>\n",
       "    </tr>\n",
       "    <tr>\n",
       "      <th>min</th>\n",
       "      <td>0.000000</td>\n",
       "      <td>0.000000</td>\n",
       "      <td>1.000000</td>\n",
       "    </tr>\n",
       "    <tr>\n",
       "      <th>25%</th>\n",
       "      <td>2.000000</td>\n",
       "      <td>2.000000</td>\n",
       "      <td>2.000000</td>\n",
       "    </tr>\n",
       "    <tr>\n",
       "      <th>50%</th>\n",
       "      <td>3.000000</td>\n",
       "      <td>3.000000</td>\n",
       "      <td>2.000000</td>\n",
       "    </tr>\n",
       "    <tr>\n",
       "      <th>75%</th>\n",
       "      <td>4.000000</td>\n",
       "      <td>3.000000</td>\n",
       "      <td>3.000000</td>\n",
       "    </tr>\n",
       "    <tr>\n",
       "      <th>max</th>\n",
       "      <td>40470.000000</td>\n",
       "      <td>6.000000</td>\n",
       "      <td>6.000000</td>\n",
       "    </tr>\n",
       "  </tbody>\n",
       "</table>\n",
       "</div>"
      ],
      "text/plain": [
       "            sq_mtrs     Bedrooms    Bathrooms\n",
       "count   1846.000000  1845.000000  1557.000000\n",
       "mean     327.226977     2.577778     2.595376\n",
       "std     2048.784581     0.819399     1.000349\n",
       "min        0.000000     0.000000     1.000000\n",
       "25%        2.000000     2.000000     2.000000\n",
       "50%        3.000000     3.000000     2.000000\n",
       "75%        4.000000     3.000000     3.000000\n",
       "max    40470.000000     6.000000     6.000000"
      ]
     },
     "execution_count": 3,
     "metadata": {},
     "output_type": "execute_result"
    }
   ],
   "source": [
    "df1.describe()"
   ]
  },
  {
   "cell_type": "code",
   "execution_count": 4,
   "id": "3bb2f5f2-f58e-44de-a5f0-137173846498",
   "metadata": {},
   "outputs": [
    {
     "name": "stdout",
     "output_type": "stream",
     "text": [
      "<class 'pandas.core.frame.DataFrame'>\n",
      "RangeIndex: 1848 entries, 0 to 1847\n",
      "Data columns (total 7 columns):\n",
      " #   Column        Non-Null Count  Dtype  \n",
      "---  ------        --------------  -----  \n",
      " 0   Agency        1848 non-null   object \n",
      " 1   Neighborhood  1848 non-null   object \n",
      " 2   Price         1848 non-null   object \n",
      " 3   link          1848 non-null   object \n",
      " 4   sq_mtrs       1846 non-null   float64\n",
      " 5   Bedrooms      1845 non-null   float64\n",
      " 6   Bathrooms     1557 non-null   float64\n",
      "dtypes: float64(3), object(4)\n",
      "memory usage: 101.2+ KB\n"
     ]
    }
   ],
   "source": [
    "df1.info()"
   ]
  },
  {
   "cell_type": "code",
   "execution_count": 5,
   "id": "7c1d5bb7-73b0-4fb1-a94d-4c7135ad3f55",
   "metadata": {},
   "outputs": [
    {
     "ename": "AttributeError",
     "evalue": "'numpy.ndarray' object has no attribute 'count'",
     "output_type": "error",
     "traceback": [
      "\u001b[1;31m---------------------------------------------------------------------------\u001b[0m",
      "\u001b[1;31mAttributeError\u001b[0m                            Traceback (most recent call last)",
      "Cell \u001b[1;32mIn[5], line 1\u001b[0m\n\u001b[1;32m----> 1\u001b[0m \u001b[43mdf1\u001b[49m\u001b[38;5;241;43m.\u001b[39;49m\u001b[43mAgency\u001b[49m\u001b[38;5;241;43m.\u001b[39;49m\u001b[43munique\u001b[49m\u001b[43m(\u001b[49m\u001b[43m)\u001b[49m\u001b[38;5;241;43m.\u001b[39;49m\u001b[43mcount\u001b[49m\n",
      "\u001b[1;31mAttributeError\u001b[0m: 'numpy.ndarray' object has no attribute 'count'"
     ]
    }
   ],
   "source": [
    "df1.Agency.unique().count"
   ]
  },
  {
   "cell_type": "code",
   "execution_count": 7,
   "id": "e8d5a876-ae8e-4ad9-ad93-050c01f36952",
   "metadata": {},
   "outputs": [
    {
     "data": {
      "text/plain": [
       "Neighborhood\n",
       ", Dennis Pritt, Kilimani, Dagoretti North            1\n",
       "01, Marula Lane, Kilimani, Dagoretti North           1\n",
       "04, kilimani, Kilimani, Dagoretti North              1\n",
       "1 Kilimani, Kilimani, Dagoretti North                1\n",
       "1 Ojijo, Parklands, Westlands                        1\n",
       "                                                    ..\n",
       "walk to valley arcade, Lavington, Dagoretti North    1\n",
       "wambugu road, 1st parkland, Parklands, Westlands     1\n",
       "westlands Avenue , Westlands Area, Westlands         1\n",
       "westlands, Westlands Area, Westlands                 2\n",
       "westlands, Westlands, Riverside, Westlands           1\n",
       "Name: Neighborhood, Length: 647, dtype: int64"
      ]
     },
     "execution_count": 7,
     "metadata": {},
     "output_type": "execute_result"
    }
   ],
   "source": [
    "df1.groupby('Neighborhood')['Neighborhood'].agg('count')"
   ]
  },
  {
   "cell_type": "code",
   "execution_count": null,
   "id": "243f0b1d-603f-40ec-9536-433726fd48a5",
   "metadata": {},
   "outputs": [],
   "source": [
    "df1['Agency'].value_counts()"
   ]
  },
  {
   "cell_type": "code",
   "execution_count": 8,
   "id": "7d7d2600-2f6e-4d57-94e9-986325604595",
   "metadata": {},
   "outputs": [
    {
     "name": "stderr",
     "output_type": "stream",
     "text": [
      "C:\\Users\\user\\AppData\\Local\\Temp\\ipykernel_16288\\196160112.py:1: UserWarning: Boolean Series key will be reindexed to match DataFrame index.\n",
      "  df1[(df1['Agency'].value_counts()  <= 1)]\n"
     ]
    },
    {
     "ename": "IndexingError",
     "evalue": "Unalignable boolean Series provided as indexer (index of the boolean Series and of the indexed object do not match).",
     "output_type": "error",
     "traceback": [
      "\u001b[1;31m---------------------------------------------------------------------------\u001b[0m",
      "\u001b[1;31mIndexingError\u001b[0m                             Traceback (most recent call last)",
      "Cell \u001b[1;32mIn[8], line 1\u001b[0m\n\u001b[1;32m----> 1\u001b[0m \u001b[43mdf1\u001b[49m\u001b[43m[\u001b[49m\u001b[43m(\u001b[49m\u001b[43mdf1\u001b[49m\u001b[43m[\u001b[49m\u001b[38;5;124;43m'\u001b[39;49m\u001b[38;5;124;43mAgency\u001b[39;49m\u001b[38;5;124;43m'\u001b[39;49m\u001b[43m]\u001b[49m\u001b[38;5;241;43m.\u001b[39;49m\u001b[43mvalue_counts\u001b[49m\u001b[43m(\u001b[49m\u001b[43m)\u001b[49m\u001b[43m  \u001b[49m\u001b[38;5;241;43m<\u001b[39;49m\u001b[38;5;241;43m=\u001b[39;49m\u001b[43m \u001b[49m\u001b[38;5;241;43m1\u001b[39;49m\u001b[43m)\u001b[49m\u001b[43m]\u001b[49m\n",
      "File \u001b[1;32m~\\AppData\\Local\\Programs\\Python\\Python310\\lib\\site-packages\\pandas\\core\\frame.py:4093\u001b[0m, in \u001b[0;36mDataFrame.__getitem__\u001b[1;34m(self, key)\u001b[0m\n\u001b[0;32m   4091\u001b[0m \u001b[38;5;66;03m# Do we have a (boolean) 1d indexer?\u001b[39;00m\n\u001b[0;32m   4092\u001b[0m \u001b[38;5;28;01mif\u001b[39;00m com\u001b[38;5;241m.\u001b[39mis_bool_indexer(key):\n\u001b[1;32m-> 4093\u001b[0m     \u001b[38;5;28;01mreturn\u001b[39;00m \u001b[38;5;28;43mself\u001b[39;49m\u001b[38;5;241;43m.\u001b[39;49m\u001b[43m_getitem_bool_array\u001b[49m\u001b[43m(\u001b[49m\u001b[43mkey\u001b[49m\u001b[43m)\u001b[49m\n\u001b[0;32m   4095\u001b[0m \u001b[38;5;66;03m# We are left with two options: a single key, and a collection of keys,\u001b[39;00m\n\u001b[0;32m   4096\u001b[0m \u001b[38;5;66;03m# We interpret tuples as collections only for non-MultiIndex\u001b[39;00m\n\u001b[0;32m   4097\u001b[0m is_single_key \u001b[38;5;241m=\u001b[39m \u001b[38;5;28misinstance\u001b[39m(key, \u001b[38;5;28mtuple\u001b[39m) \u001b[38;5;129;01mor\u001b[39;00m \u001b[38;5;129;01mnot\u001b[39;00m is_list_like(key)\n",
      "File \u001b[1;32m~\\AppData\\Local\\Programs\\Python\\Python310\\lib\\site-packages\\pandas\\core\\frame.py:4149\u001b[0m, in \u001b[0;36mDataFrame._getitem_bool_array\u001b[1;34m(self, key)\u001b[0m\n\u001b[0;32m   4143\u001b[0m     \u001b[38;5;28;01mraise\u001b[39;00m \u001b[38;5;167;01mValueError\u001b[39;00m(\n\u001b[0;32m   4144\u001b[0m         \u001b[38;5;124mf\u001b[39m\u001b[38;5;124m\"\u001b[39m\u001b[38;5;124mItem wrong length \u001b[39m\u001b[38;5;132;01m{\u001b[39;00m\u001b[38;5;28mlen\u001b[39m(key)\u001b[38;5;132;01m}\u001b[39;00m\u001b[38;5;124m instead of \u001b[39m\u001b[38;5;132;01m{\u001b[39;00m\u001b[38;5;28mlen\u001b[39m(\u001b[38;5;28mself\u001b[39m\u001b[38;5;241m.\u001b[39mindex)\u001b[38;5;132;01m}\u001b[39;00m\u001b[38;5;124m.\u001b[39m\u001b[38;5;124m\"\u001b[39m\n\u001b[0;32m   4145\u001b[0m     )\n\u001b[0;32m   4147\u001b[0m \u001b[38;5;66;03m# check_bool_indexer will throw exception if Series key cannot\u001b[39;00m\n\u001b[0;32m   4148\u001b[0m \u001b[38;5;66;03m# be reindexed to match DataFrame rows\u001b[39;00m\n\u001b[1;32m-> 4149\u001b[0m key \u001b[38;5;241m=\u001b[39m \u001b[43mcheck_bool_indexer\u001b[49m\u001b[43m(\u001b[49m\u001b[38;5;28;43mself\u001b[39;49m\u001b[38;5;241;43m.\u001b[39;49m\u001b[43mindex\u001b[49m\u001b[43m,\u001b[49m\u001b[43m \u001b[49m\u001b[43mkey\u001b[49m\u001b[43m)\u001b[49m\n\u001b[0;32m   4151\u001b[0m \u001b[38;5;28;01mif\u001b[39;00m key\u001b[38;5;241m.\u001b[39mall():\n\u001b[0;32m   4152\u001b[0m     \u001b[38;5;28;01mreturn\u001b[39;00m \u001b[38;5;28mself\u001b[39m\u001b[38;5;241m.\u001b[39mcopy(deep\u001b[38;5;241m=\u001b[39m\u001b[38;5;28;01mNone\u001b[39;00m)\n",
      "File \u001b[1;32m~\\AppData\\Local\\Programs\\Python\\Python310\\lib\\site-packages\\pandas\\core\\indexing.py:2662\u001b[0m, in \u001b[0;36mcheck_bool_indexer\u001b[1;34m(index, key)\u001b[0m\n\u001b[0;32m   2660\u001b[0m indexer \u001b[38;5;241m=\u001b[39m result\u001b[38;5;241m.\u001b[39mindex\u001b[38;5;241m.\u001b[39mget_indexer_for(index)\n\u001b[0;32m   2661\u001b[0m \u001b[38;5;28;01mif\u001b[39;00m \u001b[38;5;241m-\u001b[39m\u001b[38;5;241m1\u001b[39m \u001b[38;5;129;01min\u001b[39;00m indexer:\n\u001b[1;32m-> 2662\u001b[0m     \u001b[38;5;28;01mraise\u001b[39;00m IndexingError(\n\u001b[0;32m   2663\u001b[0m         \u001b[38;5;124m\"\u001b[39m\u001b[38;5;124mUnalignable boolean Series provided as \u001b[39m\u001b[38;5;124m\"\u001b[39m\n\u001b[0;32m   2664\u001b[0m         \u001b[38;5;124m\"\u001b[39m\u001b[38;5;124mindexer (index of the boolean Series and of \u001b[39m\u001b[38;5;124m\"\u001b[39m\n\u001b[0;32m   2665\u001b[0m         \u001b[38;5;124m\"\u001b[39m\u001b[38;5;124mthe indexed object do not match).\u001b[39m\u001b[38;5;124m\"\u001b[39m\n\u001b[0;32m   2666\u001b[0m     )\n\u001b[0;32m   2668\u001b[0m result \u001b[38;5;241m=\u001b[39m result\u001b[38;5;241m.\u001b[39mtake(indexer)\n\u001b[0;32m   2670\u001b[0m \u001b[38;5;66;03m# fall through for boolean\u001b[39;00m\n",
      "\u001b[1;31mIndexingError\u001b[0m: Unalignable boolean Series provided as indexer (index of the boolean Series and of the indexed object do not match)."
     ]
    }
   ],
   "source": [
    "df1[(df1['Agency'].value_counts()  <= 1)]"
   ]
  },
  {
   "cell_type": "code",
   "execution_count": null,
   "id": "98a5b756-1ba2-48ef-b73f-c8ff049da377",
   "metadata": {
    "scrolled": true
   },
   "outputs": [],
   "source": [
    "df1['Agency'].unique()"
   ]
  },
  {
   "cell_type": "code",
   "execution_count": 9,
   "id": "d0cb8848-4251-4823-9003-a5f8552f8670",
   "metadata": {},
   "outputs": [
    {
     "data": {
      "text/plain": [
       "count                       1848\n",
       "unique                       194\n",
       "top       Prudential Green Ville\n",
       "freq                          98\n",
       "Name: Agency, dtype: object"
      ]
     },
     "execution_count": 9,
     "metadata": {},
     "output_type": "execute_result"
    }
   ],
   "source": [
    "df1['Agency'].describe()\n"
   ]
  },
  {
   "cell_type": "code",
   "execution_count": null,
   "id": "a545dc7c-d29c-40e5-9cb3-9515dacc9acd",
   "metadata": {},
   "outputs": [],
   "source": [
    "df1.isnull().sum()"
   ]
  },
  {
   "cell_type": "code",
   "execution_count": null,
   "id": "3796f7a7-f68f-429a-a815-e8499de1d7b3",
   "metadata": {},
   "outputs": [],
   "source": [
    "df1.shape\n"
   ]
  },
  {
   "cell_type": "code",
   "execution_count": 10,
   "id": "5965ec75-18aa-4951-bb92-795a57a26a99",
   "metadata": {},
   "outputs": [
    {
     "data": {
      "text/plain": [
       "<bound method Series.info of 0             Buy Rent Shelters\n",
       "1           Kenya Classic Homes\n",
       "2        Absolute Estate Agents\n",
       "3         A1 Properties Limited\n",
       "4           Pmc Estates Limited\n",
       "                 ...           \n",
       "1843         Avic International\n",
       "1844              Dmus Realtors\n",
       "1845      A1 Properties Limited\n",
       "1846    Geoscape Global Limited\n",
       "1847        Pmc Estates Limited\n",
       "Name: Agency, Length: 1848, dtype: object>"
      ]
     },
     "execution_count": 10,
     "metadata": {},
     "output_type": "execute_result"
    }
   ],
   "source": [
    "df1['Agency'].info"
   ]
  },
  {
   "cell_type": "code",
   "execution_count": null,
   "id": "55d1ec4f-a59a-49ad-b3e7-8fcef3f94f87",
   "metadata": {},
   "outputs": [],
   "source": [
    "df1\n"
   ]
  },
  {
   "cell_type": "code",
   "execution_count": 12,
   "id": "7ea9bda7-785b-443a-b085-b111f8b18308",
   "metadata": {},
   "outputs": [
    {
     "data": {
      "text/plain": [
       "(1848, 6)"
      ]
     },
     "execution_count": 12,
     "metadata": {},
     "output_type": "execute_result"
    }
   ],
   "source": [
    "df2 = df1.drop(['link'],axis='columns')\n",
    "df2.shape"
   ]
  },
  {
   "cell_type": "code",
   "execution_count": 13,
   "id": "4eb05850-61c7-42cb-8067-e848ae08defa",
   "metadata": {},
   "outputs": [
    {
     "data": {
      "text/html": [
       "<div>\n",
       "<style scoped>\n",
       "    .dataframe tbody tr th:only-of-type {\n",
       "        vertical-align: middle;\n",
       "    }\n",
       "\n",
       "    .dataframe tbody tr th {\n",
       "        vertical-align: top;\n",
       "    }\n",
       "\n",
       "    .dataframe thead th {\n",
       "        text-align: right;\n",
       "    }\n",
       "</style>\n",
       "<table border=\"1\" class=\"dataframe\">\n",
       "  <thead>\n",
       "    <tr style=\"text-align: right;\">\n",
       "      <th></th>\n",
       "      <th>Agency</th>\n",
       "      <th>Neighborhood</th>\n",
       "      <th>Price</th>\n",
       "      <th>sq_mtrs</th>\n",
       "      <th>Bedrooms</th>\n",
       "      <th>Bathrooms</th>\n",
       "    </tr>\n",
       "  </thead>\n",
       "  <tbody>\n",
       "    <tr>\n",
       "      <th>0</th>\n",
       "      <td>Buy Rent Shelters</td>\n",
       "      <td>General Mathenge, Westlands</td>\n",
       "      <td>KSh 155,000</td>\n",
       "      <td>4.0</td>\n",
       "      <td>4.0</td>\n",
       "      <td>4.0</td>\n",
       "    </tr>\n",
       "    <tr>\n",
       "      <th>1</th>\n",
       "      <td>Kenya Classic Homes</td>\n",
       "      <td>Kilimani, Dagoretti North</td>\n",
       "      <td>KSh 100,000</td>\n",
       "      <td>300.0</td>\n",
       "      <td>3.0</td>\n",
       "      <td>4.0</td>\n",
       "    </tr>\n",
       "    <tr>\n",
       "      <th>2</th>\n",
       "      <td>Absolute Estate Agents</td>\n",
       "      <td>Hatheru Rd,, Lavington, Dagoretti North</td>\n",
       "      <td>KSh 75,000</td>\n",
       "      <td>3.0</td>\n",
       "      <td>3.0</td>\n",
       "      <td>5.0</td>\n",
       "    </tr>\n",
       "    <tr>\n",
       "      <th>3</th>\n",
       "      <td>A1 Properties Limited</td>\n",
       "      <td>Kilimani, Dagoretti North</td>\n",
       "      <td>KSh 135,000</td>\n",
       "      <td>227.0</td>\n",
       "      <td>3.0</td>\n",
       "      <td>4.0</td>\n",
       "    </tr>\n",
       "    <tr>\n",
       "      <th>4</th>\n",
       "      <td>Pmc Estates Limited</td>\n",
       "      <td>Imara Daima, Embakasi</td>\n",
       "      <td>KSh 50,000</td>\n",
       "      <td>3.0</td>\n",
       "      <td>3.0</td>\n",
       "      <td>NaN</td>\n",
       "    </tr>\n",
       "  </tbody>\n",
       "</table>\n",
       "</div>"
      ],
      "text/plain": [
       "                   Agency                             Neighborhood  \\\n",
       "0       Buy Rent Shelters              General Mathenge, Westlands   \n",
       "1     Kenya Classic Homes                Kilimani, Dagoretti North   \n",
       "2  Absolute Estate Agents  Hatheru Rd,, Lavington, Dagoretti North   \n",
       "3   A1 Properties Limited                Kilimani, Dagoretti North   \n",
       "4     Pmc Estates Limited                    Imara Daima, Embakasi   \n",
       "\n",
       "         Price  sq_mtrs  Bedrooms  Bathrooms  \n",
       "0  KSh 155,000      4.0       4.0        4.0  \n",
       "1  KSh 100,000    300.0       3.0        4.0  \n",
       "2   KSh 75,000      3.0       3.0        5.0  \n",
       "3  KSh 135,000    227.0       3.0        4.0  \n",
       "4   KSh 50,000      3.0       3.0        NaN  "
      ]
     },
     "execution_count": 13,
     "metadata": {},
     "output_type": "execute_result"
    }
   ],
   "source": [
    "df2.head()"
   ]
  },
  {
   "cell_type": "code",
   "execution_count": 14,
   "id": "5749719e-9848-485c-a2bb-dec3ed65150d",
   "metadata": {},
   "outputs": [
    {
     "data": {
      "text/plain": [
       "Agency            0\n",
       "Neighborhood      0\n",
       "Price             0\n",
       "sq_mtrs           2\n",
       "Bedrooms          3\n",
       "Bathrooms       291\n",
       "dtype: int64"
      ]
     },
     "execution_count": 14,
     "metadata": {},
     "output_type": "execute_result"
    }
   ],
   "source": [
    "df2.isnull().sum()"
   ]
  },
  {
   "cell_type": "code",
   "execution_count": 15,
   "id": "509bdbcb-9c2c-4387-b38e-d8f3db80da1c",
   "metadata": {},
   "outputs": [
    {
     "data": {
      "text/plain": [
       "<bound method IndexOpsMixin.value_counts of 0       False\n",
       "1       False\n",
       "2       False\n",
       "3       False\n",
       "4        True\n",
       "        ...  \n",
       "1843     True\n",
       "1844    False\n",
       "1845    False\n",
       "1846    False\n",
       "1847     True\n",
       "Name: Bathrooms, Length: 1848, dtype: bool>"
      ]
     },
     "execution_count": 15,
     "metadata": {},
     "output_type": "execute_result"
    }
   ],
   "source": [
    "df2.Bathrooms.isnull().value_counts"
   ]
  },
  {
   "cell_type": "markdown",
   "id": "69aa8d0a-82c6-49c4-ad04-370fa95a3299",
   "metadata": {},
   "source": [
    "### Data Cleaning: Handle NA values"
   ]
  },
  {
   "cell_type": "code",
   "execution_count": 16,
   "id": "164a9de8-0834-4154-b466-87a07f21c452",
   "metadata": {},
   "outputs": [
    {
     "data": {
      "text/html": [
       "<div>\n",
       "<style scoped>\n",
       "    .dataframe tbody tr th:only-of-type {\n",
       "        vertical-align: middle;\n",
       "    }\n",
       "\n",
       "    .dataframe tbody tr th {\n",
       "        vertical-align: top;\n",
       "    }\n",
       "\n",
       "    .dataframe thead th {\n",
       "        text-align: right;\n",
       "    }\n",
       "</style>\n",
       "<table border=\"1\" class=\"dataframe\">\n",
       "  <thead>\n",
       "    <tr style=\"text-align: right;\">\n",
       "      <th></th>\n",
       "      <th>Agency</th>\n",
       "      <th>Neighborhood</th>\n",
       "      <th>Price</th>\n",
       "      <th>sq_mtrs</th>\n",
       "      <th>Bedrooms</th>\n",
       "      <th>Bathrooms</th>\n",
       "    </tr>\n",
       "  </thead>\n",
       "  <tbody>\n",
       "    <tr>\n",
       "      <th>4</th>\n",
       "      <td>Pmc Estates Limited</td>\n",
       "      <td>Imara Daima, Embakasi</td>\n",
       "      <td>KSh 50,000</td>\n",
       "      <td>3.0</td>\n",
       "      <td>3.0</td>\n",
       "      <td>NaN</td>\n",
       "    </tr>\n",
       "    <tr>\n",
       "      <th>5</th>\n",
       "      <td>Lizmor Properties</td>\n",
       "      <td>Waiyaki Way, Westlands</td>\n",
       "      <td>KSh 150,000</td>\n",
       "      <td>2.0</td>\n",
       "      <td>2.0</td>\n",
       "      <td>NaN</td>\n",
       "    </tr>\n",
       "    <tr>\n",
       "      <th>8</th>\n",
       "      <td>Pmc Estates Limited</td>\n",
       "      <td>Thika Road, Thika Road</td>\n",
       "      <td>KSh 85,000</td>\n",
       "      <td>4.0</td>\n",
       "      <td>4.0</td>\n",
       "      <td>NaN</td>\n",
       "    </tr>\n",
       "    <tr>\n",
       "      <th>19</th>\n",
       "      <td>Real Management Services 2002Limited</td>\n",
       "      <td>Sports Road, Waiyaki Way, Westlands</td>\n",
       "      <td>KSh 13,000</td>\n",
       "      <td>0.0</td>\n",
       "      <td>0.0</td>\n",
       "      <td>NaN</td>\n",
       "    </tr>\n",
       "    <tr>\n",
       "      <th>36</th>\n",
       "      <td>Cfs Homes</td>\n",
       "      <td>Ruaka, Kiambaa</td>\n",
       "      <td>KSh 16,000</td>\n",
       "      <td>1.0</td>\n",
       "      <td>1.0</td>\n",
       "      <td>NaN</td>\n",
       "    </tr>\n",
       "    <tr>\n",
       "      <th>...</th>\n",
       "      <td>...</td>\n",
       "      <td>...</td>\n",
       "      <td>...</td>\n",
       "      <td>...</td>\n",
       "      <td>...</td>\n",
       "      <td>...</td>\n",
       "    </tr>\n",
       "    <tr>\n",
       "      <th>1817</th>\n",
       "      <td>Capstone Properties</td>\n",
       "      <td>General Mathenge, Westlands</td>\n",
       "      <td>KSh 175,000</td>\n",
       "      <td>3.0</td>\n",
       "      <td>3.0</td>\n",
       "      <td>NaN</td>\n",
       "    </tr>\n",
       "    <tr>\n",
       "      <th>1820</th>\n",
       "      <td>Cloud Real Estate</td>\n",
       "      <td>General Mathenge, Westlands</td>\n",
       "      <td>KSh 175,000</td>\n",
       "      <td>4.0</td>\n",
       "      <td>4.0</td>\n",
       "      <td>NaN</td>\n",
       "    </tr>\n",
       "    <tr>\n",
       "      <th>1833</th>\n",
       "      <td>Rainbow Properties Limited</td>\n",
       "      <td>State House, Dagoretti North</td>\n",
       "      <td>KSh 180,000</td>\n",
       "      <td>3.0</td>\n",
       "      <td>3.0</td>\n",
       "      <td>NaN</td>\n",
       "    </tr>\n",
       "    <tr>\n",
       "      <th>1843</th>\n",
       "      <td>Avic International</td>\n",
       "      <td>Laikipia Road, Kileleshwa, Dagoretti North</td>\n",
       "      <td>KSh 180,000</td>\n",
       "      <td>3.0</td>\n",
       "      <td>3.0</td>\n",
       "      <td>NaN</td>\n",
       "    </tr>\n",
       "    <tr>\n",
       "      <th>1847</th>\n",
       "      <td>Pmc Estates Limited</td>\n",
       "      <td>Kilimani, Dagoretti North</td>\n",
       "      <td>KSh 180,000</td>\n",
       "      <td>2.0</td>\n",
       "      <td>2.0</td>\n",
       "      <td>NaN</td>\n",
       "    </tr>\n",
       "  </tbody>\n",
       "</table>\n",
       "<p>291 rows × 6 columns</p>\n",
       "</div>"
      ],
      "text/plain": [
       "                                    Agency  \\\n",
       "4                      Pmc Estates Limited   \n",
       "5                        Lizmor Properties   \n",
       "8                      Pmc Estates Limited   \n",
       "19    Real Management Services 2002Limited   \n",
       "36                               Cfs Homes   \n",
       "...                                    ...   \n",
       "1817                   Capstone Properties   \n",
       "1820                     Cloud Real Estate   \n",
       "1833            Rainbow Properties Limited   \n",
       "1843                    Avic International   \n",
       "1847                   Pmc Estates Limited   \n",
       "\n",
       "                                    Neighborhood        Price  sq_mtrs  \\\n",
       "4                          Imara Daima, Embakasi   KSh 50,000      3.0   \n",
       "5                         Waiyaki Way, Westlands  KSh 150,000      2.0   \n",
       "8                         Thika Road, Thika Road   KSh 85,000      4.0   \n",
       "19           Sports Road, Waiyaki Way, Westlands   KSh 13,000      0.0   \n",
       "36                                Ruaka, Kiambaa   KSh 16,000      1.0   \n",
       "...                                          ...          ...      ...   \n",
       "1817                 General Mathenge, Westlands  KSh 175,000      3.0   \n",
       "1820                 General Mathenge, Westlands  KSh 175,000      4.0   \n",
       "1833                State House, Dagoretti North  KSh 180,000      3.0   \n",
       "1843  Laikipia Road, Kileleshwa, Dagoretti North  KSh 180,000      3.0   \n",
       "1847                   Kilimani, Dagoretti North  KSh 180,000      2.0   \n",
       "\n",
       "      Bedrooms  Bathrooms  \n",
       "4          3.0        NaN  \n",
       "5          2.0        NaN  \n",
       "8          4.0        NaN  \n",
       "19         0.0        NaN  \n",
       "36         1.0        NaN  \n",
       "...        ...        ...  \n",
       "1817       3.0        NaN  \n",
       "1820       4.0        NaN  \n",
       "1833       3.0        NaN  \n",
       "1843       3.0        NaN  \n",
       "1847       2.0        NaN  \n",
       "\n",
       "[291 rows x 6 columns]"
      ]
     },
     "execution_count": 16,
     "metadata": {},
     "output_type": "execute_result"
    }
   ],
   "source": [
    "df2[(df2.Bathrooms.isnull())]"
   ]
  },
  {
   "cell_type": "code",
   "execution_count": 17,
   "id": "9c9b2fac-f6b2-41a0-94bc-907604901d1b",
   "metadata": {},
   "outputs": [
    {
     "data": {
      "text/plain": [
       "np.int64(2)"
      ]
     },
     "execution_count": 17,
     "metadata": {},
     "output_type": "execute_result"
    }
   ],
   "source": [
    "def fill_nan_bath(row):\n",
    "    if pd.isna(row['Bathrooms']):\n",
    "        if row['Bedrooms'] > 0:\n",
    "            row['Bathrooms'] = row['Bedrooms']\n",
    "    return row\n",
    "\n",
    "df3 = df2.apply(fill_nan_bath, axis=1)\n",
    "df3.sq_mtrs.isnull().sum()"
   ]
  },
  {
   "cell_type": "code",
   "execution_count": 18,
   "id": "ae3b429c-327a-44af-93fa-be3ad7373389",
   "metadata": {},
   "outputs": [
    {
     "data": {
      "text/plain": [
       "0       False\n",
       "1       False\n",
       "2       False\n",
       "3       False\n",
       "4       False\n",
       "        ...  \n",
       "1843    False\n",
       "1844    False\n",
       "1845    False\n",
       "1846    False\n",
       "1847    False\n",
       "Name: sq_mtrs, Length: 1848, dtype: bool"
      ]
     },
     "execution_count": 18,
     "metadata": {},
     "output_type": "execute_result"
    }
   ],
   "source": [
    "df3.sq_mtrs.isnull()"
   ]
  },
  {
   "cell_type": "code",
   "execution_count": null,
   "id": "347426c6-32fd-47a1-b3f7-522ee1932f1e",
   "metadata": {},
   "outputs": [],
   "source": [
    "df3 = df2.dropna()\n",
    "df3.isnull().sum()"
   ]
  },
  {
   "cell_type": "code",
   "execution_count": null,
   "id": "3dceba2e-c337-49cf-b8e2-824fc77b7540",
   "metadata": {},
   "outputs": [],
   "source": [
    "df3.head()"
   ]
  },
  {
   "cell_type": "code",
   "execution_count": 19,
   "id": "0cbfd0d7-0abb-4c2e-be06-9a449f4f85a7",
   "metadata": {},
   "outputs": [
    {
     "data": {
      "text/html": [
       "<div>\n",
       "<style scoped>\n",
       "    .dataframe tbody tr th:only-of-type {\n",
       "        vertical-align: middle;\n",
       "    }\n",
       "\n",
       "    .dataframe tbody tr th {\n",
       "        vertical-align: top;\n",
       "    }\n",
       "\n",
       "    .dataframe thead th {\n",
       "        text-align: right;\n",
       "    }\n",
       "</style>\n",
       "<table border=\"1\" class=\"dataframe\">\n",
       "  <thead>\n",
       "    <tr style=\"text-align: right;\">\n",
       "      <th></th>\n",
       "      <th>Agency</th>\n",
       "      <th>Neighborhood</th>\n",
       "      <th>Price</th>\n",
       "      <th>sq_mtrs</th>\n",
       "      <th>Bedrooms</th>\n",
       "      <th>Bathrooms</th>\n",
       "    </tr>\n",
       "  </thead>\n",
       "  <tbody>\n",
       "    <tr>\n",
       "      <th>0</th>\n",
       "      <td>Buy Rent Shelters</td>\n",
       "      <td>General Mathenge, Westlands</td>\n",
       "      <td>155,000</td>\n",
       "      <td>4.0</td>\n",
       "      <td>4.0</td>\n",
       "      <td>4.0</td>\n",
       "    </tr>\n",
       "    <tr>\n",
       "      <th>1</th>\n",
       "      <td>Kenya Classic Homes</td>\n",
       "      <td>Kilimani, Dagoretti North</td>\n",
       "      <td>100,000</td>\n",
       "      <td>300.0</td>\n",
       "      <td>3.0</td>\n",
       "      <td>4.0</td>\n",
       "    </tr>\n",
       "    <tr>\n",
       "      <th>2</th>\n",
       "      <td>Absolute Estate Agents</td>\n",
       "      <td>Hatheru Rd,, Lavington, Dagoretti North</td>\n",
       "      <td>75,000</td>\n",
       "      <td>3.0</td>\n",
       "      <td>3.0</td>\n",
       "      <td>5.0</td>\n",
       "    </tr>\n",
       "    <tr>\n",
       "      <th>3</th>\n",
       "      <td>A1 Properties Limited</td>\n",
       "      <td>Kilimani, Dagoretti North</td>\n",
       "      <td>135,000</td>\n",
       "      <td>227.0</td>\n",
       "      <td>3.0</td>\n",
       "      <td>4.0</td>\n",
       "    </tr>\n",
       "    <tr>\n",
       "      <th>4</th>\n",
       "      <td>Pmc Estates Limited</td>\n",
       "      <td>Imara Daima, Embakasi</td>\n",
       "      <td>50,000</td>\n",
       "      <td>3.0</td>\n",
       "      <td>3.0</td>\n",
       "      <td>3.0</td>\n",
       "    </tr>\n",
       "    <tr>\n",
       "      <th>...</th>\n",
       "      <td>...</td>\n",
       "      <td>...</td>\n",
       "      <td>...</td>\n",
       "      <td>...</td>\n",
       "      <td>...</td>\n",
       "      <td>...</td>\n",
       "    </tr>\n",
       "    <tr>\n",
       "      <th>1843</th>\n",
       "      <td>Avic International</td>\n",
       "      <td>Laikipia Road, Kileleshwa, Dagoretti North</td>\n",
       "      <td>180,000</td>\n",
       "      <td>3.0</td>\n",
       "      <td>3.0</td>\n",
       "      <td>3.0</td>\n",
       "    </tr>\n",
       "    <tr>\n",
       "      <th>1844</th>\n",
       "      <td>Dmus Realtors</td>\n",
       "      <td>Peponi road, Spring Valley, Westlands</td>\n",
       "      <td>180,000</td>\n",
       "      <td>2.0</td>\n",
       "      <td>2.0</td>\n",
       "      <td>2.0</td>\n",
       "    </tr>\n",
       "    <tr>\n",
       "      <th>1845</th>\n",
       "      <td>A1 Properties Limited</td>\n",
       "      <td>Kileleshwa, Dagoretti North</td>\n",
       "      <td>180,000</td>\n",
       "      <td>4.0</td>\n",
       "      <td>4.0</td>\n",
       "      <td>5.0</td>\n",
       "    </tr>\n",
       "    <tr>\n",
       "      <th>1846</th>\n",
       "      <td>Geoscape Global Limited</td>\n",
       "      <td>Westlands Area, Westlands</td>\n",
       "      <td>180,000</td>\n",
       "      <td>4.0</td>\n",
       "      <td>4.0</td>\n",
       "      <td>4.0</td>\n",
       "    </tr>\n",
       "    <tr>\n",
       "      <th>1847</th>\n",
       "      <td>Pmc Estates Limited</td>\n",
       "      <td>Kilimani, Dagoretti North</td>\n",
       "      <td>180,000</td>\n",
       "      <td>2.0</td>\n",
       "      <td>2.0</td>\n",
       "      <td>2.0</td>\n",
       "    </tr>\n",
       "  </tbody>\n",
       "</table>\n",
       "<p>1848 rows × 6 columns</p>\n",
       "</div>"
      ],
      "text/plain": [
       "                       Agency                                Neighborhood  \\\n",
       "0           Buy Rent Shelters                 General Mathenge, Westlands   \n",
       "1         Kenya Classic Homes                   Kilimani, Dagoretti North   \n",
       "2      Absolute Estate Agents     Hatheru Rd,, Lavington, Dagoretti North   \n",
       "3       A1 Properties Limited                   Kilimani, Dagoretti North   \n",
       "4         Pmc Estates Limited                       Imara Daima, Embakasi   \n",
       "...                       ...                                         ...   \n",
       "1843       Avic International  Laikipia Road, Kileleshwa, Dagoretti North   \n",
       "1844            Dmus Realtors       Peponi road, Spring Valley, Westlands   \n",
       "1845    A1 Properties Limited                 Kileleshwa, Dagoretti North   \n",
       "1846  Geoscape Global Limited                   Westlands Area, Westlands   \n",
       "1847      Pmc Estates Limited                   Kilimani, Dagoretti North   \n",
       "\n",
       "        Price  sq_mtrs  Bedrooms  Bathrooms  \n",
       "0     155,000      4.0       4.0        4.0  \n",
       "1     100,000    300.0       3.0        4.0  \n",
       "2      75,000      3.0       3.0        5.0  \n",
       "3     135,000    227.0       3.0        4.0  \n",
       "4      50,000      3.0       3.0        3.0  \n",
       "...       ...      ...       ...        ...  \n",
       "1843  180,000      3.0       3.0        3.0  \n",
       "1844  180,000      2.0       2.0        2.0  \n",
       "1845  180,000      4.0       4.0        5.0  \n",
       "1846  180,000      4.0       4.0        4.0  \n",
       "1847  180,000      2.0       2.0        2.0  \n",
       "\n",
       "[1848 rows x 6 columns]"
      ]
     },
     "execution_count": 19,
     "metadata": {},
     "output_type": "execute_result"
    }
   ],
   "source": [
    "def convert_price_to_num(x):\n",
    "    tokens = x.split(' ')\n",
    "    return tokens[1]\n",
    "\n",
    "df3[\"Price\"] = df3['Price'].apply(convert_price_to_num)\n",
    "df3\n",
    "    "
   ]
  },
  {
   "cell_type": "code",
   "execution_count": 20,
   "id": "3a701a26-35a0-4bcd-be39-66c2723425c8",
   "metadata": {},
   "outputs": [
    {
     "data": {
      "text/plain": [
       "0"
      ]
     },
     "execution_count": 20,
     "metadata": {},
     "output_type": "execute_result"
    }
   ],
   "source": [
    "df1.shape[0] - df2.shape[0]"
   ]
  },
  {
   "cell_type": "markdown",
   "id": "96eac313-cfca-439f-9a3f-69c2bbab0fa3",
   "metadata": {},
   "source": [
    "###  Feature Engineering"
   ]
  },
  {
   "cell_type": "code",
   "execution_count": 21,
   "id": "578a8a1a-250f-4650-b917-f13aed4a721c",
   "metadata": {},
   "outputs": [
    {
     "data": {
      "text/html": [
       "<div>\n",
       "<style scoped>\n",
       "    .dataframe tbody tr th:only-of-type {\n",
       "        vertical-align: middle;\n",
       "    }\n",
       "\n",
       "    .dataframe tbody tr th {\n",
       "        vertical-align: top;\n",
       "    }\n",
       "\n",
       "    .dataframe thead th {\n",
       "        text-align: right;\n",
       "    }\n",
       "</style>\n",
       "<table border=\"1\" class=\"dataframe\">\n",
       "  <thead>\n",
       "    <tr style=\"text-align: right;\">\n",
       "      <th></th>\n",
       "      <th>Agency</th>\n",
       "      <th>Neighborhood</th>\n",
       "      <th>Price</th>\n",
       "      <th>sq_mtrs</th>\n",
       "      <th>Bedrooms</th>\n",
       "      <th>Bathrooms</th>\n",
       "      <th>price_per_sq_mtrs</th>\n",
       "    </tr>\n",
       "  </thead>\n",
       "  <tbody>\n",
       "    <tr>\n",
       "      <th>0</th>\n",
       "      <td>Buy Rent Shelters</td>\n",
       "      <td>General Mathenge, Westlands</td>\n",
       "      <td>155000</td>\n",
       "      <td>4.0</td>\n",
       "      <td>4.0</td>\n",
       "      <td>4.0</td>\n",
       "      <td>38750.000000</td>\n",
       "    </tr>\n",
       "    <tr>\n",
       "      <th>1</th>\n",
       "      <td>Kenya Classic Homes</td>\n",
       "      <td>Kilimani, Dagoretti North</td>\n",
       "      <td>100000</td>\n",
       "      <td>300.0</td>\n",
       "      <td>3.0</td>\n",
       "      <td>4.0</td>\n",
       "      <td>333.333333</td>\n",
       "    </tr>\n",
       "    <tr>\n",
       "      <th>2</th>\n",
       "      <td>Absolute Estate Agents</td>\n",
       "      <td>Hatheru Rd,, Lavington, Dagoretti North</td>\n",
       "      <td>75000</td>\n",
       "      <td>3.0</td>\n",
       "      <td>3.0</td>\n",
       "      <td>5.0</td>\n",
       "      <td>25000.000000</td>\n",
       "    </tr>\n",
       "    <tr>\n",
       "      <th>3</th>\n",
       "      <td>A1 Properties Limited</td>\n",
       "      <td>Kilimani, Dagoretti North</td>\n",
       "      <td>135000</td>\n",
       "      <td>227.0</td>\n",
       "      <td>3.0</td>\n",
       "      <td>4.0</td>\n",
       "      <td>594.713656</td>\n",
       "    </tr>\n",
       "    <tr>\n",
       "      <th>4</th>\n",
       "      <td>Pmc Estates Limited</td>\n",
       "      <td>Imara Daima, Embakasi</td>\n",
       "      <td>50000</td>\n",
       "      <td>3.0</td>\n",
       "      <td>3.0</td>\n",
       "      <td>3.0</td>\n",
       "      <td>16666.666667</td>\n",
       "    </tr>\n",
       "  </tbody>\n",
       "</table>\n",
       "</div>"
      ],
      "text/plain": [
       "                   Agency                             Neighborhood   Price  \\\n",
       "0       Buy Rent Shelters              General Mathenge, Westlands  155000   \n",
       "1     Kenya Classic Homes                Kilimani, Dagoretti North  100000   \n",
       "2  Absolute Estate Agents  Hatheru Rd,, Lavington, Dagoretti North   75000   \n",
       "3   A1 Properties Limited                Kilimani, Dagoretti North  135000   \n",
       "4     Pmc Estates Limited                    Imara Daima, Embakasi   50000   \n",
       "\n",
       "   sq_mtrs  Bedrooms  Bathrooms  price_per_sq_mtrs  \n",
       "0      4.0       4.0        4.0       38750.000000  \n",
       "1    300.0       3.0        4.0         333.333333  \n",
       "2      3.0       3.0        5.0       25000.000000  \n",
       "3    227.0       3.0        4.0         594.713656  \n",
       "4      3.0       3.0        3.0       16666.666667  "
      ]
     },
     "execution_count": 21,
     "metadata": {},
     "output_type": "execute_result"
    }
   ],
   "source": [
    "def remove_comma(x):\n",
    "    return int(x.replace(\",\", \"\"))\n",
    "df3['Price'] = df3['Price'].apply(remove_comma)\n",
    "df4 = df3.copy()\n",
    "df4['price_per_sq_mtrs'] = df3['Price']/df3['sq_mtrs']\n",
    "df4.head()\n"
   ]
  },
  {
   "cell_type": "code",
   "execution_count": 22,
   "id": "40192826-a669-44c6-aeac-214c16e34fe2",
   "metadata": {},
   "outputs": [
    {
     "data": {
      "text/plain": [
       "Neighborhood\n",
       "Kilimani, Dagoretti North                                    168\n",
       "Kileleshwa, Dagoretti North                                  108\n",
       "Westlands Area, Westlands                                    105\n",
       "Lavington, Dagoretti North                                    90\n",
       "Riverside, Westlands                                          54\n",
       "                                                            ... \n",
       "Signature Residence Nairobi, Kileleshwa, Dagoretti North       1\n",
       "01, Marula Lane, Kilimani, Dagoretti North                     1\n",
       "General Mathenge Drive, Spring Valley, Westlands               1\n",
       "Mpaka Road, Westlands, Nairobi, Westlands Area, Westlands      1\n",
       "Lower kabete, Kabete Lane, Spring Valley, Westlands            1\n",
       "Name: count, Length: 647, dtype: int64"
      ]
     },
     "execution_count": 22,
     "metadata": {},
     "output_type": "execute_result"
    }
   ],
   "source": [
    "location_stats = df4['Neighborhood'].value_counts(ascending=False)\n",
    "location_stats\n",
    "\n"
   ]
  },
  {
   "cell_type": "code",
   "execution_count": 23,
   "id": "a4365da2-7792-4394-9d2a-9cd4517d549e",
   "metadata": {},
   "outputs": [
    {
     "data": {
      "text/plain": [
       "471"
      ]
     },
     "execution_count": 23,
     "metadata": {},
     "output_type": "execute_result"
    }
   ],
   "source": [
    "len(location_stats[location_stats<2\n",
    "    ])"
   ]
  },
  {
   "cell_type": "code",
   "execution_count": 24,
   "id": "a058d8e3-e75a-4271-a43a-62f280566b73",
   "metadata": {},
   "outputs": [
    {
     "data": {
      "text/html": [
       "<div>\n",
       "<style scoped>\n",
       "    .dataframe tbody tr th:only-of-type {\n",
       "        vertical-align: middle;\n",
       "    }\n",
       "\n",
       "    .dataframe tbody tr th {\n",
       "        vertical-align: top;\n",
       "    }\n",
       "\n",
       "    .dataframe thead th {\n",
       "        text-align: right;\n",
       "    }\n",
       "</style>\n",
       "<table border=\"1\" class=\"dataframe\">\n",
       "  <thead>\n",
       "    <tr style=\"text-align: right;\">\n",
       "      <th></th>\n",
       "      <th>Agency</th>\n",
       "      <th>Neighborhood</th>\n",
       "      <th>Price</th>\n",
       "      <th>sq_mtrs</th>\n",
       "      <th>Bedrooms</th>\n",
       "      <th>Bathrooms</th>\n",
       "      <th>price_per_sq_mtrs</th>\n",
       "    </tr>\n",
       "  </thead>\n",
       "  <tbody>\n",
       "    <tr>\n",
       "      <th>0</th>\n",
       "      <td>Buy Rent Shelters</td>\n",
       "      <td>General Mathenge, Westlands</td>\n",
       "      <td>155000</td>\n",
       "      <td>4.0</td>\n",
       "      <td>4.0</td>\n",
       "      <td>4.0</td>\n",
       "      <td>38750.000000</td>\n",
       "    </tr>\n",
       "    <tr>\n",
       "      <th>1</th>\n",
       "      <td>Kenya Classic Homes</td>\n",
       "      <td>Kilimani, Dagoretti North</td>\n",
       "      <td>100000</td>\n",
       "      <td>300.0</td>\n",
       "      <td>3.0</td>\n",
       "      <td>4.0</td>\n",
       "      <td>333.333333</td>\n",
       "    </tr>\n",
       "    <tr>\n",
       "      <th>2</th>\n",
       "      <td>Absolute Estate Agents</td>\n",
       "      <td>Hatheru Rd,, Lavington, Dagoretti North</td>\n",
       "      <td>75000</td>\n",
       "      <td>3.0</td>\n",
       "      <td>3.0</td>\n",
       "      <td>5.0</td>\n",
       "      <td>25000.000000</td>\n",
       "    </tr>\n",
       "    <tr>\n",
       "      <th>3</th>\n",
       "      <td>A1 Properties Limited</td>\n",
       "      <td>Kilimani, Dagoretti North</td>\n",
       "      <td>135000</td>\n",
       "      <td>227.0</td>\n",
       "      <td>3.0</td>\n",
       "      <td>4.0</td>\n",
       "      <td>594.713656</td>\n",
       "    </tr>\n",
       "    <tr>\n",
       "      <th>4</th>\n",
       "      <td>Pmc Estates Limited</td>\n",
       "      <td>Imara Daima, Embakasi</td>\n",
       "      <td>50000</td>\n",
       "      <td>3.0</td>\n",
       "      <td>3.0</td>\n",
       "      <td>3.0</td>\n",
       "      <td>16666.666667</td>\n",
       "    </tr>\n",
       "    <tr>\n",
       "      <th>...</th>\n",
       "      <td>...</td>\n",
       "      <td>...</td>\n",
       "      <td>...</td>\n",
       "      <td>...</td>\n",
       "      <td>...</td>\n",
       "      <td>...</td>\n",
       "      <td>...</td>\n",
       "    </tr>\n",
       "    <tr>\n",
       "      <th>1843</th>\n",
       "      <td>Avic International</td>\n",
       "      <td>Laikipia Road, Kileleshwa, Dagoretti North</td>\n",
       "      <td>180000</td>\n",
       "      <td>3.0</td>\n",
       "      <td>3.0</td>\n",
       "      <td>3.0</td>\n",
       "      <td>60000.000000</td>\n",
       "    </tr>\n",
       "    <tr>\n",
       "      <th>1844</th>\n",
       "      <td>Dmus Realtors</td>\n",
       "      <td>Peponi road, Spring Valley, Westlands</td>\n",
       "      <td>180000</td>\n",
       "      <td>2.0</td>\n",
       "      <td>2.0</td>\n",
       "      <td>2.0</td>\n",
       "      <td>90000.000000</td>\n",
       "    </tr>\n",
       "    <tr>\n",
       "      <th>1845</th>\n",
       "      <td>A1 Properties Limited</td>\n",
       "      <td>Kileleshwa, Dagoretti North</td>\n",
       "      <td>180000</td>\n",
       "      <td>4.0</td>\n",
       "      <td>4.0</td>\n",
       "      <td>5.0</td>\n",
       "      <td>45000.000000</td>\n",
       "    </tr>\n",
       "    <tr>\n",
       "      <th>1846</th>\n",
       "      <td>Geoscape Global Limited</td>\n",
       "      <td>Westlands Area, Westlands</td>\n",
       "      <td>180000</td>\n",
       "      <td>4.0</td>\n",
       "      <td>4.0</td>\n",
       "      <td>4.0</td>\n",
       "      <td>45000.000000</td>\n",
       "    </tr>\n",
       "    <tr>\n",
       "      <th>1847</th>\n",
       "      <td>Pmc Estates Limited</td>\n",
       "      <td>Kilimani, Dagoretti North</td>\n",
       "      <td>180000</td>\n",
       "      <td>2.0</td>\n",
       "      <td>2.0</td>\n",
       "      <td>2.0</td>\n",
       "      <td>90000.000000</td>\n",
       "    </tr>\n",
       "  </tbody>\n",
       "</table>\n",
       "<p>1848 rows × 7 columns</p>\n",
       "</div>"
      ],
      "text/plain": [
       "                       Agency                                Neighborhood  \\\n",
       "0           Buy Rent Shelters                 General Mathenge, Westlands   \n",
       "1         Kenya Classic Homes                   Kilimani, Dagoretti North   \n",
       "2      Absolute Estate Agents     Hatheru Rd,, Lavington, Dagoretti North   \n",
       "3       A1 Properties Limited                   Kilimani, Dagoretti North   \n",
       "4         Pmc Estates Limited                       Imara Daima, Embakasi   \n",
       "...                       ...                                         ...   \n",
       "1843       Avic International  Laikipia Road, Kileleshwa, Dagoretti North   \n",
       "1844            Dmus Realtors       Peponi road, Spring Valley, Westlands   \n",
       "1845    A1 Properties Limited                 Kileleshwa, Dagoretti North   \n",
       "1846  Geoscape Global Limited                   Westlands Area, Westlands   \n",
       "1847      Pmc Estates Limited                   Kilimani, Dagoretti North   \n",
       "\n",
       "       Price  sq_mtrs  Bedrooms  Bathrooms  price_per_sq_mtrs  \n",
       "0     155000      4.0       4.0        4.0       38750.000000  \n",
       "1     100000    300.0       3.0        4.0         333.333333  \n",
       "2      75000      3.0       3.0        5.0       25000.000000  \n",
       "3     135000    227.0       3.0        4.0         594.713656  \n",
       "4      50000      3.0       3.0        3.0       16666.666667  \n",
       "...      ...      ...       ...        ...                ...  \n",
       "1843  180000      3.0       3.0        3.0       60000.000000  \n",
       "1844  180000      2.0       2.0        2.0       90000.000000  \n",
       "1845  180000      4.0       4.0        5.0       45000.000000  \n",
       "1846  180000      4.0       4.0        4.0       45000.000000  \n",
       "1847  180000      2.0       2.0        2.0       90000.000000  \n",
       "\n",
       "[1848 rows x 7 columns]"
      ]
     },
     "execution_count": 24,
     "metadata": {},
     "output_type": "execute_result"
    }
   ],
   "source": [
    "df4"
   ]
  },
  {
   "cell_type": "code",
   "execution_count": 25,
   "id": "45841643-93b7-408b-a360-fbd43c1afbe0",
   "metadata": {},
   "outputs": [
    {
     "data": {
      "text/html": [
       "<div>\n",
       "<style scoped>\n",
       "    .dataframe tbody tr th:only-of-type {\n",
       "        vertical-align: middle;\n",
       "    }\n",
       "\n",
       "    .dataframe tbody tr th {\n",
       "        vertical-align: top;\n",
       "    }\n",
       "\n",
       "    .dataframe thead th {\n",
       "        text-align: right;\n",
       "    }\n",
       "</style>\n",
       "<table border=\"1\" class=\"dataframe\">\n",
       "  <thead>\n",
       "    <tr style=\"text-align: right;\">\n",
       "      <th></th>\n",
       "      <th>Agency</th>\n",
       "      <th>Neighborhood</th>\n",
       "      <th>Price</th>\n",
       "      <th>sq_mtrs</th>\n",
       "      <th>Bedrooms</th>\n",
       "      <th>Bathrooms</th>\n",
       "      <th>price_per_sq_mtrs</th>\n",
       "    </tr>\n",
       "  </thead>\n",
       "  <tbody>\n",
       "    <tr>\n",
       "      <th>0</th>\n",
       "      <td>Buy Rent Shelters</td>\n",
       "      <td>General Mathenge, Westlands</td>\n",
       "      <td>155000</td>\n",
       "      <td>4.0</td>\n",
       "      <td>4.0</td>\n",
       "      <td>4.0</td>\n",
       "      <td>38750.000000</td>\n",
       "    </tr>\n",
       "    <tr>\n",
       "      <th>1</th>\n",
       "      <td>Kenya Classic Homes</td>\n",
       "      <td>Kilimani, Dagoretti North</td>\n",
       "      <td>100000</td>\n",
       "      <td>300.0</td>\n",
       "      <td>3.0</td>\n",
       "      <td>4.0</td>\n",
       "      <td>333.333333</td>\n",
       "    </tr>\n",
       "    <tr>\n",
       "      <th>2</th>\n",
       "      <td>Absolute Estate Agents</td>\n",
       "      <td>Hatheru Rd,, Lavington, Dagoretti North</td>\n",
       "      <td>75000</td>\n",
       "      <td>3.0</td>\n",
       "      <td>3.0</td>\n",
       "      <td>5.0</td>\n",
       "      <td>25000.000000</td>\n",
       "    </tr>\n",
       "    <tr>\n",
       "      <th>3</th>\n",
       "      <td>A1 Properties Limited</td>\n",
       "      <td>Kilimani, Dagoretti North</td>\n",
       "      <td>135000</td>\n",
       "      <td>227.0</td>\n",
       "      <td>3.0</td>\n",
       "      <td>4.0</td>\n",
       "      <td>594.713656</td>\n",
       "    </tr>\n",
       "    <tr>\n",
       "      <th>4</th>\n",
       "      <td>Pmc Estates Limited</td>\n",
       "      <td>Imara Daima, Embakasi</td>\n",
       "      <td>50000</td>\n",
       "      <td>3.0</td>\n",
       "      <td>3.0</td>\n",
       "      <td>3.0</td>\n",
       "      <td>16666.666667</td>\n",
       "    </tr>\n",
       "    <tr>\n",
       "      <th>...</th>\n",
       "      <td>...</td>\n",
       "      <td>...</td>\n",
       "      <td>...</td>\n",
       "      <td>...</td>\n",
       "      <td>...</td>\n",
       "      <td>...</td>\n",
       "      <td>...</td>\n",
       "    </tr>\n",
       "    <tr>\n",
       "      <th>1843</th>\n",
       "      <td>Avic International</td>\n",
       "      <td>Laikipia Road, Kileleshwa, Dagoretti North</td>\n",
       "      <td>180000</td>\n",
       "      <td>3.0</td>\n",
       "      <td>3.0</td>\n",
       "      <td>3.0</td>\n",
       "      <td>60000.000000</td>\n",
       "    </tr>\n",
       "    <tr>\n",
       "      <th>1844</th>\n",
       "      <td>Dmus Realtors</td>\n",
       "      <td>Peponi road, Spring Valley, Westlands</td>\n",
       "      <td>180000</td>\n",
       "      <td>2.0</td>\n",
       "      <td>2.0</td>\n",
       "      <td>2.0</td>\n",
       "      <td>90000.000000</td>\n",
       "    </tr>\n",
       "    <tr>\n",
       "      <th>1845</th>\n",
       "      <td>A1 Properties Limited</td>\n",
       "      <td>Kileleshwa, Dagoretti North</td>\n",
       "      <td>180000</td>\n",
       "      <td>4.0</td>\n",
       "      <td>4.0</td>\n",
       "      <td>5.0</td>\n",
       "      <td>45000.000000</td>\n",
       "    </tr>\n",
       "    <tr>\n",
       "      <th>1846</th>\n",
       "      <td>Geoscape Global Limited</td>\n",
       "      <td>Westlands Area, Westlands</td>\n",
       "      <td>180000</td>\n",
       "      <td>4.0</td>\n",
       "      <td>4.0</td>\n",
       "      <td>4.0</td>\n",
       "      <td>45000.000000</td>\n",
       "    </tr>\n",
       "    <tr>\n",
       "      <th>1847</th>\n",
       "      <td>Pmc Estates Limited</td>\n",
       "      <td>Kilimani, Dagoretti North</td>\n",
       "      <td>180000</td>\n",
       "      <td>2.0</td>\n",
       "      <td>2.0</td>\n",
       "      <td>2.0</td>\n",
       "      <td>90000.000000</td>\n",
       "    </tr>\n",
       "  </tbody>\n",
       "</table>\n",
       "<p>1848 rows × 7 columns</p>\n",
       "</div>"
      ],
      "text/plain": [
       "                       Agency                                Neighborhood  \\\n",
       "0           Buy Rent Shelters                 General Mathenge, Westlands   \n",
       "1         Kenya Classic Homes                   Kilimani, Dagoretti North   \n",
       "2      Absolute Estate Agents     Hatheru Rd,, Lavington, Dagoretti North   \n",
       "3       A1 Properties Limited                   Kilimani, Dagoretti North   \n",
       "4         Pmc Estates Limited                       Imara Daima, Embakasi   \n",
       "...                       ...                                         ...   \n",
       "1843       Avic International  Laikipia Road, Kileleshwa, Dagoretti North   \n",
       "1844            Dmus Realtors       Peponi road, Spring Valley, Westlands   \n",
       "1845    A1 Properties Limited                 Kileleshwa, Dagoretti North   \n",
       "1846  Geoscape Global Limited                   Westlands Area, Westlands   \n",
       "1847      Pmc Estates Limited                   Kilimani, Dagoretti North   \n",
       "\n",
       "       Price  sq_mtrs  Bedrooms  Bathrooms  price_per_sq_mtrs  \n",
       "0     155000      4.0       4.0        4.0       38750.000000  \n",
       "1     100000    300.0       3.0        4.0         333.333333  \n",
       "2      75000      3.0       3.0        5.0       25000.000000  \n",
       "3     135000    227.0       3.0        4.0         594.713656  \n",
       "4      50000      3.0       3.0        3.0       16666.666667  \n",
       "...      ...      ...       ...        ...                ...  \n",
       "1843  180000      3.0       3.0        3.0       60000.000000  \n",
       "1844  180000      2.0       2.0        2.0       90000.000000  \n",
       "1845  180000      4.0       4.0        5.0       45000.000000  \n",
       "1846  180000      4.0       4.0        4.0       45000.000000  \n",
       "1847  180000      2.0       2.0        2.0       90000.000000  \n",
       "\n",
       "[1848 rows x 7 columns]"
      ]
     },
     "execution_count": 25,
     "metadata": {},
     "output_type": "execute_result"
    }
   ],
   "source": [
    "df4\n"
   ]
  },
  {
   "cell_type": "markdown",
   "id": "793da3c7-f46c-4f9d-868b-63a24bb13dd5",
   "metadata": {},
   "source": [
    "### Outlier Removal Using Bathrooms Feature\n"
   ]
  },
  {
   "cell_type": "code",
   "execution_count": 36,
   "id": "6cb3d33f-1522-4725-bce1-a8f68313ba9a",
   "metadata": {},
   "outputs": [
    {
     "data": {
      "text/plain": [
       "9"
      ]
     },
     "execution_count": 36,
     "metadata": {},
     "output_type": "execute_result"
    }
   ],
   "source": [
    "len(location_stats[location_stats ==5])"
   ]
  },
  {
   "cell_type": "code",
   "execution_count": 30,
   "id": "3e8f878f-56c1-4db9-8124-fd6758daf175",
   "metadata": {},
   "outputs": [
    {
     "data": {
      "text/html": [
       "<div>\n",
       "<style scoped>\n",
       "    .dataframe tbody tr th:only-of-type {\n",
       "        vertical-align: middle;\n",
       "    }\n",
       "\n",
       "    .dataframe tbody tr th {\n",
       "        vertical-align: top;\n",
       "    }\n",
       "\n",
       "    .dataframe thead th {\n",
       "        text-align: right;\n",
       "    }\n",
       "</style>\n",
       "<table border=\"1\" class=\"dataframe\">\n",
       "  <thead>\n",
       "    <tr style=\"text-align: right;\">\n",
       "      <th></th>\n",
       "      <th>Agency</th>\n",
       "      <th>Neighborhood</th>\n",
       "      <th>Price</th>\n",
       "      <th>sq_mtrs</th>\n",
       "      <th>Bedrooms</th>\n",
       "      <th>Bathrooms</th>\n",
       "      <th>price_per_sq_mtrs</th>\n",
       "    </tr>\n",
       "  </thead>\n",
       "  <tbody>\n",
       "    <tr>\n",
       "      <th>0</th>\n",
       "      <td>Buy Rent Shelters</td>\n",
       "      <td>General Mathenge, Westlands</td>\n",
       "      <td>155000</td>\n",
       "      <td>4.0</td>\n",
       "      <td>4.0</td>\n",
       "      <td>4.0</td>\n",
       "      <td>38750.000000</td>\n",
       "    </tr>\n",
       "    <tr>\n",
       "      <th>1</th>\n",
       "      <td>Kenya Classic Homes</td>\n",
       "      <td>Kilimani, Dagoretti North</td>\n",
       "      <td>100000</td>\n",
       "      <td>300.0</td>\n",
       "      <td>3.0</td>\n",
       "      <td>4.0</td>\n",
       "      <td>333.333333</td>\n",
       "    </tr>\n",
       "    <tr>\n",
       "      <th>2</th>\n",
       "      <td>Absolute Estate Agents</td>\n",
       "      <td>Hatheru Rd,, Lavington, Dagoretti North</td>\n",
       "      <td>75000</td>\n",
       "      <td>3.0</td>\n",
       "      <td>3.0</td>\n",
       "      <td>5.0</td>\n",
       "      <td>25000.000000</td>\n",
       "    </tr>\n",
       "    <tr>\n",
       "      <th>3</th>\n",
       "      <td>A1 Properties Limited</td>\n",
       "      <td>Kilimani, Dagoretti North</td>\n",
       "      <td>135000</td>\n",
       "      <td>227.0</td>\n",
       "      <td>3.0</td>\n",
       "      <td>4.0</td>\n",
       "      <td>594.713656</td>\n",
       "    </tr>\n",
       "    <tr>\n",
       "      <th>4</th>\n",
       "      <td>Pmc Estates Limited</td>\n",
       "      <td>Imara Daima, Embakasi</td>\n",
       "      <td>50000</td>\n",
       "      <td>3.0</td>\n",
       "      <td>3.0</td>\n",
       "      <td>3.0</td>\n",
       "      <td>16666.666667</td>\n",
       "    </tr>\n",
       "  </tbody>\n",
       "</table>\n",
       "</div>"
      ],
      "text/plain": [
       "                   Agency                             Neighborhood   Price  \\\n",
       "0       Buy Rent Shelters              General Mathenge, Westlands  155000   \n",
       "1     Kenya Classic Homes                Kilimani, Dagoretti North  100000   \n",
       "2  Absolute Estate Agents  Hatheru Rd,, Lavington, Dagoretti North   75000   \n",
       "3   A1 Properties Limited                Kilimani, Dagoretti North  135000   \n",
       "4     Pmc Estates Limited                    Imara Daima, Embakasi   50000   \n",
       "\n",
       "   sq_mtrs  Bedrooms  Bathrooms  price_per_sq_mtrs  \n",
       "0      4.0       4.0        4.0       38750.000000  \n",
       "1    300.0       3.0        4.0         333.333333  \n",
       "2      3.0       3.0        5.0       25000.000000  \n",
       "3    227.0       3.0        4.0         594.713656  \n",
       "4      3.0       3.0        3.0       16666.666667  "
      ]
     },
     "execution_count": 30,
     "metadata": {},
     "output_type": "execute_result"
    }
   ],
   "source": [
    "df4.head()"
   ]
  },
  {
   "cell_type": "code",
   "execution_count": 33,
   "id": "711fcca2-b49f-4bee-a9b8-d3af77d1c4a1",
   "metadata": {
    "scrolled": true
   },
   "outputs": [
    {
     "data": {
      "text/plain": [
       "'Buy Rent SheltersKenya Classic HomesAbsolute Estate AgentsA1 Properties LimitedPmc Estates LimitedLizmor PropertiesMambo Properties EnterpriseWealthlink Realtors LtdPmc Estates LimitedNaftal PropertiesDakima Home InternationalOpus PropertiesRealty PlusPam Golding PropertiesYellow MarketHyra Real Estate LtdDunhill Consulting LimitedGreen Knight PropertiesKitheka MusyokaReal Management Services 2002LimitedEstate Masters LimitedHomekenya24Kitheka MusyokaEstate Masters LimitedEstate Masters LimitedHabitat Realtors International LtdRoyani Properties LimitedUnique Casles Management LtdEstate Masters LimitedWainaina Real Estate AgentsHavilaplus Estates LtdNgong Hills AgencyEstate Masters LimitedChelezo ResidencyOrigin HomesOpus PropertiesCfs HomesPmc Estates LimitedCanaan PropertiesEstate Masters LimitedEstate Masters LimitedHavilaplus Estates LtdUnique Casles Management LtdEstate Masters LimitedKitheka MusyokaHavilaplus Estates LtdKimachas EnterprisesThe Epic PropertiesWestside Real EstateWainaina Real Estate AgentsTysons LimitedCrystal Valuers LtdSwiveltrend LtdSunland Real Estates LimitedHomekenya24Kimachas EnterprisesEstate Masters LimitedKitheka MusyokaSwiveltrend LtdPmc Estates LimitedCmt RealtorsHavilaplus Estates LtdHavilaplus Estates LtdHavilaplus Estates LtdSema Estate AgentsHavilaplus Estates LtdSwiveltrend LtdCmt RealtorsHavilaplus Estates LtdRealty PlusKitheka MusyokaOpus PropertiesSwiveltrend LtdHomekenya24Civic CapitalHavilaplus Estates LtdSunland Real Estates LimitedFuraha PropertiesCfs HomesPc Properties Real Estate AgencyCfs HomesSwiveltrend LtdSunland Real Estates LimitedMazz PrestinesHabitat Realtors International LtdCanaan PropertiesCivic CapitalKitheka MusyokaAxis Assets LimitedSwiveltrend LtdSunland Real Estates LimitedKimachas EnterprisesTuvilani Ventures EnterpriceCivic CapitalWestside Real EstateAxis Assets LimitedImpeller Projects LtdHabitat Realtors International LtdSymonns RealtyRic RealtorsKaisa Ventures Kenya LimitedSwiveltrend LtdSwiveltrend LtdCrowne EstatesKimachas EnterprisesBenford HomesYellow MarketAlmond EstateSwiveltrend LtdFitsher Homes LtdEden Height RealtyWashington Homes KenyaFitsher Homes LtdHome Care Estates LtdTrisums Investments Company LimitedHomekenya24Shingles Kenya LimitedSwiveltrend LtdHabitat Realtors International LtdHome Care Estates LtdSpringtide Properties LimitedSwiveltrend LtdEdlon Group LimitedRealty PlusRange Wide PropertiesEl Roi PropertiesAvic InternationalMalazo RealtorsPmc Estates LimitedPmm PropertiesCivic CapitalVisions PlaceSwiveltrend LtdRegent Management LtdHabitat Realtors International LtdKimachas EnterprisesPrince Classic HomesEver Forgarden Cyham PropertiesPmm PropertiesCasapiu Holdings LimitedBuy Rent SheltersGreen Knight PropertiesSwiveltrend LtdReal Management Services 2002LimitedKimachas EnterprisesWealthlink Realtors LtdMazz PrestinesCivic CapitalHabitat Realtors International LtdBuy Rent SheltersApogee Realty HomesAxis Assets LimitedTussy RealtorsRoyani Properties LimitedHabitat Realtors International LtdAzizi RealtorsReal Management Services 2002LimitedSerene Valley ApartmentsCitiscape Valuers And Estate Agents LtdHomeowners EyeAxis Assets LimitedCivic CapitalSwiveltrend LtdExpo PropertiesKimachas EnterprisesKimachas EnterprisesYellow MarketBuy Rent SheltersWealthlink Realtors LtdCivic CapitalKitheka MusyokaPhillavillaSwiveltrend LtdSwiveltrend LtdPrudential Green VilleApricotsolutions LimitedNaftal PropertiesRescom Ventures LtdMazz PrestinesCivic CapitalKingslink VenturesAxis Assets LimitedSwiveltrend LtdSwiveltrend LtdSwiveltrend LtdSwiveltrend LtdLandmark Realtors LtdAbec Real EstateHomekenya24Acurate Homes LimitedHavilaplus Estates LtdUnique Casles Management LtdAxis Assets LimitedProperty MatrixAxis Assets LimitedHabitat Realtors International LtdMazz PrestinesHavilaplus Estates LtdAxis Assets LimitedAbec Real EstateCity Homes Kenya Real EstatePhillavillaOpus PropertiesSwiveltrend LtdCanaan PropertiesHabitat Realtors International LtdDiamond City VillasRange Wide PropertiesHomekenya24Miamu Properties LimitedBuy Rent SheltersPmc Estates LimitedRescom Ventures LtdCivic CapitalCivic CapitalApricotsolutions LimitedHomekenya24Homekenya24Kimachas EnterprisesAcurate Homes LimitedAcurate Homes LimitedShingles Kenya LimitedPmc Estates LimitedCivic CapitalApogee Realty HomesOpus PropertiesSwiveltrend LtdSwiveltrend LtdTuvilani Ventures EnterpriceFairdeal Properties LimitedVaal Real EstateAcurate Homes LimitedEver Forgarden Mazz PrestinesHavilaplus Estates LtdHavilaplus Estates LtdBlue Falcon Estate AgentTussy RealtorsTussy RealtorsTrisums Investments Company LimitedOpus PropertiesSunland Real Estates LimitedPhillavillaPam Golding PropertiesTulua MerakiDiamond City VillasCivic CapitalSwiveltrend LtdTuvilani Ventures EnterpriceRange Wide PropertiesRange Wide PropertiesBuy Rent SheltersBuy Rent SheltersWestside Real EstateRescom Ventures LtdCfs HomesDiamond City VillasCanaan PropertiesFairdeal Properties LimitedRoyani Properties LimitedRoyani Properties LimitedRoyani Properties LimitedPmc Estates LimitedCivic CapitalCasapiu Holdings LimitedLevindia PropertiesLandmark Realtors LtdGimco LimitedRegent Management LtdReal Management Services 2002LimitedPam Golding PropertiesLinks PropertiesFitsher Homes LtdNaftal PropertiesDunhill Consulting LimitedFitsher Homes LtdAbsolute Estate AgentsLevindia PropertiesApogee Realty HomesUnique Casles Management LtdSwiveltrend LtdHomekenya24Crystal Valuers LtdPrime LandsGreen Knight PropertiesReal Management Services 2002LimitedRange Wide PropertiesRange Wide PropertiesEl Roi PropertiesBuy Rent SheltersWealthlink Realtors LtdMasterways Properties LtdKimachas EnterprisesRoyani Properties LimitedLinks PropertiesDalizu Holdings LimitedEver Forgarden Hanspace LimitedFredrick KimathiLevindia PropertiesLiflac PropertiesSplendor HoldingsSwiveltrend LtdSwiveltrend LtdCitiscape Valuers And Estate Agents LtdPrudential Green VilleRange Wide PropertiesAbsolute Estate AgentsMasterways Properties LtdWealthlink Realtors LtdWealthlink Realtors LtdFuraha PropertiesFuraha PropertiesSplendour Real EstateFitsher Homes LtdPmc Estates LimitedPhillavillaTrisums Investments Company LimitedTuvilani Ventures EnterpriceCanaan PropertiesAbec Real EstateHabitat Realtors International LtdPrudential Green VilleHomekenya24Range Wide PropertiesRoyani Properties LimitedOrigin HomesCitiscape Valuers And Estate Agents LtdAbsolute Estate AgentsPmc Estates LimitedPmc Estates LimitedKitheka MusyokaCivic CapitalRed Knot LimitedApogee Realty HomesWealthlink Realtors LtdRoyani Properties LimitedCity Homes Kenya Real EstateCrystal Valuers LtdCity Homes Kenya Real EstateSwiveltrend LtdRegent Management LtdCitiscape Valuers And Estate Agents LtdGreen Knight PropertiesCanaan PropertiesCanaan PropertiesReal Management Services 2002LimitedAbsolute Estate AgentsParadigm HomesLavingtonmanagementLavingtonmanagementPrudential Green VillePrudential Green VillePrudential Green VilleVaal Real EstateBuy Rent SheltersNaftal PropertiesNaftal PropertiesLiflac PropertiesCfs HomesPhillavillaSwiveltrend LtdSwiveltrend LtdAce Realtors LimitedReal Management Services 2002LimitedReal Management Services 2002LimitedKenya Classic HomesAzizi RealtorsRange Wide PropertiesRange Wide PropertiesWealthlink Realtors LtdWealthlink Realtors LtdDalizu Holdings LimitedFitsher Homes LtdRic RealtorsCfs HomesCfs HomesTysons LimitedCapstone PropertiesCrystal Valuers LtdKimachas EnterprisesBuy Rent SheltersDalizu Holdings LimitedFuzone Pride InvestmentFuzone Pride InvestmentFuzone Pride InvestmentGemac PropertiesPmm PropertiesRayalink PropertiesPhillavillaAzizi RealtorsKenya Classic HomesKenya Classic HomesMasterways Properties LtdMasterways Properties LtdLavingtonmanagementOgaye EnterprisesPrudential Green VillePrudential Green VilleWealthlink Realtors LtdWealthlink Realtors LtdNickville SheltersRescom Ventures LtdNaftal PropertiesEver Forgarden Cfs HomesCfs HomesSplendor HoldingsPhillavillaCanaan PropertiesAce Realtors LimitedGimco LimitedGreen Knight PropertiesGreen Knight PropertiesPam Golding PropertiesCrystal Valuers LtdKenya Classic HomesKenya Classic HomesRealty PlusPrudential Green VillePrudential Green VillePrudential Green VilleRange Wide PropertiesCity Homes Kenya Real EstateJazari HomesBuy Rent SheltersPrince Classic HomesPrince Classic HomesHilltrust ConsultFuraha PropertiesNaftal PropertiesNaftal PropertiesSplendour Real EstateParadigm HomesLavingtonmanagementYellow MarketHanspace LimitedVsb Properties LimitedNguso RealtorsAce Realtors LimitedCoralinternational LtdOpus PropertiesGreen Knight PropertiesCitiscape Valuers And Estate Agents LtdPrudential Green VillePrudential Green VillePrudential Green VillePrudential Green VillePrudential Green VilleRange Wide PropertiesCitiscape Valuers And Estate Agents LtdKimachas EnterprisesBuy Rent SheltersLavingtonmanagementYellow MarketFuzone Pride InvestmentPmc Estates LimitedPmc Estates LimitedNaftal PropertiesGemac PropertiesCfs HomesRescom Ventures LtdSplendor HoldingsPhillavillaSpark PropertiesApogee Realty HomesSymonns RealtyWealthlink Realtors LtdPhillavillaCoralinternational LtdPrudential Green VillePhillavillaLavingtonmanagementPrince Classic HomesOpus PropertiesPrime LandsReal Management Services 2002LimitedRealty PlusPrudential Green VilleRoyani Properties LimitedRoyani Properties LimitedRoyani Properties LimitedRoyani Properties LimitedPrudential Green VillePrudential Green VillePrudential Green VilleGeoscape Global LimitedSunland Real Estates LimitedWealthlink Realtors LtdCloud Real EstateOlympia Gold Real EstateNickville SheltersPmc Estates LimitedRescom Ventures LtdNaftal PropertiesMedallion SystemsCanaan PropertiesPhillavillaChawan Business VentureAce Realtors LimitedDavid KiambiTuvilani Ventures EnterpriceAzizi RealtorsReal Management Services 2002LimitedReal Management Services 2002LimitedFranic Villa PropertiesCity Homes Kenya Real EstateHomekenya24Blueline Properties 1023City Homes Kenya Real EstateAbsolute Estate AgentsSir Francis Marketingconsultants LtdBenford HomesOrigin HomesRoyani Properties LimitedWealthlink Realtors LtdHilltrust ConsultKaisa Ventures Kenya LimitedUrban HutAfrique Properties LimitedPc Properties Real Estate AgencyLighthouse Homes LimitedPmm PropertiesPc Properties Real Estate AgencySplendor HoldingsSplendor HoldingsSplendor HoldingsOpus PropertiesAce Realtors LimitedPrudential Green VillePrudential Green VilleReal Management Services 2002LimitedPam Golding PropertiesCrystal Valuers LtdCrowne EstatesYc Real Estate LimitedAbsolute Estate AgentsAbsolute Estate AgentsRoyani Properties LimitedYellow MarketFitsher Homes LtdFitsher Homes LtdCfs HomesNaftal PropertiesSplendor HoldingsSplendor HoldingsRoyani Properties LimitedTysons LimitedOgaye EnterprisesCoralinternational LtdOpus PropertiesAce Realtors LimitedRegent Management LtdRegent Management LtdPam Golding PropertiesAce Realtors LimitedPrudential Green VillePrudential Green VillePrudential Green VilleBlueline Properties 1023Origin HomesOrigin HomesOrigin HomesBuy Rent SheltersOrion ValuersWealthlink Realtors LtdWealthlink Realtors LtdWestside Real EstateNaftal PropertiesRayalink PropertiesAbsolute Estate AgentsAbsolute Estate AgentsParadigm HomesParadigm HomesRoyani Properties LimitedYellow MarketPmc Estates LimitedKnight FrankCasapiu Holdings LimitedCfs HomesPc Properties Real Estate AgencyLandmark Realtors LtdKenya Classic HomesKenya Classic HomesKenya Classic HomesAzizi RealtorsHabitat Realtors International LtdHabitat Realtors International LtdPrudential Green VillePrudential Green VillePrudential Green VillePrudential Green VillePrudential Green VillePrudential Green VillePrudential Green VilleParadigm HomesBlueline Properties 1023Blueline Properties 1023Royani Properties LimitedEver Forgarden Paradigm HomesApogee Realty HomesCfs HomesCfs HomesCfs HomesPc Properties Real Estate AgencyCoralinternational LtdGreen Knight PropertiesGreen Knight PropertiesEastwood Consulting LtdPrime LandsPrime LandsPrudential Green VillePrudential Green VillePrudential Green VillePrudential Green VilleCapstone PropertiesEden Height RealtyReal Management Services 2002LimitedPam Golding PropertiesPam Golding PropertiesAzizi RealtorsAbsolute Estate AgentsAbsolute Estate AgentsAbsolute Estate AgentsJazari HomesParadigm HomesParadigm HomesRoyani Properties LimitedLavingtonmanagementBuy Rent SheltersYellow MarketShingles Kenya LimitedSplendour Real EstateCfs HomesCfs HomesCfs HomesNaftal PropertiesNaftal PropertiesNaftal PropertiesAfrique Properties LimitedAfrique Properties LimitedSplendor HoldingsGreenday PropertiesCrystal Valuers LtdPmm PropertiesJ M Mccarthy Properties LtdLandmark Top SolutionsAce Realtors LimitedFranic Villa PropertiesAbsolute Estate AgentsAbsolute Estate AgentsPam Golding PropertiesPam Golding PropertiesCrystal Valuers LtdGreen Knight PropertiesGreen Knight PropertiesHassconsultStop Properties Real EstateEdlon Group LimitedHabitat Realtors International LtdRealty PlusPrudential Green VillePrudential Green VillePrudential Green VillePrudential Green VillePrudential Green VilleCapstone PropertiesCity Homes Kenya Real EstateOrigin HomesJazari HomesPrudential Green VilleCity Homes Kenya Real EstateOrigin HomesJazari HomesBuy Rent SheltersBuy Rent SheltersWealthlink Realtors LtdHilltrust ConsultHilltrust ConsultCloud Real EstateRescom Ventures LtdNaftal PropertiesNaftal PropertiesCfs HomesProperty PointProperty PointBenford HomesPhillavillaPhillavillaCoralinternational LtdCanaan PropertiesGreen Knight PropertiesPrudential Green VilleRealty PlusRayalink PropertiesAbsolute Estate AgentsAbsolute Estate AgentsAbsolute Estate AgentsVaal Real EstateRight Fit PropertiesCapstone PropertiesRoyani Properties LimitedOrigin HomesOrigin HomesWealthlink Realtors LtdBuy Rent SheltersBuy Rent SheltersSplendour Real EstateNaftal PropertiesNaftal PropertiesWestside Real EstateWs Properties LimitedCheska AgenciesApogee Realty HomesRoyani Properties LimitedSwiveltrend LtdGreen Knight PropertiesGreen Knight PropertiesPrudential Green VillePrudential Green VillePrudential Green VillePrudential Green VillePrudential Green VilleSunland Real Estates LimitedCity Homes Kenya Real EstateLaserservices LtdOrigin HomesAbsolute Estate AgentsCloud Real EstateFuzone Pride InvestmentNaftal PropertiesBliss And LoomRejima Homes LtdCasapiu Holdings LimitedSplendor HoldingsSplendor HoldingsPhillavillaLamplighters AgencyFranic Villa PropertiesPrince Classic HomesCoralinternational LtdTysons LimitedPam Golding PropertiesPam Golding PropertiesPam Golding PropertiesPam Golding PropertiesEdlon Group LimitedCitiscape Valuers And Estate Agents LtdTysons LimitedGreen Knight PropertiesFranic Villa PropertiesAbsolute Estate AgentsBlueline Properties 1023Yellow MarketYellow MarketDmus RealtorsFuzone Pride InvestmentPrudential Green VillePrudential Green VilleWealthlink Realtors LtdDmus RealtorsWestside Real EstateAbsolute Estate AgentsYellow MarketYellow MarketFuzone Pride InvestmentPmc Estates LimitedCasapiu Holdings LimitedA List Real EstateCoralinternational LtdOpus PropertiesKenya Classic HomesCitiscape Valuers And Estate Agents LtdHassconsultAbec Real EstatePrudential Green VillePrudential Green VilleRealty PlusRayalink PropertiesMasterways Properties LtdMasterways Properties LtdShingles Kenya LimitedWealthlink Realtors LtdLandmark Top SolutionsWestside Real EstateEver Forgarden Axis Assets LimitedCfs HomesPhillavillaUnique Listings LimitedGreen Knight PropertiesCitiscape Valuers And Estate Agents LtdAce Realtors LimitedCoralinternational LtdCanaan PropertiesMambo Properties EnterprisePrudential Green VilleCity Homes Kenya Real EstateBlueline Properties 1023Origin HomesOrigin HomesSky Limits VenturesPam Golding PropertiesCrystal Valuers LtdSimkar Group LimitedAbsolute Estate AgentsAbsolute Estate AgentsParadigm HomesYellow MarketYellow MarketWestside Real EstateNaftal PropertiesApogee Realty HomesLiko LimitedUnique Casles Management LtdTrisums Investments Company LimitedAntel LimitedHanspace LimitedHalifax Estate AgencyPam Golding PropertiesKimachas EnterprisesBenford HomesAbsolute Estate AgentsOgaye EnterprisesPam Golding PropertiesWellington NdolaCoralinternational LtdCoralinternational LtdSwiveltrend LtdAce Realtors LimitedAce Realtors LimitedPam Golding PropertiesKenya Classic HomesKenya Classic HomesMambo Properties EnterpriseAzizi RealtorsAzizi RealtorsRealty PlusCapstone PropertiesAbsolute Estate AgentsParadigm HomesDmus RealtorsPrudential Green VillePrudential Green VillePrudential Green VilleCity Homes Kenya Real EstateCity Homes Kenya Real EstateYc Real Estate LimitedBenford HomesNickville SheltersAbsolute Estate AgentsDayfield AgenciesParadigm HomesFalcon Sight PropertiesSplendour Real EstateHanspace LimitedDunhill Consulting LimitedJusa Home LimitedCfs HomesPc Properties Real Estate AgencyPc Properties Real Estate AgencyFurnished RentalsPmm PropertiesTrisums Investments Company LimitedDunhill Consulting LimitedJakharris Africa LtdJakharris Africa LtdLighthouse Homes LimitedLighthouse Homes LimitedSplendor HoldingsTrisums Investments Company LimitedCoralinternational LtdNjambi WaruiAce Realtors LimitedPam Golding PropertiesKenya Classic HomesKenya Classic HomesPrudential Green VillePrudential Green VilleBlueline Properties 1023City Homes Kenya Real EstateAbsolute Estate AgentsBuy Rent SheltersWealthlink Realtors LtdOlympia Gold Real EstateCivic CapitalLighthouse Homes LimitedPmm PropertiesJ M Mccarthy Properties LtdSplendor HoldingsBuy Rent SheltersExella RealtyCanaan PropertiesTysons LimitedPrudential Green VillePrudential Green VilleCapstone PropertiesRing Kenya LtdCity Homes Kenya Real EstateBlueline Properties 1023Blueline Properties 1023Ogaye EnterprisesWealthlink Realtors LtdCloud Real EstatePam Golding PropertiesKenya Classic HomesAbsolute Estate AgentsAbsolute Estate AgentsAbsolute Estate AgentsAbsolute Estate AgentsAbsolute Estate AgentsVaal Real EstateMalazo RealtorsParadigm HomesParadigm HomesBuy Rent SheltersBuy Rent SheltersBuy Rent SheltersBuy Rent SheltersSymonns RealtyHilltrust ConsultCastles Cabins RealtorsWestside Real EstateNaftal PropertiesApogee Realty HomesAllione Real EstateFit PropertyOlympia Gold Real EstateCasapiu Holdings LimitedPc Properties Real Estate AgencyPc Properties Real Estate AgencyPhillavillaPmm PropertiesJ M Mccarthy Properties LtdAce Realtors LimitedPam Golding PropertiesKenya Classic HomesMambo Properties EnterpriseMambo Properties EnterpriseRegent Management LtdCapstone PropertiesAbsolute Estate AgentsAbsolute Estate AgentsParadigm HomesPrudential Green VillePrudential Green VillePrudential Green VilleDakima Home InternationalDakima Home InternationalFurnished RentalsWealthlink Realtors LtdCoralinternational LtdCoralinternational LtdHassconsultHassconsultMambo Properties EnterpriseMambo Properties EnterpriseRegent Management LtdPam Golding PropertiesPrudential Green VillePrudential Green VilleRoyani Properties LimitedRoyani Properties LimitedBuy Rent SheltersCastles Cabins RealtorsA List Real EstateTulua MerakiTulua MerakiUnique Casles Management LtdPmm PropertiesOpus PropertiesSwiveltrend LtdAce Realtors LimitedAce Realtors LimitedStop Properties Real EstateCanaan PropertiesPrudential Green VillePrudential Green VilleGimco LimitedAbsolute Estate AgentsParadigm HomesGerryville HomesGerryville HomesKingslink VenturesJ M Mccarthy Properties LtdCrystal Valuers LtdRoyani Properties LimitedBuy Rent SheltersFalcon Sight PropertiesNguso RealtorsBuy Rent SheltersChelezo ResidencyCoralinternational LtdKenya Classic HomesKenya Classic HomesKenya Classic HomesKenya Classic HomesKenya Classic HomesMambo Properties EnterpriseMambo Properties EnterpriseGreen Knight PropertiesGreen Knight PropertiesRegent Management LtdAzizi RealtorsMiamu Properties LimitedParadigm HomesParadigm HomesRoyani Properties LimitedOgaye EnterprisesFit PropertyPrudential Green VillePrudential Green VilleWealthlink Realtors LtdApricotsolutions LimitedApricotsolutions LimitedLandmark Top SolutionsLandmark Top SolutionsParadigm HomesParadigm HomesRoyani Properties LimitedFit PropertyGood Living Properties LimitedWs Properties LimitedLizmor PropertiesDunhill Consulting LimitedCasapiu Holdings LimitedPc Properties Real Estate AgencyFurnished RentalsPmm PropertiesPc Properties Real Estate AgencyGreen Knight PropertiesCanaan PropertiesDunhill Consulting LimitedJ M Mccarthy Properties LtdCoralinternational LtdCoralinternational LtdCanaan PropertiesGimco LimitedHabitat Realtors International LtdMambo Properties EnterpriseGreen Knight PropertiesRegent Management LtdPam Golding PropertiesPam Golding PropertiesPam Golding PropertiesPam Golding PropertiesAzizi RealtorsPrudential Green VillePrudential Green VillePrudential Green VillePrudential Green VillePrudential Green VillePrudential Green VillePrudential Green VilleSema Estate AgentsRoyal Properties Market LimitedAbsolute Estate AgentsKimachas EnterprisesVaal Real EstateCobalt ConsultingYellow MarketHilltrust ConsultHilltrust ConsultHenley Green RealtyRoyal Properties Market LimitedOrigin HomesWealthlink Realtors LtdBuy Rent SheltersSky Limits VenturesSky Limits VenturesApricotsolutions LimitedSplendour Real EstateYellow MarketCobalt ConsultingWs Properties LimitedThe Houswitch Haven LtdTaji Suburbs LtdCfs HomesCfs HomesCfs HomesCasapiu Holdings LimitedCasapiu Holdings LimitedAllione Real EstateAfrique Properties LimitedLighthouse Homes LimitedSplendor HoldingsChawan Business VentureCoralinternational LtdSwiveltrend LtdGreen Knight PropertiesGreen Knight PropertiesGreen Knight PropertiesMambo Properties EnterpriseMambo Properties EnterpriseEastwood Consulting LtdPrudential Green VilleCity Homes Kenya Real EstateCity Homes Kenya Real EstateTysons LimitedPam Golding PropertiesBenford HomesOrigin HomesOrigin HomesSir Francis Marketingconsultants LtdOgaye EnterprisesBuy Rent SheltersYellow MarketCloud Real EstateDmus RealtorsRejima Homes LtdRejima Homes LtdRescom Ventures LtdDunhill Consulting LimitedNaftal PropertiesGerryville HomesAfrique Properties LimitedKeensell VenturesLighthouse Homes LimitedPmm PropertiesAzizi RealtorsAce Realtors LimitedJ M Mccarthy Properties LtdArchstone RealtorsDmus RealtorsApogee Realty HomesAbsolute Estate AgentsCapstone PropertiesDunhill Consulting LimitedCoralinternational LtdOpus PropertiesCanaan PropertiesPam Golding PropertiesKenya Classic HomesCitiscape Valuers And Estate Agents LtdMambo Properties EnterpriseGreen Knight PropertiesAzizi RealtorsAzizi RealtorsPrudential Green VillePrudential Green VillePrudential Green VilleSunland Real Estates LimitedCura International LimitedWealthlink Realtors LtdFalcon Sight PropertiesTrisums Investments Company LimitedMambo Properties EnterpriseKenya Classic HomesAzizi RealtorsCanaan PropertiesCanaan PropertiesGreen Knight PropertiesGreen Knight PropertiesGreen Knight PropertiesSimkar Group LimitedSimkar Group LimitedEastwood Consulting LtdPrudential Green VillePrudential Green VillePrudential Green VilleRealty PlusRing Kenya LtdRing Kenya LtdCity Homes Kenya Real EstateRayalink PropertiesAbsolute Estate AgentsParadigm HomesYellow MarketSymonns RealtyCapstone PropertiesBlueline Properties 1023Royani Properties LimitedWealthlink Realtors LtdBuy Rent SheltersLandmark Top SolutionsLandmark Top SolutionsLandmark Top SolutionsFalcon Sight PropertiesWs Properties LimitedAfrique Properties LimitedSplendor HoldingsGreen Knight PropertiesKenya Classic HomesPrudential Green VillePrudential Green VilleSunland Real Estates LimitedEl Roi PropertiesTysons LimitedPam Golding PropertiesPam Golding PropertiesAzizi RealtorsRoyal Properties Market LimitedBenford HomesOrigin HomesOrigin HomesAbsolute Estate AgentsBuy Rent SheltersYellow MarketYellow MarketWealthlink Realtors LtdWs Properties LimitedWs Properties LimitedVsb Properties LimitedCasapiu Holdings LimitedCasapiu Holdings LimitedUrban HutCasapiu Holdings LimitedCasapiu Holdings LimitedAfrique Properties LimitedWs Properties LimitedCoralinternational LtdSimkar Group LimitedDayfield AgenciesBuy Rent SheltersWealthlink Realtors LtdPmc Estates LimitedDunhill Consulting LimitedTrisums Investments Company LimitedCanaan PropertiesFranic Villa PropertiesGeoscape Global LimitedRoyal Properties Market LimitedRayalink PropertiesOrigin HomesBuy Rent SheltersBuy Rent SheltersBuy Rent SheltersNaftal PropertiesWestside Real EstateCapstone PropertiesOrigin HomesBuy Rent SheltersBuy Rent SheltersBuy Rent SheltersFit PropertyWestside Real EstateRealty PlusCoralinternational LtdCoralinternational LtdCoralinternational LtdCoralinternational LtdCanaan PropertiesGimco LimitedEastwood Consulting LtdPam Golding PropertiesPam Golding PropertiesRegent Management LtdRealty PlusExpo PropertiesParadigm HomesDmus RealtorsFit PropertyCity Homes Kenya Real EstateBenford HomesBuy Rent SheltersWealthlink Realtors LtdHilltrust ConsultA1 Properties LimitedA1 Properties LimitedDakima Home InternationalWs Properties LimitedWs Properties LimitedWs Properties LimitedWs Properties LimitedThe Houswitch Haven LtdCfs HomesKeensell VenturesChawan Business VentureJ M Mccarthy Properties LtdJ M Mccarthy Properties LtdAce Realtors LimitedEastwood Consulting LtdTysons LimitedMambo Properties EnterpriseGreen Knight PropertiesGreen Knight PropertiesRegent Management LtdRegent Management LtdPam Golding PropertiesPam Golding PropertiesEden Height RealtyEden Height RealtyAbsolute Estate AgentsAbsolute Estate AgentsDayfield AgenciesYellow MarketCloud Real EstateFit PropertyGeoscape Global LimitedCapstone PropertiesCapstone PropertiesAntel LimitedBenford HomesWealthlink Realtors LtdBuy Rent SheltersBuy Rent SheltersCloud Real EstateYellow MarketFit PropertyNickville SheltersPmc Estates LimitedWs Properties LimitedWs Properties LimitedHavilaplus Estates LtdKeensell VenturesJakharris Africa LtdPc Properties Real Estate AgencyPmm PropertiesTussy RealtorsJ M Mccarthy Properties LtdMambo Properties EnterpriseDalizu Holdings LimitedCoralinternational LtdGreen Knight PropertiesGreen Knight PropertiesGreen Knight PropertiesMambo Properties EnterpriseKenya Classic HomesPrudential Green VilleRealty PlusSunland Real Estates LimitedCity Homes Kenya Real EstatePam Golding PropertiesAzizi RealtorsMalazo RealtorsBenford HomesRayalink PropertiesAbsolute Estate AgentsVaal Real EstateVaal Real EstateJazari HomesRoyani Properties LimitedYellow MarketYellow MarketSky Limits VenturesWealthlink Realtors LtdWealthlink Realtors LtdWealthlink Realtors LtdWealthlink Realtors LtdHyra Real Estate LtdNaftal PropertiesNaftal PropertiesWs Properties LimitedVsb Properties LimitedCfs HomesLandmark Top SolutionsFit PropertyA1 Properties LimitedRejima Homes LtdRejima Homes LtdTaji Suburbs LtdChelezo ResidencyFurnished RentalsJ M Mccarthy Properties LtdReal Management Services 2002LimitedCoralinternational LtdStop Properties Real EstateBuy Rent SheltersWestside Real EstateWs Properties LimitedDunhill Consulting LimitedLighthouse Homes LimitedPrudential Green VillePrudential Green VilleGeoscape Global LimitedGeoscape Global LimitedAbsolute Estate AgentsOrion ValuersWealthlink Realtors LtdCasapiu Holdings LimitedLamplighters AgencyCalmillers_Holding_LtdRealty PlusPam Golding PropertiesShingles Kenya LimitedChawan Business VentureDalizu Holdings LimitedPam Golding PropertiesCoralinternational LtdMambo Properties EnterpriseMambo Properties EnterpriseKensimenterprisesPam Golding PropertiesReal Management Services 2002LimitedZone East AfricaZone East AfricaYellow MarketFit PropertyPrudential Green VilleSunland Real Estates LimitedBuy Rent SheltersSky Limits VenturesWealthlink Realtors LtdWealthlink Realtors LtdFalcon Sight PropertiesWs Properties LimitedProptech Kenya LimitedBliss And LoomPmm PropertiesGreenday PropertiesAvic InternationalPmm PropertiesVimar PropertiesDalizu Holdings LimitedProptech Kenya LimitedCoralinternational LtdSwiveltrend LtdAce Realtors LimitedMambo Properties EnterpriseKenya Classic HomesKenya Classic HomesPrudential Green VilleCity Homes Kenya Real EstateSir Francis Marketingconsultants LtdMasterways Properties LtdDayfield AgenciesOrigin HomesCura International LimitedRoyani Properties LimitedBuy Rent SheltersApricotsolutions LimitedWealthlink Realtors LtdWealthlink Realtors LtdDakima Home InternationalWestside Real EstateYellow MarketRight Fit PropertiesLandmark Top SolutionsA1 Properties LimitedA1 Properties LimitedRejima Homes LtdWs Properties LimitedWs Properties LimitedLiflac PropertiesGerryville HomesDunhill Consulting LimitedUrban HutFurnished RentalsSplendor HoldingsTrisums Investments Company LimitedCoralinternational LtdGreen Knight PropertiesGreen Knight PropertiesGreen Knight PropertiesCanaan PropertiesMambo Properties EnterpriseMambo Properties EnterpriseMambo Properties EnterpriseMambo Properties EnterpriseRegent Management LtdEden Height RealtySunland Real Estates LimitedHalifax Estate AgencyBenford HomesOrigin HomesHold Kenya Investments LimitedRoyalgen EstatesWealthlink Realtors LtdWealthlink Realtors LtdCrystal Valuers LtdKenya Classic HomesAbsolute Estate AgentsMasterways Properties LtdDayfield AgenciesBuy Rent SheltersFuzone Pride InvestmentWs Properties LimitedMedallion SystemsLandmark Top SolutionsLandmark Top SolutionsThe Houswitch Haven LtdKeensell VenturesFurnished RentalsAce Realtors LimitedCanaan PropertiesCoralinternational LtdCanaan PropertiesDunhill Consulting LimitedPrudential Green VilleWealthlink Realtors LtdGood Living Properties LimitedGreenday PropertiesSky Limits VenturesA1 Properties LimitedFalcon Sight PropertiesWs Properties LimitedWs Properties LimitedOpus PropertiesGreen Knight PropertiesTysons LimitedKensimenterprisesEastwood Consulting LtdWealthlink Realtors LtdWs Properties LimitedFit PropertyStop Properties Real EstateMambo Properties EnterpriseMambo Properties EnterpriseMambo Properties EnterpriseMambo Properties EnterpriseMambo Properties EnterpriseKenya Classic HomesKenya Classic HomesGreen Knight PropertiesHighend ConsultingCapstone PropertiesAbsolute Estate AgentsParadigm HomesRoyani Properties LimitedOrigin HomesJazari HomesA1 Properties LimitedA1 Properties LimitedDakima Home InternationalCfs HomesUnique Casles Management LtdUnique Casles Management LtdKeensell VenturesJakharris Africa LtdRoyani Properties LimitedCoralinternational LtdCoralinternational LtdCoralinternational LtdCoralinternational LtdSimkar Group LimitedMambo Properties EnterpriseGreen Knight PropertiesPrime LandsPrudential Green VilleOrigin HomesBuy Rent SheltersBuy Rent SheltersWealthlink Realtors LtdWealthlink Realtors LtdBuy Rent SheltersBuy Rent SheltersOlympia Gold Real EstateNaftal PropertiesEnsuite RealtorsGreenday PropertiesJ M Mccarthy Properties LtdJ M Mccarthy Properties LtdHassconsultKenya Classic HomesCitiscape Valuers And Estate Agents LtdPrime LandsHalifax Estate AgencyCity Homes Kenya Real EstateOrigin HomesBuy Rent SheltersBuy Rent SheltersYellow MarketSymonns RealtyWealthlink Realtors LtdCloud Real EstateWs Properties LimitedCasapiu Holdings LimitedCoralinternational LtdPam Golding PropertiesPam Golding PropertiesFit PropertyWashington Homes KenyaCoralinternational LtdPrudential Green VilleGeoscape Global LimitedCapstone PropertiesPrudential Green VilleCoralinternational LtdKenya Classic HomesMambo Properties EnterpriseMambo Properties EnterpriseGreen Knight PropertiesRealty PlusCapstone PropertiesYellow MarketDmus RealtorsFit PropertyWealthlink Realtors LtdDmus RealtorsA1 Properties LimitedNaftal PropertiesNaftal PropertiesYellow MarketFit PropertyDakima Home InternationalWs Properties LimitedWs Properties LimitedBlue Zone PropertiesLizmor PropertiesGerryville HomesTaji Suburbs LtdDunhill Consulting LimitedCalmillers_Holding_LtdChelezo ResidencyFurnished RentalsFurnished RentalsDunhill Consulting LimitedKeensell VenturesSplendor HoldingsAce Realtors LimitedCoralinternational LtdMambo Properties EnterpriseMambo Properties EnterprisePam Golding PropertiesPam Golding PropertiesPam Golding PropertiesAzizi RealtorsPrime LandsRealty PlusRealty PlusHalifax Estate AgencyRing Kenya LtdSema Estate AgentsRayalink PropertiesSir Francis Marketingconsultants LtdYellow MarketYellow MarketAcurate Homes LimitedDmus RealtorsDmus RealtorsOrigin HomesOrigin HomesOrigin HomesWealthlink Realtors LtdWealthlink Realtors LtdWealthlink Realtors LtdDakima Home InternationalGood Living Properties LimitedGemac PropertiesBlue Zone PropertiesWs Properties LimitedWs Properties LimitedLizmor PropertiesLizmor PropertiesCfs HomesFurnished RentalsFurnished RentalsFurnished RentalsWealthlink Realtors LtdKeensell VenturesCasapiu Holdings LimitedJ M Mccarthy Properties LtdTrisums Investments Company LimitedCanaan PropertiesStop Properties Real EstateMambo Properties EnterpriseMambo Properties EnterpriseRegent Management LtdEastwood Consulting LtdCapstone PropertiesEl Roi PropertiesCity Homes Kenya Real EstateCity Homes Kenya Real EstateRegent Management LtdPam Golding PropertiesPam Golding PropertiesVaal Real EstateLavingtonmanagementYellow MarketYellow MarketWealthlink Realtors LtdWealthlink Realtors LtdWealthlink Realtors LtdApricotsolutions LimitedDmus RealtorsHilltrust ConsultRight Fit PropertiesNaftal PropertiesWs Properties LimitedVsb Properties LimitedAllione Real EstateCfs HomesUrban HutFit PropertySpark PropertiesFurnished RentalsFurnished RentalsFurnished RentalsJ M Mccarthy Properties LtdBuy Rent SheltersFurnished RentalsEnsuite RealtorsBuy Rent SheltersParadigm HomesDmus RealtorsPam Golding PropertiesMambo Properties EnterpriseMambo Properties EnterprisePam Golding PropertiesGimco LimitedPrudential Green VilleOrigin HomesJazari HomesSky Limits VenturesWealthlink Realtors LtdWealthlink Realtors LtdWealthlink Realtors LtdWealthlink Realtors LtdWealthlink Realtors LtdWealthlink Realtors LtdWealthlink Realtors LtdDakima Home InternationalDakima Home InternationalRejima Homes LtdRejima Homes LtdRejima Homes LtdWs Properties LimitedLizmor PropertiesTaji Suburbs LtdA List Real EstateAllione Real EstateGreenday PropertiesJ M Mccarthy Properties LtdDalizu Holdings LimitedCoralinternational LtdCoralinternational LtdOpus PropertiesCanaan PropertiesEastwood Consulting LtdMambo Properties EnterpriseMambo Properties EnterpriseMambo Properties EnterpriseGreen Knight PropertiesCass Homes LimitedAzizi RealtorsOrigin HomesWealthlink Realtors LtdOrigin HomesWealthlink Realtors LtdWealthlink Realtors LtdOlympia Gold Real EstateRejima Homes LtdWestside Real EstateWs Properties LimitedWs Properties LimitedLighthouse Homes LimitedEnsuite RealtorsCanaan PropertiesMambo Properties EnterpriseMambo Properties EnterpriseCass Homes LimitedCass Homes LimitedPrudential Green VilleHighend ConsultingWealthlink Realtors LtdPam Golding PropertiesSimkar Group LimitedCass Homes LimitedCass Homes LimitedSir Francis Marketingconsultants LtdBuy Rent SheltersFuraha PropertiesPmc Estates LimitedFit PropertyLizmor PropertiesLizmor PropertiesSunflag KenyaDalizu Holdings LimitedMambo Properties EnterpriseEden Height RealtyCalmillers_Holding_LtdAfrique Properties LimitedCanaan PropertiesDayfield AgenciesFalcon Sight PropertiesFit PropertyWs Properties LimitedCoralinternational LtdCoralinternational LtdGreen Knight PropertiesGeoscape Global LimitedPmc Estates LimitedWestside Real EstateCoralinternational LtdMambo Properties EnterpriseMambo Properties EnterpriseMambo Properties EnterpriseMambo Properties EnterpriseCapstone PropertiesPrudential Green VilleSky Limits VenturesHyra Real Estate LtdDakima Home InternationalDakima Home InternationalCastles Cabins RealtorsWs Properties LimitedWs Properties LimitedMambo Properties EnterpriseCrystal Valuers LtdCrystal Valuers LtdEden Height RealtyAbsolute Estate AgentsMasterways Properties LtdCloud Real EstateRejima Homes LtdDunhill Consulting LimitedFurnished RentalsFurnished RentalsSwiveltrend LtdGreen Knight PropertiesMambo Properties EnterpriseKenya Classic HomesCapstone PropertiesHalifax Estate AgencyPam Golding PropertiesPam Golding PropertiesGemac PropertiesFit PropertyA1 Properties LimitedThe Houswitch Haven LtdGerryville HomesFurnished RentalsPam Golding PropertiesApricotsolutions LimitedPrime LandsCapstone PropertiesRoyal Properties Market LimitedBuy Rent SheltersCloud Real EstateNaftal PropertiesCapstone PropertiesWealthlink Realtors LtdBuy Rent SheltersDakima Home InternationalCoralinternational LtdBuy Rent SheltersBuy Rent SheltersBuy Rent SheltersEden Height RealtyCoralinternational LtdCoralinternational LtdRainbow Properties LimitedMambo Properties EnterpriseGreen Knight PropertiesSimkar Group LimitedRealty PlusRing Kenya LtdRoyal Properties Market LimitedCity Homes Kenya Real EstateOrigin HomesOrigin HomesAvic InternationalDmus RealtorsA1 Properties LimitedGeoscape Global LimitedPmc Estates Limited'"
      ]
     },
     "execution_count": 33,
     "metadata": {},
     "output_type": "execute_result"
    }
   ],
   "source": [
    "df4.Agency.sum()"
   ]
  },
  {
   "cell_type": "code",
   "execution_count": 35,
   "id": "f661d3b6-7b54-44b3-bed0-dab0b9f65fd2",
   "metadata": {},
   "outputs": [
    {
     "data": {
      "text/plain": [
       "np.int64(138)"
      ]
     },
     "execution_count": 35,
     "metadata": {},
     "output_type": "execute_result"
    }
   ],
   "source": [
    "df4.duplicated().sum()"
   ]
  },
  {
   "cell_type": "code",
   "execution_count": 37,
   "id": "b76b79aa-5de5-47d5-adf3-707ff451a7c2",
   "metadata": {},
   "outputs": [
    {
     "data": {
      "text/plain": [
       "Text(0, 0.5, 'Count')"
      ]
     },
     "execution_count": 37,
     "metadata": {},
     "output_type": "execute_result"
    },
    {
     "data": {
      "image/png": "[encoded data removed]",
      "text/plain": [
       "<Figure size 640x480 with 1 Axes>"
      ]
     },
     "metadata": {},
     "output_type": "display_data"
    }
   ],
   "source": [
    "plt.hist(df4.Bathrooms,rwidth=0.8)\n",
    "plt.xlabel(\"Number of bathrooms\")\n",
    "plt.ylabel(\"Count\")"
   ]
  },
  {
   "cell_type": "code",
   "execution_count": 40,
   "id": "6563634f-b0ed-445a-b29e-9397cf742b00",
   "metadata": {},
   "outputs": [
    {
     "data": {
      "text/plain": [
       "(1838, 7)"
      ]
     },
     "execution_count": 40,
     "metadata": {},
     "output_type": "execute_result"
    }
   ],
   "source": [
    "df5 = df4[df4.Bathrooms < 6]\n",
    "df5.shape"
   ]
  },
  {
   "cell_type": "code",
   "execution_count": 41,
   "id": "83dfb75e-79aa-46ab-b5b0-43842ab0dbdc",
   "metadata": {},
   "outputs": [
    {
     "data": {
      "text/plain": [
       "Text(0, 0.5, 'Count')"
      ]
     },
     "execution_count": 41,
     "metadata": {},
     "output_type": "execute_result"
    },
    {
     "data": {
      "image/png": "[encoded data removed]",
      "text/plain": [
       "<Figure size 640x480 with 1 Axes>"
      ]
     },
     "metadata": {},
     "output_type": "display_data"
    }
   ],
   "source": [
    "plt.hist(df4.Bathrooms,rwidth=0.8)\n",
    "plt.xlabel(\"Number of bathrooms\")\n",
    "plt.ylabel(\"Count\")"
   ]
  },
  {
   "cell_type": "code",
   "execution_count": null,
   "id": "a69c2520-620a-4fc1-b8f9-0b1169e0f5fd",
   "metadata": {},
   "outputs": [],
   "source": [
    "def remove_pps_outliers(df):\n",
    "    df_out = pd.DataFrame()\n",
    "    for key, subdf in df.groupby('Neighborhood'):\n",
    "        m = np.mean(subdf.price_per_sqft)\n",
    "        st = np.std(subdf.price_per_sqft)\n",
    "        reduced_df = subdf[(subdf.price_per_sqft>(m-st)) & (subdf.price_per_sqft<=(m+st))]\n",
    "        df_out = pd.concat([df_out,reduced_df],ignore_index=True)\n",
    "    return df_out\n",
    "df6 = remove_pps_outliers(df5)\n",
    "df6.shape"
   ]
  }
 ],
 "metadata": {
  "kernelspec": {
   "display_name": "Python 3 (ipykernel)",
   "language": "python",
   "name": "python3"
  },
  "language_info": {
   "codemirror_mode": {
    "name": "ipython",
    "version": 3
   },
   "file_extension": ".py",
   "mimetype": "text/x-python",
   "name": "python",
   "nbconvert_exporter": "python",
   "pygments_lexer": "ipython3",
   "version": "3.10.5"
  }
 },
 "nbformat": 4,
 "nbformat_minor": 5
}
