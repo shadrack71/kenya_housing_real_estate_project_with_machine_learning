{
 "cells": [
  {
   "cell_type": "code",
   "execution_count": 1,
   "id": "e1f3d55b-ecc6-470f-9e33-64978983872a",
   "metadata": {},
   "outputs": [],
   "source": [
    "import pandas as pd\n",
    "import numpy as np\n",
    "from matplotlib import pyplot as plt\n",
    "from sklearn.model_selection import train_test_split\n",
    "from sklearn.model_selection import ShuffleSplit\n",
    "from sklearn.model_selection import cross_val_score\n",
    "from sklearn.model_selection import GridSearchCV\n",
    "from sklearn.linear_model import Lasso\n",
    "from sklearn.linear_model import LinearRegression\n",
    "from sklearn.tree import DecisionTreeRegressor\n",
    "from sklearn import svm\n",
    "from sklearn.ensemble import RandomForestClassifier\n",
    "from sklearn.linear_model import LogisticRegression\n",
    "import pickle\n",
    "import json\n",
    "%matplotlib inline\n"
   ]
  },
  {
   "cell_type": "code",
   "execution_count": 2,
   "id": "a0eba803-da36-4710-af4b-6ee6c1cb367d",
   "metadata": {},
   "outputs": [
    {
     "data": {
      "text/html": [
       "<div>\n",
       "<style scoped>\n",
       "    .dataframe tbody tr th:only-of-type {\n",
       "        vertical-align: middle;\n",
       "    }\n",
       "\n",
       "    .dataframe tbody tr th {\n",
       "        vertical-align: top;\n",
       "    }\n",
       "\n",
       "    .dataframe thead th {\n",
       "        text-align: right;\n",
       "    }\n",
       "</style>\n",
       "<table border=\"1\" class=\"dataframe\">\n",
       "  <thead>\n",
       "    <tr style=\"text-align: right;\">\n",
       "      <th></th>\n",
       "      <th>Agency</th>\n",
       "      <th>Neighborhood</th>\n",
       "      <th>Price</th>\n",
       "      <th>link</th>\n",
       "      <th>sq_mtrs</th>\n",
       "      <th>Bedrooms</th>\n",
       "      <th>Bathrooms</th>\n",
       "    </tr>\n",
       "  </thead>\n",
       "  <tbody>\n",
       "    <tr>\n",
       "      <th>0</th>\n",
       "      <td>Buy Rent Shelters</td>\n",
       "      <td>General Mathenge, Westlands</td>\n",
       "      <td>KSh 155,000</td>\n",
       "      <td>/listings/4-bedroom-apartment-for-rent-general...</td>\n",
       "      <td>4.0</td>\n",
       "      <td>4.0</td>\n",
       "      <td>4.0</td>\n",
       "    </tr>\n",
       "    <tr>\n",
       "      <th>1</th>\n",
       "      <td>Kenya Classic Homes</td>\n",
       "      <td>Kilimani, Dagoretti North</td>\n",
       "      <td>KSh 100,000</td>\n",
       "      <td>/listings/3-bedroom-apartment-for-rent-kiliman...</td>\n",
       "      <td>300.0</td>\n",
       "      <td>3.0</td>\n",
       "      <td>4.0</td>\n",
       "    </tr>\n",
       "    <tr>\n",
       "      <th>2</th>\n",
       "      <td>Absolute Estate Agents</td>\n",
       "      <td>Hatheru Rd,, Lavington, Dagoretti North</td>\n",
       "      <td>KSh 75,000</td>\n",
       "      <td>/listings/3-bedroom-apartment-for-rent-lavingt...</td>\n",
       "      <td>3.0</td>\n",
       "      <td>3.0</td>\n",
       "      <td>5.0</td>\n",
       "    </tr>\n",
       "    <tr>\n",
       "      <th>3</th>\n",
       "      <td>A1 Properties Limited</td>\n",
       "      <td>Kilimani, Dagoretti North</td>\n",
       "      <td>KSh 135,000</td>\n",
       "      <td>/listings/3-bedroom-apartment-for-rent-kiliman...</td>\n",
       "      <td>227.0</td>\n",
       "      <td>3.0</td>\n",
       "      <td>4.0</td>\n",
       "    </tr>\n",
       "    <tr>\n",
       "      <th>4</th>\n",
       "      <td>Pmc Estates Limited</td>\n",
       "      <td>Imara Daima, Embakasi</td>\n",
       "      <td>KSh 50,000</td>\n",
       "      <td>/listings/3-bedroom-apartment-for-rent-imara-d...</td>\n",
       "      <td>3.0</td>\n",
       "      <td>3.0</td>\n",
       "      <td>NaN</td>\n",
       "    </tr>\n",
       "  </tbody>\n",
       "</table>\n",
       "</div>"
      ],
      "text/plain": [
       "                   Agency                             Neighborhood  \\\n",
       "0       Buy Rent Shelters              General Mathenge, Westlands   \n",
       "1     Kenya Classic Homes                Kilimani, Dagoretti North   \n",
       "2  Absolute Estate Agents  Hatheru Rd,, Lavington, Dagoretti North   \n",
       "3   A1 Properties Limited                Kilimani, Dagoretti North   \n",
       "4     Pmc Estates Limited                    Imara Daima, Embakasi   \n",
       "\n",
       "         Price                                               link  sq_mtrs  \\\n",
       "0  KSh 155,000  /listings/4-bedroom-apartment-for-rent-general...      4.0   \n",
       "1  KSh 100,000  /listings/3-bedroom-apartment-for-rent-kiliman...    300.0   \n",
       "2   KSh 75,000  /listings/3-bedroom-apartment-for-rent-lavingt...      3.0   \n",
       "3  KSh 135,000  /listings/3-bedroom-apartment-for-rent-kiliman...    227.0   \n",
       "4   KSh 50,000  /listings/3-bedroom-apartment-for-rent-imara-d...      3.0   \n",
       "\n",
       "   Bedrooms  Bathrooms  \n",
       "0       4.0        4.0  \n",
       "1       3.0        4.0  \n",
       "2       3.0        5.0  \n",
       "3       3.0        4.0  \n",
       "4       3.0        NaN  "
      ]
     },
     "execution_count": 2,
     "metadata": {},
     "output_type": "execute_result"
    }
   ],
   "source": [
    "df1 = pd.read_csv('data/rent_apts.csv')\n",
    "df1.head()"
   ]
  },
  {
   "cell_type": "code",
   "execution_count": 3,
   "id": "0b4fbb8c-0bfb-4073-b587-211f1e0d0785",
   "metadata": {},
   "outputs": [
    {
     "data": {
      "text/html": [
       "<div>\n",
       "<style scoped>\n",
       "    .dataframe tbody tr th:only-of-type {\n",
       "        vertical-align: middle;\n",
       "    }\n",
       "\n",
       "    .dataframe tbody tr th {\n",
       "        vertical-align: top;\n",
       "    }\n",
       "\n",
       "    .dataframe thead th {\n",
       "        text-align: right;\n",
       "    }\n",
       "</style>\n",
       "<table border=\"1\" class=\"dataframe\">\n",
       "  <thead>\n",
       "    <tr style=\"text-align: right;\">\n",
       "      <th></th>\n",
       "      <th>sq_mtrs</th>\n",
       "      <th>Bedrooms</th>\n",
       "      <th>Bathrooms</th>\n",
       "    </tr>\n",
       "  </thead>\n",
       "  <tbody>\n",
       "    <tr>\n",
       "      <th>count</th>\n",
       "      <td>1846.000000</td>\n",
       "      <td>1845.000000</td>\n",
       "      <td>1557.000000</td>\n",
       "    </tr>\n",
       "    <tr>\n",
       "      <th>mean</th>\n",
       "      <td>327.226977</td>\n",
       "      <td>2.577778</td>\n",
       "      <td>2.595376</td>\n",
       "    </tr>\n",
       "    <tr>\n",
       "      <th>std</th>\n",
       "      <td>2048.784581</td>\n",
       "      <td>0.819399</td>\n",
       "      <td>1.000349</td>\n",
       "    </tr>\n",
       "    <tr>\n",
       "      <th>min</th>\n",
       "      <td>0.000000</td>\n",
       "      <td>0.000000</td>\n",
       "      <td>1.000000</td>\n",
       "    </tr>\n",
       "    <tr>\n",
       "      <th>25%</th>\n",
       "      <td>2.000000</td>\n",
       "      <td>2.000000</td>\n",
       "      <td>2.000000</td>\n",
       "    </tr>\n",
       "    <tr>\n",
       "      <th>50%</th>\n",
       "      <td>3.000000</td>\n",
       "      <td>3.000000</td>\n",
       "      <td>2.000000</td>\n",
       "    </tr>\n",
       "    <tr>\n",
       "      <th>75%</th>\n",
       "      <td>4.000000</td>\n",
       "      <td>3.000000</td>\n",
       "      <td>3.000000</td>\n",
       "    </tr>\n",
       "    <tr>\n",
       "      <th>max</th>\n",
       "      <td>40470.000000</td>\n",
       "      <td>6.000000</td>\n",
       "      <td>6.000000</td>\n",
       "    </tr>\n",
       "  </tbody>\n",
       "</table>\n",
       "</div>"
      ],
      "text/plain": [
       "            sq_mtrs     Bedrooms    Bathrooms\n",
       "count   1846.000000  1845.000000  1557.000000\n",
       "mean     327.226977     2.577778     2.595376\n",
       "std     2048.784581     0.819399     1.000349\n",
       "min        0.000000     0.000000     1.000000\n",
       "25%        2.000000     2.000000     2.000000\n",
       "50%        3.000000     3.000000     2.000000\n",
       "75%        4.000000     3.000000     3.000000\n",
       "max    40470.000000     6.000000     6.000000"
      ]
     },
     "execution_count": 3,
     "metadata": {},
     "output_type": "execute_result"
    }
   ],
   "source": [
    "df1.describe()"
   ]
  },
  {
   "cell_type": "code",
   "execution_count": 4,
   "id": "3bb2f5f2-f58e-44de-a5f0-137173846498",
   "metadata": {},
   "outputs": [
    {
     "name": "stdout",
     "output_type": "stream",
     "text": [
      "<class 'pandas.core.frame.DataFrame'>\n",
      "RangeIndex: 1848 entries, 0 to 1847\n",
      "Data columns (total 7 columns):\n",
      " #   Column        Non-Null Count  Dtype  \n",
      "---  ------        --------------  -----  \n",
      " 0   Agency        1848 non-null   object \n",
      " 1   Neighborhood  1848 non-null   object \n",
      " 2   Price         1848 non-null   object \n",
      " 3   link          1848 non-null   object \n",
      " 4   sq_mtrs       1846 non-null   float64\n",
      " 5   Bedrooms      1845 non-null   float64\n",
      " 6   Bathrooms     1557 non-null   float64\n",
      "dtypes: float64(3), object(4)\n",
      "memory usage: 101.2+ KB\n"
     ]
    }
   ],
   "source": [
    "df1.info()"
   ]
  },
  {
   "cell_type": "code",
   "execution_count": 15,
   "id": "7c1d5bb7-73b0-4fb1-a94d-4c7135ad3f55",
   "metadata": {},
   "outputs": [
    {
     "ename": "AttributeError",
     "evalue": "'numpy.ndarray' object has no attribute 'count'",
     "output_type": "error",
     "traceback": [
      "\u001b[1;31m---------------------------------------------------------------------------\u001b[0m",
      "\u001b[1;31mAttributeError\u001b[0m                            Traceback (most recent call last)",
      "Cell \u001b[1;32mIn[15], line 1\u001b[0m\n\u001b[1;32m----> 1\u001b[0m \u001b[43mdf1\u001b[49m\u001b[38;5;241;43m.\u001b[39;49m\u001b[43mAgency\u001b[49m\u001b[38;5;241;43m.\u001b[39;49m\u001b[43munique\u001b[49m\u001b[43m(\u001b[49m\u001b[43m)\u001b[49m\u001b[38;5;241;43m.\u001b[39;49m\u001b[43mcount\u001b[49m\n",
      "\u001b[1;31mAttributeError\u001b[0m: 'numpy.ndarray' object has no attribute 'count'"
     ]
    }
   ],
   "source": [
    "df1.Agency.unique().count"
   ]
  },
  {
   "cell_type": "code",
   "execution_count": 11,
   "id": "e8d5a876-ae8e-4ad9-ad93-050c01f36952",
   "metadata": {},
   "outputs": [
    {
     "data": {
      "text/plain": [
       "Neighborhood\n",
       ", Dennis Pritt, Kilimani, Dagoretti North            1\n",
       "01, Marula Lane, Kilimani, Dagoretti North           1\n",
       "04, kilimani, Kilimani, Dagoretti North              1\n",
       "1 Kilimani, Kilimani, Dagoretti North                1\n",
       "1 Ojijo, Parklands, Westlands                        1\n",
       "                                                    ..\n",
       "walk to valley arcade, Lavington, Dagoretti North    1\n",
       "wambugu road, 1st parkland, Parklands, Westlands     1\n",
       "westlands Avenue , Westlands Area, Westlands         1\n",
       "westlands, Westlands Area, Westlands                 2\n",
       "westlands, Westlands, Riverside, Westlands           1\n",
       "Name: Neighborhood, Length: 647, dtype: int64"
      ]
     },
     "execution_count": 11,
     "metadata": {},
     "output_type": "execute_result"
    }
   ],
   "source": [
    "df1.groupby('Neighborhood')['Neighborhood'].agg('count')"
   ]
  },
  {
   "cell_type": "code",
   "execution_count": 16,
   "id": "243f0b1d-603f-40ec-9536-433726fd48a5",
   "metadata": {},
   "outputs": [
    {
     "data": {
      "text/plain": [
       "Agency\n",
       "Prudential Green Ville            98\n",
       "Wealthlink Realtors Ltd           67\n",
       "Buy Rent Shelters                 59\n",
       "Pam Golding Properties            51\n",
       "Mambo Properties Enterprise       51\n",
       "                                  ..\n",
       "Archstone Realtors                 1\n",
       "Hold Kenya Investments Limited     1\n",
       "Royalgen Estates                   1\n",
       "Sunflag Kenya                      1\n",
       "Rainbow Properties Limited         1\n",
       "Name: count, Length: 194, dtype: int64"
      ]
     },
     "execution_count": 16,
     "metadata": {},
     "output_type": "execute_result"
    }
   ],
   "source": [
    "df1['Agency'].value_counts()"
   ]
  },
  {
   "cell_type": "code",
   "execution_count": 23,
   "id": "7d7d2600-2f6e-4d57-94e9-986325604595",
   "metadata": {},
   "outputs": [
    {
     "name": "stderr",
     "output_type": "stream",
     "text": [
      "C:\\Users\\user\\AppData\\Local\\Temp\\ipykernel_13676\\196160112.py:1: UserWarning: Boolean Series key will be reindexed to match DataFrame index.\n",
      "  df1[(df1['Agency'].value_counts()  <= 1)]\n"
     ]
    },
    {
     "ename": "IndexingError",
     "evalue": "Unalignable boolean Series provided as indexer (index of the boolean Series and of the indexed object do not match).",
     "output_type": "error",
     "traceback": [
      "\u001b[1;31m---------------------------------------------------------------------------\u001b[0m",
      "\u001b[1;31mIndexingError\u001b[0m                             Traceback (most recent call last)",
      "Cell \u001b[1;32mIn[23], line 1\u001b[0m\n\u001b[1;32m----> 1\u001b[0m \u001b[43mdf1\u001b[49m\u001b[43m[\u001b[49m\u001b[43m(\u001b[49m\u001b[43mdf1\u001b[49m\u001b[43m[\u001b[49m\u001b[38;5;124;43m'\u001b[39;49m\u001b[38;5;124;43mAgency\u001b[39;49m\u001b[38;5;124;43m'\u001b[39;49m\u001b[43m]\u001b[49m\u001b[38;5;241;43m.\u001b[39;49m\u001b[43mvalue_counts\u001b[49m\u001b[43m(\u001b[49m\u001b[43m)\u001b[49m\u001b[43m  \u001b[49m\u001b[38;5;241;43m<\u001b[39;49m\u001b[38;5;241;43m=\u001b[39;49m\u001b[43m \u001b[49m\u001b[38;5;241;43m1\u001b[39;49m\u001b[43m)\u001b[49m\u001b[43m]\u001b[49m\n",
      "File \u001b[1;32m~\\AppData\\Local\\Programs\\Python\\Python310\\lib\\site-packages\\pandas\\core\\frame.py:4093\u001b[0m, in \u001b[0;36mDataFrame.__getitem__\u001b[1;34m(self, key)\u001b[0m\n\u001b[0;32m   4091\u001b[0m \u001b[38;5;66;03m# Do we have a (boolean) 1d indexer?\u001b[39;00m\n\u001b[0;32m   4092\u001b[0m \u001b[38;5;28;01mif\u001b[39;00m com\u001b[38;5;241m.\u001b[39mis_bool_indexer(key):\n\u001b[1;32m-> 4093\u001b[0m     \u001b[38;5;28;01mreturn\u001b[39;00m \u001b[38;5;28;43mself\u001b[39;49m\u001b[38;5;241;43m.\u001b[39;49m\u001b[43m_getitem_bool_array\u001b[49m\u001b[43m(\u001b[49m\u001b[43mkey\u001b[49m\u001b[43m)\u001b[49m\n\u001b[0;32m   4095\u001b[0m \u001b[38;5;66;03m# We are left with two options: a single key, and a collection of keys,\u001b[39;00m\n\u001b[0;32m   4096\u001b[0m \u001b[38;5;66;03m# We interpret tuples as collections only for non-MultiIndex\u001b[39;00m\n\u001b[0;32m   4097\u001b[0m is_single_key \u001b[38;5;241m=\u001b[39m \u001b[38;5;28misinstance\u001b[39m(key, \u001b[38;5;28mtuple\u001b[39m) \u001b[38;5;129;01mor\u001b[39;00m \u001b[38;5;129;01mnot\u001b[39;00m is_list_like(key)\n",
      "File \u001b[1;32m~\\AppData\\Local\\Programs\\Python\\Python310\\lib\\site-packages\\pandas\\core\\frame.py:4149\u001b[0m, in \u001b[0;36mDataFrame._getitem_bool_array\u001b[1;34m(self, key)\u001b[0m\n\u001b[0;32m   4143\u001b[0m     \u001b[38;5;28;01mraise\u001b[39;00m \u001b[38;5;167;01mValueError\u001b[39;00m(\n\u001b[0;32m   4144\u001b[0m         \u001b[38;5;124mf\u001b[39m\u001b[38;5;124m\"\u001b[39m\u001b[38;5;124mItem wrong length \u001b[39m\u001b[38;5;132;01m{\u001b[39;00m\u001b[38;5;28mlen\u001b[39m(key)\u001b[38;5;132;01m}\u001b[39;00m\u001b[38;5;124m instead of \u001b[39m\u001b[38;5;132;01m{\u001b[39;00m\u001b[38;5;28mlen\u001b[39m(\u001b[38;5;28mself\u001b[39m\u001b[38;5;241m.\u001b[39mindex)\u001b[38;5;132;01m}\u001b[39;00m\u001b[38;5;124m.\u001b[39m\u001b[38;5;124m\"\u001b[39m\n\u001b[0;32m   4145\u001b[0m     )\n\u001b[0;32m   4147\u001b[0m \u001b[38;5;66;03m# check_bool_indexer will throw exception if Series key cannot\u001b[39;00m\n\u001b[0;32m   4148\u001b[0m \u001b[38;5;66;03m# be reindexed to match DataFrame rows\u001b[39;00m\n\u001b[1;32m-> 4149\u001b[0m key \u001b[38;5;241m=\u001b[39m \u001b[43mcheck_bool_indexer\u001b[49m\u001b[43m(\u001b[49m\u001b[38;5;28;43mself\u001b[39;49m\u001b[38;5;241;43m.\u001b[39;49m\u001b[43mindex\u001b[49m\u001b[43m,\u001b[49m\u001b[43m \u001b[49m\u001b[43mkey\u001b[49m\u001b[43m)\u001b[49m\n\u001b[0;32m   4151\u001b[0m \u001b[38;5;28;01mif\u001b[39;00m key\u001b[38;5;241m.\u001b[39mall():\n\u001b[0;32m   4152\u001b[0m     \u001b[38;5;28;01mreturn\u001b[39;00m \u001b[38;5;28mself\u001b[39m\u001b[38;5;241m.\u001b[39mcopy(deep\u001b[38;5;241m=\u001b[39m\u001b[38;5;28;01mNone\u001b[39;00m)\n",
      "File \u001b[1;32m~\\AppData\\Local\\Programs\\Python\\Python310\\lib\\site-packages\\pandas\\core\\indexing.py:2662\u001b[0m, in \u001b[0;36mcheck_bool_indexer\u001b[1;34m(index, key)\u001b[0m\n\u001b[0;32m   2660\u001b[0m indexer \u001b[38;5;241m=\u001b[39m result\u001b[38;5;241m.\u001b[39mindex\u001b[38;5;241m.\u001b[39mget_indexer_for(index)\n\u001b[0;32m   2661\u001b[0m \u001b[38;5;28;01mif\u001b[39;00m \u001b[38;5;241m-\u001b[39m\u001b[38;5;241m1\u001b[39m \u001b[38;5;129;01min\u001b[39;00m indexer:\n\u001b[1;32m-> 2662\u001b[0m     \u001b[38;5;28;01mraise\u001b[39;00m IndexingError(\n\u001b[0;32m   2663\u001b[0m         \u001b[38;5;124m\"\u001b[39m\u001b[38;5;124mUnalignable boolean Series provided as \u001b[39m\u001b[38;5;124m\"\u001b[39m\n\u001b[0;32m   2664\u001b[0m         \u001b[38;5;124m\"\u001b[39m\u001b[38;5;124mindexer (index of the boolean Series and of \u001b[39m\u001b[38;5;124m\"\u001b[39m\n\u001b[0;32m   2665\u001b[0m         \u001b[38;5;124m\"\u001b[39m\u001b[38;5;124mthe indexed object do not match).\u001b[39m\u001b[38;5;124m\"\u001b[39m\n\u001b[0;32m   2666\u001b[0m     )\n\u001b[0;32m   2668\u001b[0m result \u001b[38;5;241m=\u001b[39m result\u001b[38;5;241m.\u001b[39mtake(indexer)\n\u001b[0;32m   2670\u001b[0m \u001b[38;5;66;03m# fall through for boolean\u001b[39;00m\n",
      "\u001b[1;31mIndexingError\u001b[0m: Unalignable boolean Series provided as indexer (index of the boolean Series and of the indexed object do not match)."
     ]
    }
   ],
   "source": [
    "df1[(df1['Agency'].value_counts()  <= 1)]"
   ]
  },
  {
   "cell_type": "code",
   "execution_count": 21,
   "id": "98a5b756-1ba2-48ef-b73f-c8ff049da377",
   "metadata": {},
   "outputs": [
    {
     "data": {
      "text/plain": [
       "array(['Buy Rent Shelters', 'Kenya Classic Homes',\n",
       "       'Absolute Estate Agents', 'A1 Properties Limited',\n",
       "       'Pmc Estates Limited', 'Lizmor Properties',\n",
       "       'Mambo Properties Enterprise', 'Wealthlink Realtors Ltd',\n",
       "       'Naftal Properties', 'Dakima Home International',\n",
       "       'Opus Properties', 'Realty Plus', 'Pam Golding Properties',\n",
       "       'Yellow Market', 'Hyra Real Estate Ltd',\n",
       "       'Dunhill Consulting Limited', 'Green Knight Properties',\n",
       "       'Kitheka Musyoka', 'Real Management Services 2002Limited',\n",
       "       'Estate Masters Limited', 'Homekenya24',\n",
       "       'Habitat Realtors International Ltd', 'Royani Properties Limited',\n",
       "       'Unique Casles Management Ltd', 'Wainaina Real Estate Agents',\n",
       "       'Havilaplus Estates Ltd', 'Ngong Hills Agency',\n",
       "       'Chelezo Residency', 'Origin Homes', 'Cfs Homes',\n",
       "       'Canaan Properties', 'Kimachas Enterprises', 'The Epic Properties',\n",
       "       'Westside Real Estate', 'Tysons Limited', 'Crystal Valuers Ltd',\n",
       "       'Swiveltrend Ltd', 'Sunland Real Estates Limited', 'Cmt Realtors',\n",
       "       'Sema Estate Agents', 'Civic Capital', 'Furaha Properties',\n",
       "       'Pc Properties Real Estate Agency', 'Mazz Prestines',\n",
       "       'Axis Assets Limited', 'Tuvilani Ventures Enterprice',\n",
       "       'Impeller Projects Ltd', 'Symonns Realty', 'Ric Realtors',\n",
       "       'Kaisa Ventures Kenya Limited', 'Crowne Estates', 'Benford Homes',\n",
       "       'Almond Estate', 'Fitsher Homes Ltd', 'Eden Height Realty',\n",
       "       'Washington Homes Kenya', 'Home Care Estates Ltd',\n",
       "       'Trisums Investments Company Limited', 'Shingles Kenya Limited',\n",
       "       'Springtide Properties Limited', 'Edlon Group Limited',\n",
       "       'Range Wide Properties', 'El Roi Properties', 'Avic International',\n",
       "       'Malazo Realtors', 'Pmm Properties', 'Visions Place',\n",
       "       'Regent Management Ltd', 'Prince Classic Homes', 'Ever Forgarden ',\n",
       "       'Cyham Properties', 'Casapiu Holdings Limited',\n",
       "       'Apogee Realty Homes', 'Tussy Realtors', 'Azizi Realtors',\n",
       "       'Serene Valley Apartments',\n",
       "       'Citiscape Valuers And Estate Agents Ltd', 'Homeowners Eye',\n",
       "       'Expo Properties', 'Phillavilla', 'Prudential Green Ville',\n",
       "       'Apricotsolutions Limited', 'Rescom Ventures Ltd',\n",
       "       'Kingslink Ventures', 'Landmark Realtors Ltd', 'Abec Real Estate',\n",
       "       'Acurate Homes Limited', 'Property Matrix',\n",
       "       'City Homes Kenya Real Estate', 'Diamond City Villas',\n",
       "       'Miamu Properties Limited', 'Fairdeal Properties Limited',\n",
       "       'Vaal Real Estate', 'Blue Falcon Estate Agent', 'Tulua Meraki',\n",
       "       'Levindia Properties', 'Gimco Limited', 'Links Properties',\n",
       "       'Prime Lands', 'Masterways Properties Ltd',\n",
       "       'Dalizu Holdings Limited', 'Hanspace Limited', 'Fredrick Kimathi',\n",
       "       'Liflac Properties', 'Splendor Holdings', 'Splendour Real Estate',\n",
       "       'Red Knot Limited', 'Paradigm Homes', 'Lavingtonmanagement',\n",
       "       'Ace Realtors Limited', 'Capstone Properties',\n",
       "       'Fuzone Pride Investment', 'Gemac Properties',\n",
       "       'Rayalink Properties', 'Ogaye Enterprises', 'Nickville Shelters',\n",
       "       'Jazari Homes', 'Hilltrust Consult', 'Vsb Properties Limited',\n",
       "       'Nguso Realtors', 'Coralinternational Ltd', 'Spark Properties',\n",
       "       'Geoscape Global Limited', 'Cloud Real Estate',\n",
       "       'Olympia Gold Real Estate', 'Medallion Systems',\n",
       "       'Chawan Business Venture', 'David Kiambi',\n",
       "       'Franic Villa Properties', 'Blueline Properties 1023',\n",
       "       'Sir Francis Marketingconsultants Ltd', 'Urban Hut',\n",
       "       'Afrique Properties Limited', 'Lighthouse Homes Limited',\n",
       "       'Yc Real Estate Limited', 'Orion Valuers', 'Knight Frank',\n",
       "       'Eastwood Consulting Ltd', 'Greenday Properties',\n",
       "       'J M Mccarthy Properties Ltd', 'Landmark Top Solutions',\n",
       "       'Hassconsult', 'Stop Properties Real Estate', 'Property Point',\n",
       "       'Right Fit Properties', 'Ws Properties Limited', 'Cheska Agencies',\n",
       "       'Laserservices Ltd', 'Bliss And Loom', 'Rejima Homes Ltd',\n",
       "       'Lamplighters Agency', 'Dmus Realtors', 'A List Real Estate',\n",
       "       'Unique Listings Limited', 'Sky Limits Ventures',\n",
       "       'Simkar Group Limited', 'Liko Limited', 'Antel Limited',\n",
       "       'Halifax Estate Agency', 'Wellington Ndola', 'Dayfield Agencies',\n",
       "       'Falcon Sight Properties', 'Jusa Home Limited',\n",
       "       'Furnished Rentals', 'Jakharris Africa Ltd', 'Njambi Warui',\n",
       "       'Exella Realty', 'Ring Kenya Ltd', 'Castles Cabins Realtors',\n",
       "       'Allione Real Estate', 'Fit Property', 'Gerryville Homes',\n",
       "       'Good Living Properties Limited',\n",
       "       'Royal Properties Market Limited', 'Cobalt Consulting',\n",
       "       'Henley Green Realty', 'The Houswitch Haven Ltd',\n",
       "       'Taji Suburbs Ltd', 'Keensell Ventures', 'Archstone Realtors',\n",
       "       'Cura International Limited', 'Calmillers_Holding_Ltd',\n",
       "       'Kensimenterprises', 'Zone East Africa', 'Proptech Kenya Limited',\n",
       "       'Vimar Properties', 'Hold Kenya Investments Limited',\n",
       "       'Royalgen Estates', 'Highend Consulting', 'Ensuite Realtors',\n",
       "       'Blue Zone Properties', 'Cass Homes Limited', 'Sunflag Kenya',\n",
       "       'Rainbow Properties Limited'], dtype=object)"
      ]
     },
     "execution_count": 21,
     "metadata": {},
     "output_type": "execute_result"
    }
   ],
   "source": [
    "df1['Agency'].unique()"
   ]
  },
  {
   "cell_type": "code",
   "execution_count": 24,
   "id": "d0cb8848-4251-4823-9003-a5f8552f8670",
   "metadata": {},
   "outputs": [
    {
     "data": {
      "text/plain": [
       "'Buy Rent SheltersKenya Classic HomesAbsolute Estate AgentsA1 Properties LimitedPmc Estates LimitedLizmor PropertiesMambo Properties EnterpriseWealthlink Realtors LtdPmc Estates LimitedNaftal PropertiesDakima Home InternationalOpus PropertiesRealty PlusPam Golding PropertiesYellow MarketHyra Real Estate LtdDunhill Consulting LimitedGreen Knight PropertiesKitheka MusyokaReal Management Services 2002LimitedEstate Masters LimitedHomekenya24Kitheka MusyokaEstate Masters LimitedEstate Masters LimitedHabitat Realtors International LtdRoyani Properties LimitedUnique Casles Management LtdEstate Masters LimitedWainaina Real Estate AgentsHavilaplus Estates LtdNgong Hills AgencyEstate Masters LimitedChelezo ResidencyOrigin HomesOpus PropertiesCfs HomesPmc Estates LimitedCanaan PropertiesEstate Masters LimitedEstate Masters LimitedHavilaplus Estates LtdUnique Casles Management LtdEstate Masters LimitedKitheka MusyokaHavilaplus Estates LtdKimachas EnterprisesThe Epic PropertiesWestside Real EstateWainaina Real Estate AgentsTysons LimitedCrystal Valuers LtdSwiveltrend LtdSunland Real Estates LimitedHomekenya24Kimachas EnterprisesEstate Masters LimitedKitheka MusyokaSwiveltrend LtdPmc Estates LimitedCmt RealtorsHavilaplus Estates LtdHavilaplus Estates LtdHavilaplus Estates LtdSema Estate AgentsHavilaplus Estates LtdSwiveltrend LtdCmt RealtorsHavilaplus Estates LtdRealty PlusKitheka MusyokaOpus PropertiesSwiveltrend LtdHomekenya24Civic CapitalHavilaplus Estates LtdSunland Real Estates LimitedFuraha PropertiesCfs HomesPc Properties Real Estate AgencyCfs HomesSwiveltrend LtdSunland Real Estates LimitedMazz PrestinesHabitat Realtors International LtdCanaan PropertiesCivic CapitalKitheka MusyokaAxis Assets LimitedSwiveltrend LtdSunland Real Estates LimitedKimachas EnterprisesTuvilani Ventures EnterpriceCivic CapitalWestside Real EstateAxis Assets LimitedImpeller Projects LtdHabitat Realtors International LtdSymonns RealtyRic RealtorsKaisa Ventures Kenya LimitedSwiveltrend LtdSwiveltrend LtdCrowne EstatesKimachas EnterprisesBenford HomesYellow MarketAlmond EstateSwiveltrend LtdFitsher Homes LtdEden Height RealtyWashington Homes KenyaFitsher Homes LtdHome Care Estates LtdTrisums Investments Company LimitedHomekenya24Shingles Kenya LimitedSwiveltrend LtdHabitat Realtors International LtdHome Care Estates LtdSpringtide Properties LimitedSwiveltrend LtdEdlon Group LimitedRealty PlusRange Wide PropertiesEl Roi PropertiesAvic InternationalMalazo RealtorsPmc Estates LimitedPmm PropertiesCivic CapitalVisions PlaceSwiveltrend LtdRegent Management LtdHabitat Realtors International LtdKimachas EnterprisesPrince Classic HomesEver Forgarden Cyham PropertiesPmm PropertiesCasapiu Holdings LimitedBuy Rent SheltersGreen Knight PropertiesSwiveltrend LtdReal Management Services 2002LimitedKimachas EnterprisesWealthlink Realtors LtdMazz PrestinesCivic CapitalHabitat Realtors International LtdBuy Rent SheltersApogee Realty HomesAxis Assets LimitedTussy RealtorsRoyani Properties LimitedHabitat Realtors International LtdAzizi RealtorsReal Management Services 2002LimitedSerene Valley ApartmentsCitiscape Valuers And Estate Agents LtdHomeowners EyeAxis Assets LimitedCivic CapitalSwiveltrend LtdExpo PropertiesKimachas EnterprisesKimachas EnterprisesYellow MarketBuy Rent SheltersWealthlink Realtors LtdCivic CapitalKitheka MusyokaPhillavillaSwiveltrend LtdSwiveltrend LtdPrudential Green VilleApricotsolutions LimitedNaftal PropertiesRescom Ventures LtdMazz PrestinesCivic CapitalKingslink VenturesAxis Assets LimitedSwiveltrend LtdSwiveltrend LtdSwiveltrend LtdSwiveltrend LtdLandmark Realtors LtdAbec Real EstateHomekenya24Acurate Homes LimitedHavilaplus Estates LtdUnique Casles Management LtdAxis Assets LimitedProperty MatrixAxis Assets LimitedHabitat Realtors International LtdMazz PrestinesHavilaplus Estates LtdAxis Assets LimitedAbec Real EstateCity Homes Kenya Real EstatePhillavillaOpus PropertiesSwiveltrend LtdCanaan PropertiesHabitat Realtors International LtdDiamond City VillasRange Wide PropertiesHomekenya24Miamu Properties LimitedBuy Rent SheltersPmc Estates LimitedRescom Ventures LtdCivic CapitalCivic CapitalApricotsolutions LimitedHomekenya24Homekenya24Kimachas EnterprisesAcurate Homes LimitedAcurate Homes LimitedShingles Kenya LimitedPmc Estates LimitedCivic CapitalApogee Realty HomesOpus PropertiesSwiveltrend LtdSwiveltrend LtdTuvilani Ventures EnterpriceFairdeal Properties LimitedVaal Real EstateAcurate Homes LimitedEver Forgarden Mazz PrestinesHavilaplus Estates LtdHavilaplus Estates LtdBlue Falcon Estate AgentTussy RealtorsTussy RealtorsTrisums Investments Company LimitedOpus PropertiesSunland Real Estates LimitedPhillavillaPam Golding PropertiesTulua MerakiDiamond City VillasCivic CapitalSwiveltrend LtdTuvilani Ventures EnterpriceRange Wide PropertiesRange Wide PropertiesBuy Rent SheltersBuy Rent SheltersWestside Real EstateRescom Ventures LtdCfs HomesDiamond City VillasCanaan PropertiesFairdeal Properties LimitedRoyani Properties LimitedRoyani Properties LimitedRoyani Properties LimitedPmc Estates LimitedCivic CapitalCasapiu Holdings LimitedLevindia PropertiesLandmark Realtors LtdGimco LimitedRegent Management LtdReal Management Services 2002LimitedPam Golding PropertiesLinks PropertiesFitsher Homes LtdNaftal PropertiesDunhill Consulting LimitedFitsher Homes LtdAbsolute Estate AgentsLevindia PropertiesApogee Realty HomesUnique Casles Management LtdSwiveltrend LtdHomekenya24Crystal Valuers LtdPrime LandsGreen Knight PropertiesReal Management Services 2002LimitedRange Wide PropertiesRange Wide PropertiesEl Roi PropertiesBuy Rent SheltersWealthlink Realtors LtdMasterways Properties LtdKimachas EnterprisesRoyani Properties LimitedLinks PropertiesDalizu Holdings LimitedEver Forgarden Hanspace LimitedFredrick KimathiLevindia PropertiesLiflac PropertiesSplendor HoldingsSwiveltrend LtdSwiveltrend LtdCitiscape Valuers And Estate Agents LtdPrudential Green VilleRange Wide PropertiesAbsolute Estate AgentsMasterways Properties LtdWealthlink Realtors LtdWealthlink Realtors LtdFuraha PropertiesFuraha PropertiesSplendour Real EstateFitsher Homes LtdPmc Estates LimitedPhillavillaTrisums Investments Company LimitedTuvilani Ventures EnterpriceCanaan PropertiesAbec Real EstateHabitat Realtors International LtdPrudential Green VilleHomekenya24Range Wide PropertiesRoyani Properties LimitedOrigin HomesCitiscape Valuers And Estate Agents LtdAbsolute Estate AgentsPmc Estates LimitedPmc Estates LimitedKitheka MusyokaCivic CapitalRed Knot LimitedApogee Realty HomesWealthlink Realtors LtdRoyani Properties LimitedCity Homes Kenya Real EstateCrystal Valuers LtdCity Homes Kenya Real EstateSwiveltrend LtdRegent Management LtdCitiscape Valuers And Estate Agents LtdGreen Knight PropertiesCanaan PropertiesCanaan PropertiesReal Management Services 2002LimitedAbsolute Estate AgentsParadigm HomesLavingtonmanagementLavingtonmanagementPrudential Green VillePrudential Green VillePrudential Green VilleVaal Real EstateBuy Rent SheltersNaftal PropertiesNaftal PropertiesLiflac PropertiesCfs HomesPhillavillaSwiveltrend LtdSwiveltrend LtdAce Realtors LimitedReal Management Services 2002LimitedReal Management Services 2002LimitedKenya Classic HomesAzizi RealtorsRange Wide PropertiesRange Wide PropertiesWealthlink Realtors LtdWealthlink Realtors LtdDalizu Holdings LimitedFitsher Homes LtdRic RealtorsCfs HomesCfs HomesTysons LimitedCapstone PropertiesCrystal Valuers LtdKimachas EnterprisesBuy Rent SheltersDalizu Holdings LimitedFuzone Pride InvestmentFuzone Pride InvestmentFuzone Pride InvestmentGemac PropertiesPmm PropertiesRayalink PropertiesPhillavillaAzizi RealtorsKenya Classic HomesKenya Classic HomesMasterways Properties LtdMasterways Properties LtdLavingtonmanagementOgaye EnterprisesPrudential Green VillePrudential Green VilleWealthlink Realtors LtdWealthlink Realtors LtdNickville SheltersRescom Ventures LtdNaftal PropertiesEver Forgarden Cfs HomesCfs HomesSplendor HoldingsPhillavillaCanaan PropertiesAce Realtors LimitedGimco LimitedGreen Knight PropertiesGreen Knight PropertiesPam Golding PropertiesCrystal Valuers LtdKenya Classic HomesKenya Classic HomesRealty PlusPrudential Green VillePrudential Green VillePrudential Green VilleRange Wide PropertiesCity Homes Kenya Real EstateJazari HomesBuy Rent SheltersPrince Classic HomesPrince Classic HomesHilltrust ConsultFuraha PropertiesNaftal PropertiesNaftal PropertiesSplendour Real EstateParadigm HomesLavingtonmanagementYellow MarketHanspace LimitedVsb Properties LimitedNguso RealtorsAce Realtors LimitedCoralinternational LtdOpus PropertiesGreen Knight PropertiesCitiscape Valuers And Estate Agents LtdPrudential Green VillePrudential Green VillePrudential Green VillePrudential Green VillePrudential Green VilleRange Wide PropertiesCitiscape Valuers And Estate Agents LtdKimachas EnterprisesBuy Rent SheltersLavingtonmanagementYellow MarketFuzone Pride InvestmentPmc Estates LimitedPmc Estates LimitedNaftal PropertiesGemac PropertiesCfs HomesRescom Ventures LtdSplendor HoldingsPhillavillaSpark PropertiesApogee Realty HomesSymonns RealtyWealthlink Realtors LtdPhillavillaCoralinternational LtdPrudential Green VillePhillavillaLavingtonmanagementPrince Classic HomesOpus PropertiesPrime LandsReal Management Services 2002LimitedRealty PlusPrudential Green VilleRoyani Properties LimitedRoyani Properties LimitedRoyani Properties LimitedRoyani Properties LimitedPrudential Green VillePrudential Green VillePrudential Green VilleGeoscape Global LimitedSunland Real Estates LimitedWealthlink Realtors LtdCloud Real EstateOlympia Gold Real EstateNickville SheltersPmc Estates LimitedRescom Ventures LtdNaftal PropertiesMedallion SystemsCanaan PropertiesPhillavillaChawan Business VentureAce Realtors LimitedDavid KiambiTuvilani Ventures EnterpriceAzizi RealtorsReal Management Services 2002LimitedReal Management Services 2002LimitedFranic Villa PropertiesCity Homes Kenya Real EstateHomekenya24Blueline Properties 1023City Homes Kenya Real EstateAbsolute Estate AgentsSir Francis Marketingconsultants LtdBenford HomesOrigin HomesRoyani Properties LimitedWealthlink Realtors LtdHilltrust ConsultKaisa Ventures Kenya LimitedUrban HutAfrique Properties LimitedPc Properties Real Estate AgencyLighthouse Homes LimitedPmm PropertiesPc Properties Real Estate AgencySplendor HoldingsSplendor HoldingsSplendor HoldingsOpus PropertiesAce Realtors LimitedPrudential Green VillePrudential Green VilleReal Management Services 2002LimitedPam Golding PropertiesCrystal Valuers LtdCrowne EstatesYc Real Estate LimitedAbsolute Estate AgentsAbsolute Estate AgentsRoyani Properties LimitedYellow MarketFitsher Homes LtdFitsher Homes LtdCfs HomesNaftal PropertiesSplendor HoldingsSplendor HoldingsRoyani Properties LimitedTysons LimitedOgaye EnterprisesCoralinternational LtdOpus PropertiesAce Realtors LimitedRegent Management LtdRegent Management LtdPam Golding PropertiesAce Realtors LimitedPrudential Green VillePrudential Green VillePrudential Green VilleBlueline Properties 1023Origin HomesOrigin HomesOrigin HomesBuy Rent SheltersOrion ValuersWealthlink Realtors LtdWealthlink Realtors LtdWestside Real EstateNaftal PropertiesRayalink PropertiesAbsolute Estate AgentsAbsolute Estate AgentsParadigm HomesParadigm HomesRoyani Properties LimitedYellow MarketPmc Estates LimitedKnight FrankCasapiu Holdings LimitedCfs HomesPc Properties Real Estate AgencyLandmark Realtors LtdKenya Classic HomesKenya Classic HomesKenya Classic HomesAzizi RealtorsHabitat Realtors International LtdHabitat Realtors International LtdPrudential Green VillePrudential Green VillePrudential Green VillePrudential Green VillePrudential Green VillePrudential Green VillePrudential Green VilleParadigm HomesBlueline Properties 1023Blueline Properties 1023Royani Properties LimitedEver Forgarden Paradigm HomesApogee Realty HomesCfs HomesCfs HomesCfs HomesPc Properties Real Estate AgencyCoralinternational LtdGreen Knight PropertiesGreen Knight PropertiesEastwood Consulting LtdPrime LandsPrime LandsPrudential Green VillePrudential Green VillePrudential Green VillePrudential Green VilleCapstone PropertiesEden Height RealtyReal Management Services 2002LimitedPam Golding PropertiesPam Golding PropertiesAzizi RealtorsAbsolute Estate AgentsAbsolute Estate AgentsAbsolute Estate AgentsJazari HomesParadigm HomesParadigm HomesRoyani Properties LimitedLavingtonmanagementBuy Rent SheltersYellow MarketShingles Kenya LimitedSplendour Real EstateCfs HomesCfs HomesCfs HomesNaftal PropertiesNaftal PropertiesNaftal PropertiesAfrique Properties LimitedAfrique Properties LimitedSplendor HoldingsGreenday PropertiesCrystal Valuers LtdPmm PropertiesJ M Mccarthy Properties LtdLandmark Top SolutionsAce Realtors LimitedFranic Villa PropertiesAbsolute Estate AgentsAbsolute Estate AgentsPam Golding PropertiesPam Golding PropertiesCrystal Valuers LtdGreen Knight PropertiesGreen Knight PropertiesHassconsultStop Properties Real EstateEdlon Group LimitedHabitat Realtors International LtdRealty PlusPrudential Green VillePrudential Green VillePrudential Green VillePrudential Green VillePrudential Green VilleCapstone PropertiesCity Homes Kenya Real EstateOrigin HomesJazari HomesPrudential Green VilleCity Homes Kenya Real EstateOrigin HomesJazari HomesBuy Rent SheltersBuy Rent SheltersWealthlink Realtors LtdHilltrust ConsultHilltrust ConsultCloud Real EstateRescom Ventures LtdNaftal PropertiesNaftal PropertiesCfs HomesProperty PointProperty PointBenford HomesPhillavillaPhillavillaCoralinternational LtdCanaan PropertiesGreen Knight PropertiesPrudential Green VilleRealty PlusRayalink PropertiesAbsolute Estate AgentsAbsolute Estate AgentsAbsolute Estate AgentsVaal Real EstateRight Fit PropertiesCapstone PropertiesRoyani Properties LimitedOrigin HomesOrigin HomesWealthlink Realtors LtdBuy Rent SheltersBuy Rent SheltersSplendour Real EstateNaftal PropertiesNaftal PropertiesWestside Real EstateWs Properties LimitedCheska AgenciesApogee Realty HomesRoyani Properties LimitedSwiveltrend LtdGreen Knight PropertiesGreen Knight PropertiesPrudential Green VillePrudential Green VillePrudential Green VillePrudential Green VillePrudential Green VilleSunland Real Estates LimitedCity Homes Kenya Real EstateLaserservices LtdOrigin HomesAbsolute Estate AgentsCloud Real EstateFuzone Pride InvestmentNaftal PropertiesBliss And LoomRejima Homes LtdCasapiu Holdings LimitedSplendor HoldingsSplendor HoldingsPhillavillaLamplighters AgencyFranic Villa PropertiesPrince Classic HomesCoralinternational LtdTysons LimitedPam Golding PropertiesPam Golding PropertiesPam Golding PropertiesPam Golding PropertiesEdlon Group LimitedCitiscape Valuers And Estate Agents LtdTysons LimitedGreen Knight PropertiesFranic Villa PropertiesAbsolute Estate AgentsBlueline Properties 1023Yellow MarketYellow MarketDmus RealtorsFuzone Pride InvestmentPrudential Green VillePrudential Green VilleWealthlink Realtors LtdDmus RealtorsWestside Real EstateAbsolute Estate AgentsYellow MarketYellow MarketFuzone Pride InvestmentPmc Estates LimitedCasapiu Holdings LimitedA List Real EstateCoralinternational LtdOpus PropertiesKenya Classic HomesCitiscape Valuers And Estate Agents LtdHassconsultAbec Real EstatePrudential Green VillePrudential Green VilleRealty PlusRayalink PropertiesMasterways Properties LtdMasterways Properties LtdShingles Kenya LimitedWealthlink Realtors LtdLandmark Top SolutionsWestside Real EstateEver Forgarden Axis Assets LimitedCfs HomesPhillavillaUnique Listings LimitedGreen Knight PropertiesCitiscape Valuers And Estate Agents LtdAce Realtors LimitedCoralinternational LtdCanaan PropertiesMambo Properties EnterprisePrudential Green VilleCity Homes Kenya Real EstateBlueline Properties 1023Origin HomesOrigin HomesSky Limits VenturesPam Golding PropertiesCrystal Valuers LtdSimkar Group LimitedAbsolute Estate AgentsAbsolute Estate AgentsParadigm HomesYellow MarketYellow MarketWestside Real EstateNaftal PropertiesApogee Realty HomesLiko LimitedUnique Casles Management LtdTrisums Investments Company LimitedAntel LimitedHanspace LimitedHalifax Estate AgencyPam Golding PropertiesKimachas EnterprisesBenford HomesAbsolute Estate AgentsOgaye EnterprisesPam Golding PropertiesWellington NdolaCoralinternational LtdCoralinternational LtdSwiveltrend LtdAce Realtors LimitedAce Realtors LimitedPam Golding PropertiesKenya Classic HomesKenya Classic HomesMambo Properties EnterpriseAzizi RealtorsAzizi RealtorsRealty PlusCapstone PropertiesAbsolute Estate AgentsParadigm HomesDmus RealtorsPrudential Green VillePrudential Green VillePrudential Green VilleCity Homes Kenya Real EstateCity Homes Kenya Real EstateYc Real Estate LimitedBenford HomesNickville SheltersAbsolute Estate AgentsDayfield AgenciesParadigm HomesFalcon Sight PropertiesSplendour Real EstateHanspace LimitedDunhill Consulting LimitedJusa Home LimitedCfs HomesPc Properties Real Estate AgencyPc Properties Real Estate AgencyFurnished RentalsPmm PropertiesTrisums Investments Company LimitedDunhill Consulting LimitedJakharris Africa LtdJakharris Africa LtdLighthouse Homes LimitedLighthouse Homes LimitedSplendor HoldingsTrisums Investments Company LimitedCoralinternational LtdNjambi WaruiAce Realtors LimitedPam Golding PropertiesKenya Classic HomesKenya Classic HomesPrudential Green VillePrudential Green VilleBlueline Properties 1023City Homes Kenya Real EstateAbsolute Estate AgentsBuy Rent SheltersWealthlink Realtors LtdOlympia Gold Real EstateCivic CapitalLighthouse Homes LimitedPmm PropertiesJ M Mccarthy Properties LtdSplendor HoldingsBuy Rent SheltersExella RealtyCanaan PropertiesTysons LimitedPrudential Green VillePrudential Green VilleCapstone PropertiesRing Kenya LtdCity Homes Kenya Real EstateBlueline Properties 1023Blueline Properties 1023Ogaye EnterprisesWealthlink Realtors LtdCloud Real EstatePam Golding PropertiesKenya Classic HomesAbsolute Estate AgentsAbsolute Estate AgentsAbsolute Estate AgentsAbsolute Estate AgentsAbsolute Estate AgentsVaal Real EstateMalazo RealtorsParadigm HomesParadigm HomesBuy Rent SheltersBuy Rent SheltersBuy Rent SheltersBuy Rent SheltersSymonns RealtyHilltrust ConsultCastles Cabins RealtorsWestside Real EstateNaftal PropertiesApogee Realty HomesAllione Real EstateFit PropertyOlympia Gold Real EstateCasapiu Holdings LimitedPc Properties Real Estate AgencyPc Properties Real Estate AgencyPhillavillaPmm PropertiesJ M Mccarthy Properties LtdAce Realtors LimitedPam Golding PropertiesKenya Classic HomesMambo Properties EnterpriseMambo Properties EnterpriseRegent Management LtdCapstone PropertiesAbsolute Estate AgentsAbsolute Estate AgentsParadigm HomesPrudential Green VillePrudential Green VillePrudential Green VilleDakima Home InternationalDakima Home InternationalFurnished RentalsWealthlink Realtors LtdCoralinternational LtdCoralinternational LtdHassconsultHassconsultMambo Properties EnterpriseMambo Properties EnterpriseRegent Management LtdPam Golding PropertiesPrudential Green VillePrudential Green VilleRoyani Properties LimitedRoyani Properties LimitedBuy Rent SheltersCastles Cabins RealtorsA List Real EstateTulua MerakiTulua MerakiUnique Casles Management LtdPmm PropertiesOpus PropertiesSwiveltrend LtdAce Realtors LimitedAce Realtors LimitedStop Properties Real EstateCanaan PropertiesPrudential Green VillePrudential Green VilleGimco LimitedAbsolute Estate AgentsParadigm HomesGerryville HomesGerryville HomesKingslink VenturesJ M Mccarthy Properties LtdCrystal Valuers LtdRoyani Properties LimitedBuy Rent SheltersFalcon Sight PropertiesNguso RealtorsBuy Rent SheltersChelezo ResidencyCoralinternational LtdKenya Classic HomesKenya Classic HomesKenya Classic HomesKenya Classic HomesKenya Classic HomesMambo Properties EnterpriseMambo Properties EnterpriseGreen Knight PropertiesGreen Knight PropertiesRegent Management LtdAzizi RealtorsMiamu Properties LimitedParadigm HomesParadigm HomesRoyani Properties LimitedOgaye EnterprisesFit PropertyPrudential Green VillePrudential Green VilleWealthlink Realtors LtdApricotsolutions LimitedApricotsolutions LimitedLandmark Top SolutionsLandmark Top SolutionsParadigm HomesParadigm HomesRoyani Properties LimitedFit PropertyGood Living Properties LimitedWs Properties LimitedLizmor PropertiesDunhill Consulting LimitedCasapiu Holdings LimitedPc Properties Real Estate AgencyFurnished RentalsPmm PropertiesPc Properties Real Estate AgencyGreen Knight PropertiesCanaan PropertiesDunhill Consulting LimitedJ M Mccarthy Properties LtdCoralinternational LtdCoralinternational LtdCanaan PropertiesGimco LimitedHabitat Realtors International LtdMambo Properties EnterpriseGreen Knight PropertiesRegent Management LtdPam Golding PropertiesPam Golding PropertiesPam Golding PropertiesPam Golding PropertiesAzizi RealtorsPrudential Green VillePrudential Green VillePrudential Green VillePrudential Green VillePrudential Green VillePrudential Green VillePrudential Green VilleSema Estate AgentsRoyal Properties Market LimitedAbsolute Estate AgentsKimachas EnterprisesVaal Real EstateCobalt ConsultingYellow MarketHilltrust ConsultHilltrust ConsultHenley Green RealtyRoyal Properties Market LimitedOrigin HomesWealthlink Realtors LtdBuy Rent SheltersSky Limits VenturesSky Limits VenturesApricotsolutions LimitedSplendour Real EstateYellow MarketCobalt ConsultingWs Properties LimitedThe Houswitch Haven LtdTaji Suburbs LtdCfs HomesCfs HomesCfs HomesCasapiu Holdings LimitedCasapiu Holdings LimitedAllione Real EstateAfrique Properties LimitedLighthouse Homes LimitedSplendor HoldingsChawan Business VentureCoralinternational LtdSwiveltrend LtdGreen Knight PropertiesGreen Knight PropertiesGreen Knight PropertiesMambo Properties EnterpriseMambo Properties EnterpriseEastwood Consulting LtdPrudential Green VilleCity Homes Kenya Real EstateCity Homes Kenya Real EstateTysons LimitedPam Golding PropertiesBenford HomesOrigin HomesOrigin HomesSir Francis Marketingconsultants LtdOgaye EnterprisesBuy Rent SheltersYellow MarketCloud Real EstateDmus RealtorsRejima Homes LtdRejima Homes LtdRescom Ventures LtdDunhill Consulting LimitedNaftal PropertiesGerryville HomesAfrique Properties LimitedKeensell VenturesLighthouse Homes LimitedPmm PropertiesAzizi RealtorsAce Realtors LimitedJ M Mccarthy Properties LtdArchstone RealtorsDmus RealtorsApogee Realty HomesAbsolute Estate AgentsCapstone PropertiesDunhill Consulting LimitedCoralinternational LtdOpus PropertiesCanaan PropertiesPam Golding PropertiesKenya Classic HomesCitiscape Valuers And Estate Agents LtdMambo Properties EnterpriseGreen Knight PropertiesAzizi RealtorsAzizi RealtorsPrudential Green VillePrudential Green VillePrudential Green VilleSunland Real Estates LimitedCura International LimitedWealthlink Realtors LtdFalcon Sight PropertiesTrisums Investments Company LimitedMambo Properties EnterpriseKenya Classic HomesAzizi RealtorsCanaan PropertiesCanaan PropertiesGreen Knight PropertiesGreen Knight PropertiesGreen Knight PropertiesSimkar Group LimitedSimkar Group LimitedEastwood Consulting LtdPrudential Green VillePrudential Green VillePrudential Green VilleRealty PlusRing Kenya LtdRing Kenya LtdCity Homes Kenya Real EstateRayalink PropertiesAbsolute Estate AgentsParadigm HomesYellow MarketSymonns RealtyCapstone PropertiesBlueline Properties 1023Royani Properties LimitedWealthlink Realtors LtdBuy Rent SheltersLandmark Top SolutionsLandmark Top SolutionsLandmark Top SolutionsFalcon Sight PropertiesWs Properties LimitedAfrique Properties LimitedSplendor HoldingsGreen Knight PropertiesKenya Classic HomesPrudential Green VillePrudential Green VilleSunland Real Estates LimitedEl Roi PropertiesTysons LimitedPam Golding PropertiesPam Golding PropertiesAzizi RealtorsRoyal Properties Market LimitedBenford HomesOrigin HomesOrigin HomesAbsolute Estate AgentsBuy Rent SheltersYellow MarketYellow MarketWealthlink Realtors LtdWs Properties LimitedWs Properties LimitedVsb Properties LimitedCasapiu Holdings LimitedCasapiu Holdings LimitedUrban HutCasapiu Holdings LimitedCasapiu Holdings LimitedAfrique Properties LimitedWs Properties LimitedCoralinternational LtdSimkar Group LimitedDayfield AgenciesBuy Rent SheltersWealthlink Realtors LtdPmc Estates LimitedDunhill Consulting LimitedTrisums Investments Company LimitedCanaan PropertiesFranic Villa PropertiesGeoscape Global LimitedRoyal Properties Market LimitedRayalink PropertiesOrigin HomesBuy Rent SheltersBuy Rent SheltersBuy Rent SheltersNaftal PropertiesWestside Real EstateCapstone PropertiesOrigin HomesBuy Rent SheltersBuy Rent SheltersBuy Rent SheltersFit PropertyWestside Real EstateRealty PlusCoralinternational LtdCoralinternational LtdCoralinternational LtdCoralinternational LtdCanaan PropertiesGimco LimitedEastwood Consulting LtdPam Golding PropertiesPam Golding PropertiesRegent Management LtdRealty PlusExpo PropertiesParadigm HomesDmus RealtorsFit PropertyCity Homes Kenya Real EstateBenford HomesBuy Rent SheltersWealthlink Realtors LtdHilltrust ConsultA1 Properties LimitedA1 Properties LimitedDakima Home InternationalWs Properties LimitedWs Properties LimitedWs Properties LimitedWs Properties LimitedThe Houswitch Haven LtdCfs HomesKeensell VenturesChawan Business VentureJ M Mccarthy Properties LtdJ M Mccarthy Properties LtdAce Realtors LimitedEastwood Consulting LtdTysons LimitedMambo Properties EnterpriseGreen Knight PropertiesGreen Knight PropertiesRegent Management LtdRegent Management LtdPam Golding PropertiesPam Golding PropertiesEden Height RealtyEden Height RealtyAbsolute Estate AgentsAbsolute Estate AgentsDayfield AgenciesYellow MarketCloud Real EstateFit PropertyGeoscape Global LimitedCapstone PropertiesCapstone PropertiesAntel LimitedBenford HomesWealthlink Realtors LtdBuy Rent SheltersBuy Rent SheltersCloud Real EstateYellow MarketFit PropertyNickville SheltersPmc Estates LimitedWs Properties LimitedWs Properties LimitedHavilaplus Estates LtdKeensell VenturesJakharris Africa LtdPc Properties Real Estate AgencyPmm PropertiesTussy RealtorsJ M Mccarthy Properties LtdMambo Properties EnterpriseDalizu Holdings LimitedCoralinternational LtdGreen Knight PropertiesGreen Knight PropertiesGreen Knight PropertiesMambo Properties EnterpriseKenya Classic HomesPrudential Green VilleRealty PlusSunland Real Estates LimitedCity Homes Kenya Real EstatePam Golding PropertiesAzizi RealtorsMalazo RealtorsBenford HomesRayalink PropertiesAbsolute Estate AgentsVaal Real EstateVaal Real EstateJazari HomesRoyani Properties LimitedYellow MarketYellow MarketSky Limits VenturesWealthlink Realtors LtdWealthlink Realtors LtdWealthlink Realtors LtdWealthlink Realtors LtdHyra Real Estate LtdNaftal PropertiesNaftal PropertiesWs Properties LimitedVsb Properties LimitedCfs HomesLandmark Top SolutionsFit PropertyA1 Properties LimitedRejima Homes LtdRejima Homes LtdTaji Suburbs LtdChelezo ResidencyFurnished RentalsJ M Mccarthy Properties LtdReal Management Services 2002LimitedCoralinternational LtdStop Properties Real EstateBuy Rent SheltersWestside Real EstateWs Properties LimitedDunhill Consulting LimitedLighthouse Homes LimitedPrudential Green VillePrudential Green VilleGeoscape Global LimitedGeoscape Global LimitedAbsolute Estate AgentsOrion ValuersWealthlink Realtors LtdCasapiu Holdings LimitedLamplighters AgencyCalmillers_Holding_LtdRealty PlusPam Golding PropertiesShingles Kenya LimitedChawan Business VentureDalizu Holdings LimitedPam Golding PropertiesCoralinternational LtdMambo Properties EnterpriseMambo Properties EnterpriseKensimenterprisesPam Golding PropertiesReal Management Services 2002LimitedZone East AfricaZone East AfricaYellow MarketFit PropertyPrudential Green VilleSunland Real Estates LimitedBuy Rent SheltersSky Limits VenturesWealthlink Realtors LtdWealthlink Realtors LtdFalcon Sight PropertiesWs Properties LimitedProptech Kenya LimitedBliss And LoomPmm PropertiesGreenday PropertiesAvic InternationalPmm PropertiesVimar PropertiesDalizu Holdings LimitedProptech Kenya LimitedCoralinternational LtdSwiveltrend LtdAce Realtors LimitedMambo Properties EnterpriseKenya Classic HomesKenya Classic HomesPrudential Green VilleCity Homes Kenya Real EstateSir Francis Marketingconsultants LtdMasterways Properties LtdDayfield AgenciesOrigin HomesCura International LimitedRoyani Properties LimitedBuy Rent SheltersApricotsolutions LimitedWealthlink Realtors LtdWealthlink Realtors LtdDakima Home InternationalWestside Real EstateYellow MarketRight Fit PropertiesLandmark Top SolutionsA1 Properties LimitedA1 Properties LimitedRejima Homes LtdWs Properties LimitedWs Properties LimitedLiflac PropertiesGerryville HomesDunhill Consulting LimitedUrban HutFurnished RentalsSplendor HoldingsTrisums Investments Company LimitedCoralinternational LtdGreen Knight PropertiesGreen Knight PropertiesGreen Knight PropertiesCanaan PropertiesMambo Properties EnterpriseMambo Properties EnterpriseMambo Properties EnterpriseMambo Properties EnterpriseRegent Management LtdEden Height RealtySunland Real Estates LimitedHalifax Estate AgencyBenford HomesOrigin HomesHold Kenya Investments LimitedRoyalgen EstatesWealthlink Realtors LtdWealthlink Realtors LtdCrystal Valuers LtdKenya Classic HomesAbsolute Estate AgentsMasterways Properties LtdDayfield AgenciesBuy Rent SheltersFuzone Pride InvestmentWs Properties LimitedMedallion SystemsLandmark Top SolutionsLandmark Top SolutionsThe Houswitch Haven LtdKeensell VenturesFurnished RentalsAce Realtors LimitedCanaan PropertiesCoralinternational LtdCanaan PropertiesDunhill Consulting LimitedPrudential Green VilleWealthlink Realtors LtdGood Living Properties LimitedGreenday PropertiesSky Limits VenturesA1 Properties LimitedFalcon Sight PropertiesWs Properties LimitedWs Properties LimitedOpus PropertiesGreen Knight PropertiesTysons LimitedKensimenterprisesEastwood Consulting LtdWealthlink Realtors LtdWs Properties LimitedFit PropertyStop Properties Real EstateMambo Properties EnterpriseMambo Properties EnterpriseMambo Properties EnterpriseMambo Properties EnterpriseMambo Properties EnterpriseKenya Classic HomesKenya Classic HomesGreen Knight PropertiesHighend ConsultingCapstone PropertiesAbsolute Estate AgentsParadigm HomesRoyani Properties LimitedOrigin HomesJazari HomesA1 Properties LimitedA1 Properties LimitedDakima Home InternationalCfs HomesUnique Casles Management LtdUnique Casles Management LtdKeensell VenturesJakharris Africa LtdRoyani Properties LimitedCoralinternational LtdCoralinternational LtdCoralinternational LtdCoralinternational LtdSimkar Group LimitedMambo Properties EnterpriseGreen Knight PropertiesPrime LandsPrudential Green VilleOrigin HomesBuy Rent SheltersBuy Rent SheltersWealthlink Realtors LtdWealthlink Realtors LtdBuy Rent SheltersBuy Rent SheltersOlympia Gold Real EstateNaftal PropertiesEnsuite RealtorsGreenday PropertiesJ M Mccarthy Properties LtdJ M Mccarthy Properties LtdHassconsultKenya Classic HomesCitiscape Valuers And Estate Agents LtdPrime LandsHalifax Estate AgencyCity Homes Kenya Real EstateOrigin HomesBuy Rent SheltersBuy Rent SheltersYellow MarketSymonns RealtyWealthlink Realtors LtdCloud Real EstateWs Properties LimitedCasapiu Holdings LimitedCoralinternational LtdPam Golding PropertiesPam Golding PropertiesFit PropertyWashington Homes KenyaCoralinternational LtdPrudential Green VilleGeoscape Global LimitedCapstone PropertiesPrudential Green VilleCoralinternational LtdKenya Classic HomesMambo Properties EnterpriseMambo Properties EnterpriseGreen Knight PropertiesRealty PlusCapstone PropertiesYellow MarketDmus RealtorsFit PropertyWealthlink Realtors LtdDmus RealtorsA1 Properties LimitedNaftal PropertiesNaftal PropertiesYellow MarketFit PropertyDakima Home InternationalWs Properties LimitedWs Properties LimitedBlue Zone PropertiesLizmor PropertiesGerryville HomesTaji Suburbs LtdDunhill Consulting LimitedCalmillers_Holding_LtdChelezo ResidencyFurnished RentalsFurnished RentalsDunhill Consulting LimitedKeensell VenturesSplendor HoldingsAce Realtors LimitedCoralinternational LtdMambo Properties EnterpriseMambo Properties EnterprisePam Golding PropertiesPam Golding PropertiesPam Golding PropertiesAzizi RealtorsPrime LandsRealty PlusRealty PlusHalifax Estate AgencyRing Kenya LtdSema Estate AgentsRayalink PropertiesSir Francis Marketingconsultants LtdYellow MarketYellow MarketAcurate Homes LimitedDmus RealtorsDmus RealtorsOrigin HomesOrigin HomesOrigin HomesWealthlink Realtors LtdWealthlink Realtors LtdWealthlink Realtors LtdDakima Home InternationalGood Living Properties LimitedGemac PropertiesBlue Zone PropertiesWs Properties LimitedWs Properties LimitedLizmor PropertiesLizmor PropertiesCfs HomesFurnished RentalsFurnished RentalsFurnished RentalsWealthlink Realtors LtdKeensell VenturesCasapiu Holdings LimitedJ M Mccarthy Properties LtdTrisums Investments Company LimitedCanaan PropertiesStop Properties Real EstateMambo Properties EnterpriseMambo Properties EnterpriseRegent Management LtdEastwood Consulting LtdCapstone PropertiesEl Roi PropertiesCity Homes Kenya Real EstateCity Homes Kenya Real EstateRegent Management LtdPam Golding PropertiesPam Golding PropertiesVaal Real EstateLavingtonmanagementYellow MarketYellow MarketWealthlink Realtors LtdWealthlink Realtors LtdWealthlink Realtors LtdApricotsolutions LimitedDmus RealtorsHilltrust ConsultRight Fit PropertiesNaftal PropertiesWs Properties LimitedVsb Properties LimitedAllione Real EstateCfs HomesUrban HutFit PropertySpark PropertiesFurnished RentalsFurnished RentalsFurnished RentalsJ M Mccarthy Properties LtdBuy Rent SheltersFurnished RentalsEnsuite RealtorsBuy Rent SheltersParadigm HomesDmus RealtorsPam Golding PropertiesMambo Properties EnterpriseMambo Properties EnterprisePam Golding PropertiesGimco LimitedPrudential Green VilleOrigin HomesJazari HomesSky Limits VenturesWealthlink Realtors LtdWealthlink Realtors LtdWealthlink Realtors LtdWealthlink Realtors LtdWealthlink Realtors LtdWealthlink Realtors LtdWealthlink Realtors LtdDakima Home InternationalDakima Home InternationalRejima Homes LtdRejima Homes LtdRejima Homes LtdWs Properties LimitedLizmor PropertiesTaji Suburbs LtdA List Real EstateAllione Real EstateGreenday PropertiesJ M Mccarthy Properties LtdDalizu Holdings LimitedCoralinternational LtdCoralinternational LtdOpus PropertiesCanaan PropertiesEastwood Consulting LtdMambo Properties EnterpriseMambo Properties EnterpriseMambo Properties EnterpriseGreen Knight PropertiesCass Homes LimitedAzizi RealtorsOrigin HomesWealthlink Realtors LtdOrigin HomesWealthlink Realtors LtdWealthlink Realtors LtdOlympia Gold Real EstateRejima Homes LtdWestside Real EstateWs Properties LimitedWs Properties LimitedLighthouse Homes LimitedEnsuite RealtorsCanaan PropertiesMambo Properties EnterpriseMambo Properties EnterpriseCass Homes LimitedCass Homes LimitedPrudential Green VilleHighend ConsultingWealthlink Realtors LtdPam Golding PropertiesSimkar Group LimitedCass Homes LimitedCass Homes LimitedSir Francis Marketingconsultants LtdBuy Rent SheltersFuraha PropertiesPmc Estates LimitedFit PropertyLizmor PropertiesLizmor PropertiesSunflag KenyaDalizu Holdings LimitedMambo Properties EnterpriseEden Height RealtyCalmillers_Holding_LtdAfrique Properties LimitedCanaan PropertiesDayfield AgenciesFalcon Sight PropertiesFit PropertyWs Properties LimitedCoralinternational LtdCoralinternational LtdGreen Knight PropertiesGeoscape Global LimitedPmc Estates LimitedWestside Real EstateCoralinternational LtdMambo Properties EnterpriseMambo Properties EnterpriseMambo Properties EnterpriseMambo Properties EnterpriseCapstone PropertiesPrudential Green VilleSky Limits VenturesHyra Real Estate LtdDakima Home InternationalDakima Home InternationalCastles Cabins RealtorsWs Properties LimitedWs Properties LimitedMambo Properties EnterpriseCrystal Valuers LtdCrystal Valuers LtdEden Height RealtyAbsolute Estate AgentsMasterways Properties LtdCloud Real EstateRejima Homes LtdDunhill Consulting LimitedFurnished RentalsFurnished RentalsSwiveltrend LtdGreen Knight PropertiesMambo Properties EnterpriseKenya Classic HomesCapstone PropertiesHalifax Estate AgencyPam Golding PropertiesPam Golding PropertiesGemac PropertiesFit PropertyA1 Properties LimitedThe Houswitch Haven LtdGerryville HomesFurnished RentalsPam Golding PropertiesApricotsolutions LimitedPrime LandsCapstone PropertiesRoyal Properties Market LimitedBuy Rent SheltersCloud Real EstateNaftal PropertiesCapstone PropertiesWealthlink Realtors LtdBuy Rent SheltersDakima Home InternationalCoralinternational LtdBuy Rent SheltersBuy Rent SheltersBuy Rent SheltersEden Height RealtyCoralinternational LtdCoralinternational LtdRainbow Properties LimitedMambo Properties EnterpriseGreen Knight PropertiesSimkar Group LimitedRealty PlusRing Kenya LtdRoyal Properties Market LimitedCity Homes Kenya Real EstateOrigin HomesOrigin HomesAvic InternationalDmus RealtorsA1 Properties LimitedGeoscape Global LimitedPmc Estates Limited'"
      ]
     },
     "execution_count": 24,
     "metadata": {},
     "output_type": "execute_result"
    }
   ],
   "source": [
    "df1['Agency'].sum()"
   ]
  },
  {
   "cell_type": "code",
   "execution_count": 25,
   "id": "a545dc7c-d29c-40e5-9cb3-9515dacc9acd",
   "metadata": {},
   "outputs": [
    {
     "data": {
      "text/plain": [
       "Agency            0\n",
       "Neighborhood      0\n",
       "Price             0\n",
       "link              0\n",
       "sq_mtrs           2\n",
       "Bedrooms          3\n",
       "Bathrooms       291\n",
       "dtype: int64"
      ]
     },
     "execution_count": 25,
     "metadata": {},
     "output_type": "execute_result"
    }
   ],
   "source": [
    "df1.isnull().sum()"
   ]
  },
  {
   "cell_type": "code",
   "execution_count": null,
   "id": "3796f7a7-f68f-429a-a815-e8499de1d7b3",
   "metadata": {},
   "outputs": [],
   "source": []
  }
 ],
 "metadata": {
  "kernelspec": {
   "display_name": "Python 3 (ipykernel)",
   "language": "python",
   "name": "python3"
  },
  "language_info": {
   "codemirror_mode": {
    "name": "ipython",
    "version": 3
   },
   "file_extension": ".py",
   "mimetype": "text/x-python",
   "name": "python",
   "nbconvert_exporter": "python",
   "pygments_lexer": "ipython3",
   "version": "3.10.5"
  }
 },
 "nbformat": 4,
 "nbformat_minor": 5
}
