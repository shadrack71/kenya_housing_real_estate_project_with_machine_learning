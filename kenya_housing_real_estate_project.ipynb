{
 "cells": [
  {
   "cell_type": "code",
   "execution_count": 1,
   "id": "e1f3d55b-ecc6-470f-9e33-64978983872a",
   "metadata": {},
   "outputs": [],
   "source": [
    "import pandas as pd\n",
    "import numpy as np\n",
    "from matplotlib import pyplot as plt\n",
    "from sklearn.model_selection import train_test_split\n",
    "from sklearn.model_selection import ShuffleSplit\n",
    "from sklearn.model_selection import cross_val_score\n",
    "from sklearn.model_selection import GridSearchCV\n",
    "from sklearn.linear_model import Lasso\n",
    "from sklearn.linear_model import LinearRegression\n",
    "from sklearn.tree import DecisionTreeRegressor\n",
    "from sklearn import svm\n",
    "from sklearn.ensemble import RandomForestClassifier\n",
    "from sklearn.linear_model import LogisticRegression\n",
    "import pickle\n",
    "import json\n",
    "%matplotlib inline\n"
   ]
  },
  {
   "cell_type": "code",
   "execution_count": 2,
   "id": "a0eba803-da36-4710-af4b-6ee6c1cb367d",
   "metadata": {},
   "outputs": [
    {
     "data": {
      "text/html": [
       "<div>\n",
       "<style scoped>\n",
       "    .dataframe tbody tr th:only-of-type {\n",
       "        vertical-align: middle;\n",
       "    }\n",
       "\n",
       "    .dataframe tbody tr th {\n",
       "        vertical-align: top;\n",
       "    }\n",
       "\n",
       "    .dataframe thead th {\n",
       "        text-align: right;\n",
       "    }\n",
       "</style>\n",
       "<table border=\"1\" class=\"dataframe\">\n",
       "  <thead>\n",
       "    <tr style=\"text-align: right;\">\n",
       "      <th></th>\n",
       "      <th>Agency</th>\n",
       "      <th>Neighborhood</th>\n",
       "      <th>Price</th>\n",
       "      <th>link</th>\n",
       "      <th>sq_mtrs</th>\n",
       "      <th>Bedrooms</th>\n",
       "      <th>Bathrooms</th>\n",
       "    </tr>\n",
       "  </thead>\n",
       "  <tbody>\n",
       "    <tr>\n",
       "      <th>0</th>\n",
       "      <td>Buy Rent Shelters</td>\n",
       "      <td>General Mathenge, Westlands</td>\n",
       "      <td>KSh 155,000</td>\n",
       "      <td>/listings/4-bedroom-apartment-for-rent-general...</td>\n",
       "      <td>4.0</td>\n",
       "      <td>4.0</td>\n",
       "      <td>4.0</td>\n",
       "    </tr>\n",
       "    <tr>\n",
       "      <th>1</th>\n",
       "      <td>Kenya Classic Homes</td>\n",
       "      <td>Kilimani, Dagoretti North</td>\n",
       "      <td>KSh 100,000</td>\n",
       "      <td>/listings/3-bedroom-apartment-for-rent-kiliman...</td>\n",
       "      <td>300.0</td>\n",
       "      <td>3.0</td>\n",
       "      <td>4.0</td>\n",
       "    </tr>\n",
       "    <tr>\n",
       "      <th>2</th>\n",
       "      <td>Absolute Estate Agents</td>\n",
       "      <td>Hatheru Rd,, Lavington, Dagoretti North</td>\n",
       "      <td>KSh 75,000</td>\n",
       "      <td>/listings/3-bedroom-apartment-for-rent-lavingt...</td>\n",
       "      <td>3.0</td>\n",
       "      <td>3.0</td>\n",
       "      <td>5.0</td>\n",
       "    </tr>\n",
       "    <tr>\n",
       "      <th>3</th>\n",
       "      <td>A1 Properties Limited</td>\n",
       "      <td>Kilimani, Dagoretti North</td>\n",
       "      <td>KSh 135,000</td>\n",
       "      <td>/listings/3-bedroom-apartment-for-rent-kiliman...</td>\n",
       "      <td>227.0</td>\n",
       "      <td>3.0</td>\n",
       "      <td>4.0</td>\n",
       "    </tr>\n",
       "    <tr>\n",
       "      <th>4</th>\n",
       "      <td>Pmc Estates Limited</td>\n",
       "      <td>Imara Daima, Embakasi</td>\n",
       "      <td>KSh 50,000</td>\n",
       "      <td>/listings/3-bedroom-apartment-for-rent-imara-d...</td>\n",
       "      <td>3.0</td>\n",
       "      <td>3.0</td>\n",
       "      <td>NaN</td>\n",
       "    </tr>\n",
       "  </tbody>\n",
       "</table>\n",
       "</div>"
      ],
      "text/plain": [
       "                   Agency                             Neighborhood  \\\n",
       "0       Buy Rent Shelters              General Mathenge, Westlands   \n",
       "1     Kenya Classic Homes                Kilimani, Dagoretti North   \n",
       "2  Absolute Estate Agents  Hatheru Rd,, Lavington, Dagoretti North   \n",
       "3   A1 Properties Limited                Kilimani, Dagoretti North   \n",
       "4     Pmc Estates Limited                    Imara Daima, Embakasi   \n",
       "\n",
       "         Price                                               link  sq_mtrs  \\\n",
       "0  KSh 155,000  /listings/4-bedroom-apartment-for-rent-general...      4.0   \n",
       "1  KSh 100,000  /listings/3-bedroom-apartment-for-rent-kiliman...    300.0   \n",
       "2   KSh 75,000  /listings/3-bedroom-apartment-for-rent-lavingt...      3.0   \n",
       "3  KSh 135,000  /listings/3-bedroom-apartment-for-rent-kiliman...    227.0   \n",
       "4   KSh 50,000  /listings/3-bedroom-apartment-for-rent-imara-d...      3.0   \n",
       "\n",
       "   Bedrooms  Bathrooms  \n",
       "0       4.0        4.0  \n",
       "1       3.0        4.0  \n",
       "2       3.0        5.0  \n",
       "3       3.0        4.0  \n",
       "4       3.0        NaN  "
      ]
     },
     "execution_count": 2,
     "metadata": {},
     "output_type": "execute_result"
    }
   ],
   "source": [
    "df1 = pd.read_csv('data/rent_apts.csv')\n",
    "df1.head()"
   ]
  },
  {
   "cell_type": "code",
   "execution_count": 3,
   "id": "0b4fbb8c-0bfb-4073-b587-211f1e0d0785",
   "metadata": {},
   "outputs": [
    {
     "data": {
      "text/html": [
       "<div>\n",
       "<style scoped>\n",
       "    .dataframe tbody tr th:only-of-type {\n",
       "        vertical-align: middle;\n",
       "    }\n",
       "\n",
       "    .dataframe tbody tr th {\n",
       "        vertical-align: top;\n",
       "    }\n",
       "\n",
       "    .dataframe thead th {\n",
       "        text-align: right;\n",
       "    }\n",
       "</style>\n",
       "<table border=\"1\" class=\"dataframe\">\n",
       "  <thead>\n",
       "    <tr style=\"text-align: right;\">\n",
       "      <th></th>\n",
       "      <th>sq_mtrs</th>\n",
       "      <th>Bedrooms</th>\n",
       "      <th>Bathrooms</th>\n",
       "    </tr>\n",
       "  </thead>\n",
       "  <tbody>\n",
       "    <tr>\n",
       "      <th>count</th>\n",
       "      <td>1846.000000</td>\n",
       "      <td>1845.000000</td>\n",
       "      <td>1557.000000</td>\n",
       "    </tr>\n",
       "    <tr>\n",
       "      <th>mean</th>\n",
       "      <td>327.226977</td>\n",
       "      <td>2.577778</td>\n",
       "      <td>2.595376</td>\n",
       "    </tr>\n",
       "    <tr>\n",
       "      <th>std</th>\n",
       "      <td>2048.784581</td>\n",
       "      <td>0.819399</td>\n",
       "      <td>1.000349</td>\n",
       "    </tr>\n",
       "    <tr>\n",
       "      <th>min</th>\n",
       "      <td>0.000000</td>\n",
       "      <td>0.000000</td>\n",
       "      <td>1.000000</td>\n",
       "    </tr>\n",
       "    <tr>\n",
       "      <th>25%</th>\n",
       "      <td>2.000000</td>\n",
       "      <td>2.000000</td>\n",
       "      <td>2.000000</td>\n",
       "    </tr>\n",
       "    <tr>\n",
       "      <th>50%</th>\n",
       "      <td>3.000000</td>\n",
       "      <td>3.000000</td>\n",
       "      <td>2.000000</td>\n",
       "    </tr>\n",
       "    <tr>\n",
       "      <th>75%</th>\n",
       "      <td>4.000000</td>\n",
       "      <td>3.000000</td>\n",
       "      <td>3.000000</td>\n",
       "    </tr>\n",
       "    <tr>\n",
       "      <th>max</th>\n",
       "      <td>40470.000000</td>\n",
       "      <td>6.000000</td>\n",
       "      <td>6.000000</td>\n",
       "    </tr>\n",
       "  </tbody>\n",
       "</table>\n",
       "</div>"
      ],
      "text/plain": [
       "            sq_mtrs     Bedrooms    Bathrooms\n",
       "count   1846.000000  1845.000000  1557.000000\n",
       "mean     327.226977     2.577778     2.595376\n",
       "std     2048.784581     0.819399     1.000349\n",
       "min        0.000000     0.000000     1.000000\n",
       "25%        2.000000     2.000000     2.000000\n",
       "50%        3.000000     3.000000     2.000000\n",
       "75%        4.000000     3.000000     3.000000\n",
       "max    40470.000000     6.000000     6.000000"
      ]
     },
     "execution_count": 3,
     "metadata": {},
     "output_type": "execute_result"
    }
   ],
   "source": [
    "df1.describe()"
   ]
  },
  {
   "cell_type": "code",
   "execution_count": 4,
   "id": "3bb2f5f2-f58e-44de-a5f0-137173846498",
   "metadata": {},
   "outputs": [
    {
     "name": "stdout",
     "output_type": "stream",
     "text": [
      "<class 'pandas.core.frame.DataFrame'>\n",
      "RangeIndex: 1848 entries, 0 to 1847\n",
      "Data columns (total 7 columns):\n",
      " #   Column        Non-Null Count  Dtype  \n",
      "---  ------        --------------  -----  \n",
      " 0   Agency        1848 non-null   object \n",
      " 1   Neighborhood  1848 non-null   object \n",
      " 2   Price         1848 non-null   object \n",
      " 3   link          1848 non-null   object \n",
      " 4   sq_mtrs       1846 non-null   float64\n",
      " 5   Bedrooms      1845 non-null   float64\n",
      " 6   Bathrooms     1557 non-null   float64\n",
      "dtypes: float64(3), object(4)\n",
      "memory usage: 101.2+ KB\n"
     ]
    }
   ],
   "source": [
    "df1.info()"
   ]
  },
  {
   "cell_type": "code",
   "execution_count": 15,
   "id": "7c1d5bb7-73b0-4fb1-a94d-4c7135ad3f55",
   "metadata": {},
   "outputs": [
    {
     "ename": "AttributeError",
     "evalue": "'numpy.ndarray' object has no attribute 'count'",
     "output_type": "error",
     "traceback": [
      "\u001b[1;31m---------------------------------------------------------------------------\u001b[0m",
      "\u001b[1;31mAttributeError\u001b[0m                            Traceback (most recent call last)",
      "Cell \u001b[1;32mIn[15], line 1\u001b[0m\n\u001b[1;32m----> 1\u001b[0m \u001b[43mdf1\u001b[49m\u001b[38;5;241;43m.\u001b[39;49m\u001b[43mAgency\u001b[49m\u001b[38;5;241;43m.\u001b[39;49m\u001b[43munique\u001b[49m\u001b[43m(\u001b[49m\u001b[43m)\u001b[49m\u001b[38;5;241;43m.\u001b[39;49m\u001b[43mcount\u001b[49m\n",
      "\u001b[1;31mAttributeError\u001b[0m: 'numpy.ndarray' object has no attribute 'count'"
     ]
    }
   ],
   "source": [
    "df1.Agency.unique().count"
   ]
  },
  {
   "cell_type": "code",
   "execution_count": 11,
   "id": "e8d5a876-ae8e-4ad9-ad93-050c01f36952",
   "metadata": {},
   "outputs": [
    {
     "data": {
      "text/plain": [
       "Neighborhood\n",
       ", Dennis Pritt, Kilimani, Dagoretti North            1\n",
       "01, Marula Lane, Kilimani, Dagoretti North           1\n",
       "04, kilimani, Kilimani, Dagoretti North              1\n",
       "1 Kilimani, Kilimani, Dagoretti North                1\n",
       "1 Ojijo, Parklands, Westlands                        1\n",
       "                                                    ..\n",
       "walk to valley arcade, Lavington, Dagoretti North    1\n",
       "wambugu road, 1st parkland, Parklands, Westlands     1\n",
       "westlands Avenue , Westlands Area, Westlands         1\n",
       "westlands, Westlands Area, Westlands                 2\n",
       "westlands, Westlands, Riverside, Westlands           1\n",
       "Name: Neighborhood, Length: 647, dtype: int64"
      ]
     },
     "execution_count": 11,
     "metadata": {},
     "output_type": "execute_result"
    }
   ],
   "source": [
    "df1.groupby('Neighborhood')['Neighborhood'].agg('count')"
   ]
  },
  {
   "cell_type": "code",
   "execution_count": 16,
   "id": "243f0b1d-603f-40ec-9536-433726fd48a5",
   "metadata": {},
   "outputs": [
    {
     "data": {
      "text/plain": [
       "Agency\n",
       "Prudential Green Ville            98\n",
       "Wealthlink Realtors Ltd           67\n",
       "Buy Rent Shelters                 59\n",
       "Pam Golding Properties            51\n",
       "Mambo Properties Enterprise       51\n",
       "                                  ..\n",
       "Archstone Realtors                 1\n",
       "Hold Kenya Investments Limited     1\n",
       "Royalgen Estates                   1\n",
       "Sunflag Kenya                      1\n",
       "Rainbow Properties Limited         1\n",
       "Name: count, Length: 194, dtype: int64"
      ]
     },
     "execution_count": 16,
     "metadata": {},
     "output_type": "execute_result"
    }
   ],
   "source": [
    "df1['Agency'].value_counts()"
   ]
  },
  {
   "cell_type": "code",
   "execution_count": 23,
   "id": "7d7d2600-2f6e-4d57-94e9-986325604595",
   "metadata": {
    "collapsed": true,
    "jupyter": {
     "outputs_hidden": true
    }
   },
   "outputs": [
    {
     "name": "stderr",
     "output_type": "stream",
     "text": [
      "C:\\Users\\user\\AppData\\Local\\Temp\\ipykernel_13676\\196160112.py:1: UserWarning: Boolean Series key will be reindexed to match DataFrame index.\n",
      "  df1[(df1['Agency'].value_counts()  <= 1)]\n"
     ]
    },
    {
     "ename": "IndexingError",
     "evalue": "Unalignable boolean Series provided as indexer (index of the boolean Series and of the indexed object do not match).",
     "output_type": "error",
     "traceback": [
      "\u001b[1;31m---------------------------------------------------------------------------\u001b[0m",
      "\u001b[1;31mIndexingError\u001b[0m                             Traceback (most recent call last)",
      "Cell \u001b[1;32mIn[23], line 1\u001b[0m\n\u001b[1;32m----> 1\u001b[0m \u001b[43mdf1\u001b[49m\u001b[43m[\u001b[49m\u001b[43m(\u001b[49m\u001b[43mdf1\u001b[49m\u001b[43m[\u001b[49m\u001b[38;5;124;43m'\u001b[39;49m\u001b[38;5;124;43mAgency\u001b[39;49m\u001b[38;5;124;43m'\u001b[39;49m\u001b[43m]\u001b[49m\u001b[38;5;241;43m.\u001b[39;49m\u001b[43mvalue_counts\u001b[49m\u001b[43m(\u001b[49m\u001b[43m)\u001b[49m\u001b[43m  \u001b[49m\u001b[38;5;241;43m<\u001b[39;49m\u001b[38;5;241;43m=\u001b[39;49m\u001b[43m \u001b[49m\u001b[38;5;241;43m1\u001b[39;49m\u001b[43m)\u001b[49m\u001b[43m]\u001b[49m\n",
      "File \u001b[1;32m~\\AppData\\Local\\Programs\\Python\\Python310\\lib\\site-packages\\pandas\\core\\frame.py:4093\u001b[0m, in \u001b[0;36mDataFrame.__getitem__\u001b[1;34m(self, key)\u001b[0m\n\u001b[0;32m   4091\u001b[0m \u001b[38;5;66;03m# Do we have a (boolean) 1d indexer?\u001b[39;00m\n\u001b[0;32m   4092\u001b[0m \u001b[38;5;28;01mif\u001b[39;00m com\u001b[38;5;241m.\u001b[39mis_bool_indexer(key):\n\u001b[1;32m-> 4093\u001b[0m     \u001b[38;5;28;01mreturn\u001b[39;00m \u001b[38;5;28;43mself\u001b[39;49m\u001b[38;5;241;43m.\u001b[39;49m\u001b[43m_getitem_bool_array\u001b[49m\u001b[43m(\u001b[49m\u001b[43mkey\u001b[49m\u001b[43m)\u001b[49m\n\u001b[0;32m   4095\u001b[0m \u001b[38;5;66;03m# We are left with two options: a single key, and a collection of keys,\u001b[39;00m\n\u001b[0;32m   4096\u001b[0m \u001b[38;5;66;03m# We interpret tuples as collections only for non-MultiIndex\u001b[39;00m\n\u001b[0;32m   4097\u001b[0m is_single_key \u001b[38;5;241m=\u001b[39m \u001b[38;5;28misinstance\u001b[39m(key, \u001b[38;5;28mtuple\u001b[39m) \u001b[38;5;129;01mor\u001b[39;00m \u001b[38;5;129;01mnot\u001b[39;00m is_list_like(key)\n",
      "File \u001b[1;32m~\\AppData\\Local\\Programs\\Python\\Python310\\lib\\site-packages\\pandas\\core\\frame.py:4149\u001b[0m, in \u001b[0;36mDataFrame._getitem_bool_array\u001b[1;34m(self, key)\u001b[0m\n\u001b[0;32m   4143\u001b[0m     \u001b[38;5;28;01mraise\u001b[39;00m \u001b[38;5;167;01mValueError\u001b[39;00m(\n\u001b[0;32m   4144\u001b[0m         \u001b[38;5;124mf\u001b[39m\u001b[38;5;124m\"\u001b[39m\u001b[38;5;124mItem wrong length \u001b[39m\u001b[38;5;132;01m{\u001b[39;00m\u001b[38;5;28mlen\u001b[39m(key)\u001b[38;5;132;01m}\u001b[39;00m\u001b[38;5;124m instead of \u001b[39m\u001b[38;5;132;01m{\u001b[39;00m\u001b[38;5;28mlen\u001b[39m(\u001b[38;5;28mself\u001b[39m\u001b[38;5;241m.\u001b[39mindex)\u001b[38;5;132;01m}\u001b[39;00m\u001b[38;5;124m.\u001b[39m\u001b[38;5;124m\"\u001b[39m\n\u001b[0;32m   4145\u001b[0m     )\n\u001b[0;32m   4147\u001b[0m \u001b[38;5;66;03m# check_bool_indexer will throw exception if Series key cannot\u001b[39;00m\n\u001b[0;32m   4148\u001b[0m \u001b[38;5;66;03m# be reindexed to match DataFrame rows\u001b[39;00m\n\u001b[1;32m-> 4149\u001b[0m key \u001b[38;5;241m=\u001b[39m \u001b[43mcheck_bool_indexer\u001b[49m\u001b[43m(\u001b[49m\u001b[38;5;28;43mself\u001b[39;49m\u001b[38;5;241;43m.\u001b[39;49m\u001b[43mindex\u001b[49m\u001b[43m,\u001b[49m\u001b[43m \u001b[49m\u001b[43mkey\u001b[49m\u001b[43m)\u001b[49m\n\u001b[0;32m   4151\u001b[0m \u001b[38;5;28;01mif\u001b[39;00m key\u001b[38;5;241m.\u001b[39mall():\n\u001b[0;32m   4152\u001b[0m     \u001b[38;5;28;01mreturn\u001b[39;00m \u001b[38;5;28mself\u001b[39m\u001b[38;5;241m.\u001b[39mcopy(deep\u001b[38;5;241m=\u001b[39m\u001b[38;5;28;01mNone\u001b[39;00m)\n",
      "File \u001b[1;32m~\\AppData\\Local\\Programs\\Python\\Python310\\lib\\site-packages\\pandas\\core\\indexing.py:2662\u001b[0m, in \u001b[0;36mcheck_bool_indexer\u001b[1;34m(index, key)\u001b[0m\n\u001b[0;32m   2660\u001b[0m indexer \u001b[38;5;241m=\u001b[39m result\u001b[38;5;241m.\u001b[39mindex\u001b[38;5;241m.\u001b[39mget_indexer_for(index)\n\u001b[0;32m   2661\u001b[0m \u001b[38;5;28;01mif\u001b[39;00m \u001b[38;5;241m-\u001b[39m\u001b[38;5;241m1\u001b[39m \u001b[38;5;129;01min\u001b[39;00m indexer:\n\u001b[1;32m-> 2662\u001b[0m     \u001b[38;5;28;01mraise\u001b[39;00m IndexingError(\n\u001b[0;32m   2663\u001b[0m         \u001b[38;5;124m\"\u001b[39m\u001b[38;5;124mUnalignable boolean Series provided as \u001b[39m\u001b[38;5;124m\"\u001b[39m\n\u001b[0;32m   2664\u001b[0m         \u001b[38;5;124m\"\u001b[39m\u001b[38;5;124mindexer (index of the boolean Series and of \u001b[39m\u001b[38;5;124m\"\u001b[39m\n\u001b[0;32m   2665\u001b[0m         \u001b[38;5;124m\"\u001b[39m\u001b[38;5;124mthe indexed object do not match).\u001b[39m\u001b[38;5;124m\"\u001b[39m\n\u001b[0;32m   2666\u001b[0m     )\n\u001b[0;32m   2668\u001b[0m result \u001b[38;5;241m=\u001b[39m result\u001b[38;5;241m.\u001b[39mtake(indexer)\n\u001b[0;32m   2670\u001b[0m \u001b[38;5;66;03m# fall through for boolean\u001b[39;00m\n",
      "\u001b[1;31mIndexingError\u001b[0m: Unalignable boolean Series provided as indexer (index of the boolean Series and of the indexed object do not match)."
     ]
    }
   ],
   "source": [
    "df1[(df1['Agency'].value_counts()  <= 1)]"
   ]
  },
  {
   "cell_type": "code",
   "execution_count": 21,
   "id": "98a5b756-1ba2-48ef-b73f-c8ff049da377",
   "metadata": {
    "scrolled": true
   },
   "outputs": [
    {
     "data": {
      "text/plain": [
       "array(['Buy Rent Shelters', 'Kenya Classic Homes',\n",
       "       'Absolute Estate Agents', 'A1 Properties Limited',\n",
       "       'Pmc Estates Limited', 'Lizmor Properties',\n",
       "       'Mambo Properties Enterprise', 'Wealthlink Realtors Ltd',\n",
       "       'Naftal Properties', 'Dakima Home International',\n",
       "       'Opus Properties', 'Realty Plus', 'Pam Golding Properties',\n",
       "       'Yellow Market', 'Hyra Real Estate Ltd',\n",
       "       'Dunhill Consulting Limited', 'Green Knight Properties',\n",
       "       'Kitheka Musyoka', 'Real Management Services 2002Limited',\n",
       "       'Estate Masters Limited', 'Homekenya24',\n",
       "       'Habitat Realtors International Ltd', 'Royani Properties Limited',\n",
       "       'Unique Casles Management Ltd', 'Wainaina Real Estate Agents',\n",
       "       'Havilaplus Estates Ltd', 'Ngong Hills Agency',\n",
       "       'Chelezo Residency', 'Origin Homes', 'Cfs Homes',\n",
       "       'Canaan Properties', 'Kimachas Enterprises', 'The Epic Properties',\n",
       "       'Westside Real Estate', 'Tysons Limited', 'Crystal Valuers Ltd',\n",
       "       'Swiveltrend Ltd', 'Sunland Real Estates Limited', 'Cmt Realtors',\n",
       "       'Sema Estate Agents', 'Civic Capital', 'Furaha Properties',\n",
       "       'Pc Properties Real Estate Agency', 'Mazz Prestines',\n",
       "       'Axis Assets Limited', 'Tuvilani Ventures Enterprice',\n",
       "       'Impeller Projects Ltd', 'Symonns Realty', 'Ric Realtors',\n",
       "       'Kaisa Ventures Kenya Limited', 'Crowne Estates', 'Benford Homes',\n",
       "       'Almond Estate', 'Fitsher Homes Ltd', 'Eden Height Realty',\n",
       "       'Washington Homes Kenya', 'Home Care Estates Ltd',\n",
       "       'Trisums Investments Company Limited', 'Shingles Kenya Limited',\n",
       "       'Springtide Properties Limited', 'Edlon Group Limited',\n",
       "       'Range Wide Properties', 'El Roi Properties', 'Avic International',\n",
       "       'Malazo Realtors', 'Pmm Properties', 'Visions Place',\n",
       "       'Regent Management Ltd', 'Prince Classic Homes', 'Ever Forgarden ',\n",
       "       'Cyham Properties', 'Casapiu Holdings Limited',\n",
       "       'Apogee Realty Homes', 'Tussy Realtors', 'Azizi Realtors',\n",
       "       'Serene Valley Apartments',\n",
       "       'Citiscape Valuers And Estate Agents Ltd', 'Homeowners Eye',\n",
       "       'Expo Properties', 'Phillavilla', 'Prudential Green Ville',\n",
       "       'Apricotsolutions Limited', 'Rescom Ventures Ltd',\n",
       "       'Kingslink Ventures', 'Landmark Realtors Ltd', 'Abec Real Estate',\n",
       "       'Acurate Homes Limited', 'Property Matrix',\n",
       "       'City Homes Kenya Real Estate', 'Diamond City Villas',\n",
       "       'Miamu Properties Limited', 'Fairdeal Properties Limited',\n",
       "       'Vaal Real Estate', 'Blue Falcon Estate Agent', 'Tulua Meraki',\n",
       "       'Levindia Properties', 'Gimco Limited', 'Links Properties',\n",
       "       'Prime Lands', 'Masterways Properties Ltd',\n",
       "       'Dalizu Holdings Limited', 'Hanspace Limited', 'Fredrick Kimathi',\n",
       "       'Liflac Properties', 'Splendor Holdings', 'Splendour Real Estate',\n",
       "       'Red Knot Limited', 'Paradigm Homes', 'Lavingtonmanagement',\n",
       "       'Ace Realtors Limited', 'Capstone Properties',\n",
       "       'Fuzone Pride Investment', 'Gemac Properties',\n",
       "       'Rayalink Properties', 'Ogaye Enterprises', 'Nickville Shelters',\n",
       "       'Jazari Homes', 'Hilltrust Consult', 'Vsb Properties Limited',\n",
       "       'Nguso Realtors', 'Coralinternational Ltd', 'Spark Properties',\n",
       "       'Geoscape Global Limited', 'Cloud Real Estate',\n",
       "       'Olympia Gold Real Estate', 'Medallion Systems',\n",
       "       'Chawan Business Venture', 'David Kiambi',\n",
       "       'Franic Villa Properties', 'Blueline Properties 1023',\n",
       "       'Sir Francis Marketingconsultants Ltd', 'Urban Hut',\n",
       "       'Afrique Properties Limited', 'Lighthouse Homes Limited',\n",
       "       'Yc Real Estate Limited', 'Orion Valuers', 'Knight Frank',\n",
       "       'Eastwood Consulting Ltd', 'Greenday Properties',\n",
       "       'J M Mccarthy Properties Ltd', 'Landmark Top Solutions',\n",
       "       'Hassconsult', 'Stop Properties Real Estate', 'Property Point',\n",
       "       'Right Fit Properties', 'Ws Properties Limited', 'Cheska Agencies',\n",
       "       'Laserservices Ltd', 'Bliss And Loom', 'Rejima Homes Ltd',\n",
       "       'Lamplighters Agency', 'Dmus Realtors', 'A List Real Estate',\n",
       "       'Unique Listings Limited', 'Sky Limits Ventures',\n",
       "       'Simkar Group Limited', 'Liko Limited', 'Antel Limited',\n",
       "       'Halifax Estate Agency', 'Wellington Ndola', 'Dayfield Agencies',\n",
       "       'Falcon Sight Properties', 'Jusa Home Limited',\n",
       "       'Furnished Rentals', 'Jakharris Africa Ltd', 'Njambi Warui',\n",
       "       'Exella Realty', 'Ring Kenya Ltd', 'Castles Cabins Realtors',\n",
       "       'Allione Real Estate', 'Fit Property', 'Gerryville Homes',\n",
       "       'Good Living Properties Limited',\n",
       "       'Royal Properties Market Limited', 'Cobalt Consulting',\n",
       "       'Henley Green Realty', 'The Houswitch Haven Ltd',\n",
       "       'Taji Suburbs Ltd', 'Keensell Ventures', 'Archstone Realtors',\n",
       "       'Cura International Limited', 'Calmillers_Holding_Ltd',\n",
       "       'Kensimenterprises', 'Zone East Africa', 'Proptech Kenya Limited',\n",
       "       'Vimar Properties', 'Hold Kenya Investments Limited',\n",
       "       'Royalgen Estates', 'Highend Consulting', 'Ensuite Realtors',\n",
       "       'Blue Zone Properties', 'Cass Homes Limited', 'Sunflag Kenya',\n",
       "       'Rainbow Properties Limited'], dtype=object)"
      ]
     },
     "execution_count": 21,
     "metadata": {},
     "output_type": "execute_result"
    }
   ],
   "source": [
    "df1['Agency'].unique()"
   ]
  },
  {
   "cell_type": "code",
   "execution_count": 29,
   "id": "d0cb8848-4251-4823-9003-a5f8552f8670",
   "metadata": {},
   "outputs": [
    {
     "data": {
      "text/plain": [
       "count                       1848\n",
       "unique                       194\n",
       "top       Prudential Green Ville\n",
       "freq                          98\n",
       "Name: Agency, dtype: object"
      ]
     },
     "execution_count": 29,
     "metadata": {},
     "output_type": "execute_result"
    }
   ],
   "source": [
    "df1['Agency'].describe()\n"
   ]
  },
  {
   "cell_type": "code",
   "execution_count": 25,
   "id": "a545dc7c-d29c-40e5-9cb3-9515dacc9acd",
   "metadata": {},
   "outputs": [
    {
     "data": {
      "text/plain": [
       "Agency            0\n",
       "Neighborhood      0\n",
       "Price             0\n",
       "link              0\n",
       "sq_mtrs           2\n",
       "Bedrooms          3\n",
       "Bathrooms       291\n",
       "dtype: int64"
      ]
     },
     "execution_count": 25,
     "metadata": {},
     "output_type": "execute_result"
    }
   ],
   "source": [
    "df1.isnull().sum()"
   ]
  },
  {
   "cell_type": "code",
   "execution_count": 30,
   "id": "3796f7a7-f68f-429a-a815-e8499de1d7b3",
   "metadata": {},
   "outputs": [
    {
     "data": {
      "text/plain": [
       "(1848, 7)"
      ]
     },
     "execution_count": 30,
     "metadata": {},
     "output_type": "execute_result"
    }
   ],
   "source": [
    "df1.shape\n"
   ]
  },
  {
   "cell_type": "code",
   "execution_count": 32,
   "id": "5965ec75-18aa-4951-bb92-795a57a26a99",
   "metadata": {},
   "outputs": [
    {
     "data": {
      "text/plain": [
       "<bound method Series.info of 0             Buy Rent Shelters\n",
       "1           Kenya Classic Homes\n",
       "2        Absolute Estate Agents\n",
       "3         A1 Properties Limited\n",
       "4           Pmc Estates Limited\n",
       "                 ...           \n",
       "1843         Avic International\n",
       "1844              Dmus Realtors\n",
       "1845      A1 Properties Limited\n",
       "1846    Geoscape Global Limited\n",
       "1847        Pmc Estates Limited\n",
       "Name: Agency, Length: 1848, dtype: object>"
      ]
     },
     "execution_count": 32,
     "metadata": {},
     "output_type": "execute_result"
    }
   ],
   "source": [
    "df1['Agency'].info"
   ]
  },
  {
   "cell_type": "code",
   "execution_count": 33,
   "id": "55d1ec4f-a59a-49ad-b3e7-8fcef3f94f87",
   "metadata": {},
   "outputs": [
    {
     "data": {
      "text/html": [
       "<div>\n",
       "<style scoped>\n",
       "    .dataframe tbody tr th:only-of-type {\n",
       "        vertical-align: middle;\n",
       "    }\n",
       "\n",
       "    .dataframe tbody tr th {\n",
       "        vertical-align: top;\n",
       "    }\n",
       "\n",
       "    .dataframe thead th {\n",
       "        text-align: right;\n",
       "    }\n",
       "</style>\n",
       "<table border=\"1\" class=\"dataframe\">\n",
       "  <thead>\n",
       "    <tr style=\"text-align: right;\">\n",
       "      <th></th>\n",
       "      <th>Agency</th>\n",
       "      <th>Neighborhood</th>\n",
       "      <th>Price</th>\n",
       "      <th>link</th>\n",
       "      <th>sq_mtrs</th>\n",
       "      <th>Bedrooms</th>\n",
       "      <th>Bathrooms</th>\n",
       "    </tr>\n",
       "  </thead>\n",
       "  <tbody>\n",
       "    <tr>\n",
       "      <th>0</th>\n",
       "      <td>Buy Rent Shelters</td>\n",
       "      <td>General Mathenge, Westlands</td>\n",
       "      <td>KSh 155,000</td>\n",
       "      <td>/listings/4-bedroom-apartment-for-rent-general...</td>\n",
       "      <td>4.0</td>\n",
       "      <td>4.0</td>\n",
       "      <td>4.0</td>\n",
       "    </tr>\n",
       "    <tr>\n",
       "      <th>1</th>\n",
       "      <td>Kenya Classic Homes</td>\n",
       "      <td>Kilimani, Dagoretti North</td>\n",
       "      <td>KSh 100,000</td>\n",
       "      <td>/listings/3-bedroom-apartment-for-rent-kiliman...</td>\n",
       "      <td>300.0</td>\n",
       "      <td>3.0</td>\n",
       "      <td>4.0</td>\n",
       "    </tr>\n",
       "    <tr>\n",
       "      <th>2</th>\n",
       "      <td>Absolute Estate Agents</td>\n",
       "      <td>Hatheru Rd,, Lavington, Dagoretti North</td>\n",
       "      <td>KSh 75,000</td>\n",
       "      <td>/listings/3-bedroom-apartment-for-rent-lavingt...</td>\n",
       "      <td>3.0</td>\n",
       "      <td>3.0</td>\n",
       "      <td>5.0</td>\n",
       "    </tr>\n",
       "    <tr>\n",
       "      <th>3</th>\n",
       "      <td>A1 Properties Limited</td>\n",
       "      <td>Kilimani, Dagoretti North</td>\n",
       "      <td>KSh 135,000</td>\n",
       "      <td>/listings/3-bedroom-apartment-for-rent-kiliman...</td>\n",
       "      <td>227.0</td>\n",
       "      <td>3.0</td>\n",
       "      <td>4.0</td>\n",
       "    </tr>\n",
       "    <tr>\n",
       "      <th>4</th>\n",
       "      <td>Pmc Estates Limited</td>\n",
       "      <td>Imara Daima, Embakasi</td>\n",
       "      <td>KSh 50,000</td>\n",
       "      <td>/listings/3-bedroom-apartment-for-rent-imara-d...</td>\n",
       "      <td>3.0</td>\n",
       "      <td>3.0</td>\n",
       "      <td>NaN</td>\n",
       "    </tr>\n",
       "    <tr>\n",
       "      <th>...</th>\n",
       "      <td>...</td>\n",
       "      <td>...</td>\n",
       "      <td>...</td>\n",
       "      <td>...</td>\n",
       "      <td>...</td>\n",
       "      <td>...</td>\n",
       "      <td>...</td>\n",
       "    </tr>\n",
       "    <tr>\n",
       "      <th>1843</th>\n",
       "      <td>Avic International</td>\n",
       "      <td>Laikipia Road, Kileleshwa, Dagoretti North</td>\n",
       "      <td>KSh 180,000</td>\n",
       "      <td>/listings/3-bedroom-apartment-for-rent-kileles...</td>\n",
       "      <td>3.0</td>\n",
       "      <td>3.0</td>\n",
       "      <td>NaN</td>\n",
       "    </tr>\n",
       "    <tr>\n",
       "      <th>1844</th>\n",
       "      <td>Dmus Realtors</td>\n",
       "      <td>Peponi road, Spring Valley, Westlands</td>\n",
       "      <td>KSh 180,000</td>\n",
       "      <td>/listings/2-bedroom-apartment-for-rent-spring-...</td>\n",
       "      <td>2.0</td>\n",
       "      <td>2.0</td>\n",
       "      <td>2.0</td>\n",
       "    </tr>\n",
       "    <tr>\n",
       "      <th>1845</th>\n",
       "      <td>A1 Properties Limited</td>\n",
       "      <td>Kileleshwa, Dagoretti North</td>\n",
       "      <td>KSh 180,000</td>\n",
       "      <td>/listings/furnished-4-bedroom-apartment-for-re...</td>\n",
       "      <td>4.0</td>\n",
       "      <td>4.0</td>\n",
       "      <td>5.0</td>\n",
       "    </tr>\n",
       "    <tr>\n",
       "      <th>1846</th>\n",
       "      <td>Geoscape Global Limited</td>\n",
       "      <td>Westlands Area, Westlands</td>\n",
       "      <td>KSh 180,000</td>\n",
       "      <td>/listings/4-bedroom-apartment-for-rent-westlan...</td>\n",
       "      <td>4.0</td>\n",
       "      <td>4.0</td>\n",
       "      <td>4.0</td>\n",
       "    </tr>\n",
       "    <tr>\n",
       "      <th>1847</th>\n",
       "      <td>Pmc Estates Limited</td>\n",
       "      <td>Kilimani, Dagoretti North</td>\n",
       "      <td>KSh 180,000</td>\n",
       "      <td>/listings/2-bedroom-apartment-for-rent-kiliman...</td>\n",
       "      <td>2.0</td>\n",
       "      <td>2.0</td>\n",
       "      <td>NaN</td>\n",
       "    </tr>\n",
       "  </tbody>\n",
       "</table>\n",
       "<p>1848 rows × 7 columns</p>\n",
       "</div>"
      ],
      "text/plain": [
       "                       Agency                                Neighborhood  \\\n",
       "0           Buy Rent Shelters                 General Mathenge, Westlands   \n",
       "1         Kenya Classic Homes                   Kilimani, Dagoretti North   \n",
       "2      Absolute Estate Agents     Hatheru Rd,, Lavington, Dagoretti North   \n",
       "3       A1 Properties Limited                   Kilimani, Dagoretti North   \n",
       "4         Pmc Estates Limited                       Imara Daima, Embakasi   \n",
       "...                       ...                                         ...   \n",
       "1843       Avic International  Laikipia Road, Kileleshwa, Dagoretti North   \n",
       "1844            Dmus Realtors       Peponi road, Spring Valley, Westlands   \n",
       "1845    A1 Properties Limited                 Kileleshwa, Dagoretti North   \n",
       "1846  Geoscape Global Limited                   Westlands Area, Westlands   \n",
       "1847      Pmc Estates Limited                   Kilimani, Dagoretti North   \n",
       "\n",
       "            Price                                               link  sq_mtrs  \\\n",
       "0     KSh 155,000  /listings/4-bedroom-apartment-for-rent-general...      4.0   \n",
       "1     KSh 100,000  /listings/3-bedroom-apartment-for-rent-kiliman...    300.0   \n",
       "2      KSh 75,000  /listings/3-bedroom-apartment-for-rent-lavingt...      3.0   \n",
       "3     KSh 135,000  /listings/3-bedroom-apartment-for-rent-kiliman...    227.0   \n",
       "4      KSh 50,000  /listings/3-bedroom-apartment-for-rent-imara-d...      3.0   \n",
       "...           ...                                                ...      ...   \n",
       "1843  KSh 180,000  /listings/3-bedroom-apartment-for-rent-kileles...      3.0   \n",
       "1844  KSh 180,000  /listings/2-bedroom-apartment-for-rent-spring-...      2.0   \n",
       "1845  KSh 180,000  /listings/furnished-4-bedroom-apartment-for-re...      4.0   \n",
       "1846  KSh 180,000  /listings/4-bedroom-apartment-for-rent-westlan...      4.0   \n",
       "1847  KSh 180,000  /listings/2-bedroom-apartment-for-rent-kiliman...      2.0   \n",
       "\n",
       "      Bedrooms  Bathrooms  \n",
       "0          4.0        4.0  \n",
       "1          3.0        4.0  \n",
       "2          3.0        5.0  \n",
       "3          3.0        4.0  \n",
       "4          3.0        NaN  \n",
       "...        ...        ...  \n",
       "1843       3.0        NaN  \n",
       "1844       2.0        2.0  \n",
       "1845       4.0        5.0  \n",
       "1846       4.0        4.0  \n",
       "1847       2.0        NaN  \n",
       "\n",
       "[1848 rows x 7 columns]"
      ]
     },
     "execution_count": 33,
     "metadata": {},
     "output_type": "execute_result"
    }
   ],
   "source": [
    "df1\n"
   ]
  },
  {
   "cell_type": "code",
   "execution_count": 34,
   "id": "7ea9bda7-785b-443a-b085-b111f8b18308",
   "metadata": {},
   "outputs": [
    {
     "data": {
      "text/plain": [
       "(1848, 6)"
      ]
     },
     "execution_count": 34,
     "metadata": {},
     "output_type": "execute_result"
    }
   ],
   "source": [
    "df2 = df1.drop(['link'],axis='columns')\n",
    "df2.shape"
   ]
  },
  {
   "cell_type": "code",
   "execution_count": 35,
   "id": "4eb05850-61c7-42cb-8067-e848ae08defa",
   "metadata": {},
   "outputs": [
    {
     "data": {
      "text/html": [
       "<div>\n",
       "<style scoped>\n",
       "    .dataframe tbody tr th:only-of-type {\n",
       "        vertical-align: middle;\n",
       "    }\n",
       "\n",
       "    .dataframe tbody tr th {\n",
       "        vertical-align: top;\n",
       "    }\n",
       "\n",
       "    .dataframe thead th {\n",
       "        text-align: right;\n",
       "    }\n",
       "</style>\n",
       "<table border=\"1\" class=\"dataframe\">\n",
       "  <thead>\n",
       "    <tr style=\"text-align: right;\">\n",
       "      <th></th>\n",
       "      <th>Agency</th>\n",
       "      <th>Neighborhood</th>\n",
       "      <th>Price</th>\n",
       "      <th>sq_mtrs</th>\n",
       "      <th>Bedrooms</th>\n",
       "      <th>Bathrooms</th>\n",
       "    </tr>\n",
       "  </thead>\n",
       "  <tbody>\n",
       "    <tr>\n",
       "      <th>0</th>\n",
       "      <td>Buy Rent Shelters</td>\n",
       "      <td>General Mathenge, Westlands</td>\n",
       "      <td>KSh 155,000</td>\n",
       "      <td>4.0</td>\n",
       "      <td>4.0</td>\n",
       "      <td>4.0</td>\n",
       "    </tr>\n",
       "    <tr>\n",
       "      <th>1</th>\n",
       "      <td>Kenya Classic Homes</td>\n",
       "      <td>Kilimani, Dagoretti North</td>\n",
       "      <td>KSh 100,000</td>\n",
       "      <td>300.0</td>\n",
       "      <td>3.0</td>\n",
       "      <td>4.0</td>\n",
       "    </tr>\n",
       "    <tr>\n",
       "      <th>2</th>\n",
       "      <td>Absolute Estate Agents</td>\n",
       "      <td>Hatheru Rd,, Lavington, Dagoretti North</td>\n",
       "      <td>KSh 75,000</td>\n",
       "      <td>3.0</td>\n",
       "      <td>3.0</td>\n",
       "      <td>5.0</td>\n",
       "    </tr>\n",
       "    <tr>\n",
       "      <th>3</th>\n",
       "      <td>A1 Properties Limited</td>\n",
       "      <td>Kilimani, Dagoretti North</td>\n",
       "      <td>KSh 135,000</td>\n",
       "      <td>227.0</td>\n",
       "      <td>3.0</td>\n",
       "      <td>4.0</td>\n",
       "    </tr>\n",
       "    <tr>\n",
       "      <th>4</th>\n",
       "      <td>Pmc Estates Limited</td>\n",
       "      <td>Imara Daima, Embakasi</td>\n",
       "      <td>KSh 50,000</td>\n",
       "      <td>3.0</td>\n",
       "      <td>3.0</td>\n",
       "      <td>NaN</td>\n",
       "    </tr>\n",
       "  </tbody>\n",
       "</table>\n",
       "</div>"
      ],
      "text/plain": [
       "                   Agency                             Neighborhood  \\\n",
       "0       Buy Rent Shelters              General Mathenge, Westlands   \n",
       "1     Kenya Classic Homes                Kilimani, Dagoretti North   \n",
       "2  Absolute Estate Agents  Hatheru Rd,, Lavington, Dagoretti North   \n",
       "3   A1 Properties Limited                Kilimani, Dagoretti North   \n",
       "4     Pmc Estates Limited                    Imara Daima, Embakasi   \n",
       "\n",
       "         Price  sq_mtrs  Bedrooms  Bathrooms  \n",
       "0  KSh 155,000      4.0       4.0        4.0  \n",
       "1  KSh 100,000    300.0       3.0        4.0  \n",
       "2   KSh 75,000      3.0       3.0        5.0  \n",
       "3  KSh 135,000    227.0       3.0        4.0  \n",
       "4   KSh 50,000      3.0       3.0        NaN  "
      ]
     },
     "execution_count": 35,
     "metadata": {},
     "output_type": "execute_result"
    }
   ],
   "source": [
    "df2.head()"
   ]
  },
  {
   "cell_type": "code",
   "execution_count": 36,
   "id": "5749719e-9848-485c-a2bb-dec3ed65150d",
   "metadata": {},
   "outputs": [
    {
     "data": {
      "text/plain": [
       "Agency            0\n",
       "Neighborhood      0\n",
       "Price             0\n",
       "sq_mtrs           2\n",
       "Bedrooms          3\n",
       "Bathrooms       291\n",
       "dtype: int64"
      ]
     },
     "execution_count": 36,
     "metadata": {},
     "output_type": "execute_result"
    }
   ],
   "source": [
    "df2.isnull().sum()"
   ]
  },
  {
   "cell_type": "code",
   "execution_count": 38,
   "id": "509bdbcb-9c2c-4387-b38e-d8f3db80da1c",
   "metadata": {},
   "outputs": [
    {
     "data": {
      "text/plain": [
       "<bound method IndexOpsMixin.value_counts of 0       False\n",
       "1       False\n",
       "2       False\n",
       "3       False\n",
       "4        True\n",
       "        ...  \n",
       "1843     True\n",
       "1844    False\n",
       "1845    False\n",
       "1846    False\n",
       "1847     True\n",
       "Name: Bathrooms, Length: 1848, dtype: bool>"
      ]
     },
     "execution_count": 38,
     "metadata": {},
     "output_type": "execute_result"
    }
   ],
   "source": [
    "df2.Bathrooms.isnull().value_counts"
   ]
  },
  {
   "cell_type": "code",
   "execution_count": null,
   "id": "4a144da4-f37c-43a4-a1cf-941399022c2f",
   "metadata": {},
   "outputs": [],
   "source": []
  }
 ],
 "metadata": {
  "kernelspec": {
   "display_name": "Python 3 (ipykernel)",
   "language": "python",
   "name": "python3"
  },
  "language_info": {
   "codemirror_mode": {
    "name": "ipython",
    "version": 3
   },
   "file_extension": ".py",
   "mimetype": "text/x-python",
   "name": "python",
   "nbconvert_exporter": "python",
   "pygments_lexer": "ipython3",
   "version": "3.10.5"
  }
 },
 "nbformat": 4,
 "nbformat_minor": 5
}
